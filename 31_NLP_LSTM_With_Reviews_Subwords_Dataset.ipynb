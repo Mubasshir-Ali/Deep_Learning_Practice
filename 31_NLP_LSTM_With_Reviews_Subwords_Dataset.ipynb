{
  "nbformat": 4,
  "nbformat_minor": 0,
  "metadata": {
    "colab": {
      "name": "31_NLP_LSTM_With_Reviews_Subwords_Dataset.ipynb",
      "provenance": [],
      "collapsed_sections": [],
      "authorship_tag": "ABX9TyPJfD7ZjqaoSCTn0JXPPvzm",
      "include_colab_link": true
    },
    "kernelspec": {
      "name": "python3",
      "display_name": "Python 3"
    },
    "accelerator": "GPU"
  },
  "cells": [
    {
      "cell_type": "markdown",
      "metadata": {
        "id": "view-in-github",
        "colab_type": "text"
      },
      "source": [
        "<a href=\"https://colab.research.google.com/github/Mubasshir-Ali/Deep_Learning_Practice/blob/master/31_NLP_LSTM_With_Reviews_Subwords_Dataset.ipynb\" target=\"_parent\"><img src=\"https://colab.research.google.com/assets/colab-badge.svg\" alt=\"Open In Colab\"/></a>"
      ]
    },
    {
      "cell_type": "markdown",
      "metadata": {
        "id": "BaW4HNe0Vkqy",
        "colab_type": "text"
      },
      "source": [
        "# Using LSTMs With The Subwords Dataset"
      ]
    },
    {
      "cell_type": "markdown",
      "metadata": {
        "id": "dTAiCt7xVqnt",
        "colab_type": "text"
      },
      "source": [
        "# Import TensorFlow And Related Functions"
      ]
    },
    {
      "cell_type": "code",
      "metadata": {
        "id": "LH89bFIQVPWt",
        "colab_type": "code",
        "colab": {}
      },
      "source": [
        "import tensorflow as tf\n",
        "\n",
        "from tensorflow.keras.preprocessing.sequence import pad_sequences"
      ],
      "execution_count": 0,
      "outputs": []
    },
    {
      "cell_type": "markdown",
      "metadata": {
        "id": "o8qDCjKrT-Wg",
        "colab_type": "text"
      },
      "source": [
        "# Get The Dataset\n",
        "We're going to use a dataset containing Amazon and Yelp reviews, with their related sentiment (1 for positive, 0 for negative)."
      ]
    },
    {
      "cell_type": "code",
      "metadata": {
        "id": "Yg6cr8jKT8Ah",
        "colab_type": "code",
        "outputId": "f728bc90-a53f-4e18-d954-8c2ab25fc3cd",
        "colab": {
          "base_uri": "https://localhost:8080/",
          "height": 322
        }
      },
      "source": [
        "!wget --no-check-certificate \\\n",
        "    -O /tmp/sentiment.csv https://drive.google.com/uc?id=13ySLC_ue6Umt9RJYSeM2t-V0kCv-4C-P"
      ],
      "execution_count": 0,
      "outputs": [
        {
          "output_type": "stream",
          "text": [
            "--2020-05-08 07:15:44--  https://drive.google.com/uc?id=13ySLC_ue6Umt9RJYSeM2t-V0kCv-4C-P\n",
            "Resolving drive.google.com (drive.google.com)... 74.125.143.113, 74.125.143.102, 74.125.143.101, ...\n",
            "Connecting to drive.google.com (drive.google.com)|74.125.143.113|:443... connected.\n",
            "HTTP request sent, awaiting response... 302 Moved Temporarily\n",
            "Location: https://doc-08-ak-docs.googleusercontent.com/docs/securesc/ha0ro937gcuc7l7deffksulhg5h7mbp1/02ar2ukan1stbra30ikrhlmj13u1bebj/1588922100000/11118900490791463723/*/13ySLC_ue6Umt9RJYSeM2t-V0kCv-4C-P [following]\n",
            "Warning: wildcards not supported in HTTP.\n",
            "--2020-05-08 07:15:44--  https://doc-08-ak-docs.googleusercontent.com/docs/securesc/ha0ro937gcuc7l7deffksulhg5h7mbp1/02ar2ukan1stbra30ikrhlmj13u1bebj/1588922100000/11118900490791463723/*/13ySLC_ue6Umt9RJYSeM2t-V0kCv-4C-P\n",
            "Resolving doc-08-ak-docs.googleusercontent.com (doc-08-ak-docs.googleusercontent.com)... 172.217.218.132, 2a00:1450:4013:c08::84\n",
            "Connecting to doc-08-ak-docs.googleusercontent.com (doc-08-ak-docs.googleusercontent.com)|172.217.218.132|:443... connected.\n",
            "HTTP request sent, awaiting response... 200 OK\n",
            "Length: 127831 (125K) [text/csv]\n",
            "Saving to: ‘/tmp/sentiment.csv’\n",
            "\n",
            "\r/tmp/sentiment.csv    0%[                    ]       0  --.-KB/s               \r/tmp/sentiment.csv  100%[===================>] 124.83K  --.-KB/s    in 0.001s  \n",
            "\n",
            "2020-05-08 07:15:45 (140 MB/s) - ‘/tmp/sentiment.csv’ saved [127831/127831]\n",
            "\n"
          ],
          "name": "stdout"
        }
      ]
    },
    {
      "cell_type": "code",
      "metadata": {
        "id": "8PKjzmvhqV8F",
        "colab_type": "code",
        "colab": {}
      },
      "source": [
        "import pandas as pd\n",
        "\n",
        "dataset = pd.read_csv('/tmp/sentiment.csv')\n",
        "\n",
        "# Just extract out sentences and labels first - we will create subwords here\n",
        "sentences = dataset['text'].tolist()\n",
        "labels = dataset['sentiment'].tolist()"
      ],
      "execution_count": 0,
      "outputs": []
    },
    {
      "cell_type": "code",
      "metadata": {
        "id": "tOqXMJZS65xc",
        "colab_type": "code",
        "outputId": "9ef07309-2616-4939-8353-9ca38c945225",
        "colab": {
          "base_uri": "https://localhost:8080/",
          "height": 171
        }
      },
      "source": [
        "# Print some example sentences and labels\n",
        "for x in range(2):\n",
        "  print(sentences[x])\n",
        "  print(labels[x])\n",
        "  print(\"\\n\")"
      ],
      "execution_count": 0,
      "outputs": [
        {
          "output_type": "stream",
          "text": [
            "So there is no way for me to plug it in here in the US unless I go by a converter.\n",
            "0\n",
            "\n",
            "\n",
            "Good case Excellent value.\n",
            "1\n",
            "\n",
            "\n"
          ],
          "name": "stdout"
        }
      ]
    },
    {
      "cell_type": "markdown",
      "metadata": {
        "id": "reVvDWWEqkD8",
        "colab_type": "text"
      },
      "source": [
        "# Create A Subwords Dataset\n",
        "We can use the existing Amazon and Yelp reviews dataset with tensorflow_datasets's SubwordTextEncoder functionality. SubwordTextEncoder.build_from_corpus() will create a tokenizer for us. You could also use this functionality to get subwords from a much larger corpus of text as well, but we'll just use our existing dataset here.\n",
        "\n",
        "The Amazon and Yelp dataset we are using isn't super large, so we'll create a subword vocab_size of only the 1,000 most common words, as well as cutting off each subword to be at most 5 characters."
      ]
    },
    {
      "cell_type": "code",
      "metadata": {
        "id": "hAzvOFtXqkbc",
        "colab_type": "code",
        "outputId": "1ed280ae-5bd5-40f5-82a6-908078b42b42",
        "colab": {
          "base_uri": "https://localhost:8080/",
          "height": 34
        }
      },
      "source": [
        "import tensorflow_datasets as tfds\n",
        "\n",
        "vocab_size = 1000\n",
        "tokenizer = tfds.features.text.SubwordTextEncoder.build_from_corpus(sentences, vocab_size, max_subword_length = 5)\n",
        "\n",
        "# How big is the vocab size?\n",
        "print(\"Vocab size is \", tokenizer.vocab_size)"
      ],
      "execution_count": 0,
      "outputs": [
        {
          "output_type": "stream",
          "text": [
            "Vocab size is  999\n"
          ],
          "name": "stdout"
        }
      ]
    },
    {
      "cell_type": "code",
      "metadata": {
        "id": "lCQXtZeJrYg1",
        "colab_type": "code",
        "outputId": "0c6306f0-5d14-49cf-cc85-41ff460e9cfe",
        "colab": {
          "base_uri": "https://localhost:8080/",
          "height": 541
        }
      },
      "source": [
        "# Check that the tokenizer works appropriately\n",
        "num = 5\n",
        "print(sentences[num])\n",
        "encoded = tokenizer.encode(sentences[num])\n",
        "print(encoded)\n",
        "\n",
        "# Separately print out each subword, decoded\n",
        "for i in encoded:\n",
        "  print(tokenizer.decode([i]))"
      ],
      "execution_count": 0,
      "outputs": [
        {
          "output_type": "stream",
          "text": [
            "I have to jiggle the plug to get it to line up right to get decent volume.\n",
            "[4, 31, 6, 849, 162, 450, 12, 1, 600, 438, 775, 6, 175, 14, 6, 55, 213, 159, 474, 775, 6, 175, 614, 380, 295, 148, 72, 789]\n",
            "I \n",
            "have \n",
            "to \n",
            "j\n",
            "ig\n",
            "gl\n",
            "e \n",
            "the \n",
            "pl\n",
            "ug\n",
            " \n",
            "to \n",
            "get \n",
            "it \n",
            "to \n",
            "li\n",
            "ne \n",
            "up \n",
            "right\n",
            " \n",
            "to \n",
            "get \n",
            "dec\n",
            "ent \n",
            "vo\n",
            "lu\n",
            "me\n",
            ".\n"
          ],
          "name": "stdout"
        }
      ]
    },
    {
      "cell_type": "markdown",
      "metadata": {
        "id": "YYcLYmBGr3Rk",
        "colab_type": "text"
      },
      "source": [
        "# Replace Sentence Data With Encoded Subwords\n",
        "Now, we'll re-create the dataset to be used for training by actually encoding each of the individual sentences. This is equivalent to text_to_sequences with the Tokenizer we used in earlier exercises."
      ]
    },
    {
      "cell_type": "code",
      "metadata": {
        "id": "rIvdur8Gr3rh",
        "colab_type": "code",
        "colab": {}
      },
      "source": [
        "for i, sentence in enumerate(sentences):\n",
        "  sentences[i] = tokenizer.encode(sentence)"
      ],
      "execution_count": 0,
      "outputs": []
    },
    {
      "cell_type": "code",
      "metadata": {
        "id": "OK3l7mvosNfL",
        "colab_type": "code",
        "outputId": "368245a4-18d7-43ee-fffd-49adb608503c",
        "colab": {
          "base_uri": "https://localhost:8080/",
          "height": 54
        }
      },
      "source": [
        "# Check the sentences are appropriately replaced\n",
        "print(sentences[5])"
      ],
      "execution_count": 0,
      "outputs": [
        {
          "output_type": "stream",
          "text": [
            "[4, 31, 6, 849, 162, 450, 12, 1, 600, 438, 775, 6, 175, 14, 6, 55, 213, 159, 474, 775, 6, 175, 614, 380, 295, 148, 72, 789]\n"
          ],
          "name": "stdout"
        }
      ]
    },
    {
      "cell_type": "markdown",
      "metadata": {
        "id": "v7pYSxuGsTPk",
        "colab_type": "text"
      },
      "source": [
        "# Final Pre-Processing\n",
        "Before training, we still need to pad the sequences, as well as split into training and test sets."
      ]
    },
    {
      "cell_type": "code",
      "metadata": {
        "id": "GODitcTdUF8z",
        "colab_type": "code",
        "colab": {}
      },
      "source": [
        "import numpy as np\n",
        "\n",
        "max_length = 50\n",
        "trunc_type = 'post'\n",
        "padding_type = 'post'\n",
        "\n",
        "# Pad all sentences\n",
        "sequences_padded = pad_sequences(sentences, maxlen = max_length, \n",
        "                                 padding = padding_type, truncating = trunc_type)\n",
        "\n",
        "# Separate out the sentences and labels into training and test sets\n",
        "training_size = int(len(sentences) * 0.8)\n",
        "\n",
        "training_sequences = sequences_padded[0: training_size]\n",
        "testing_sequences = sequences_padded[training_size:]\n",
        "training_labels = labels[0: training_size]\n",
        "testing_labels = labels[training_size:]\n",
        "\n",
        "# Make labels into numpy arrays for use with the network later\n",
        "training_labels_final = np.array(training_labels)\n",
        "testing_labels_final = np.array(testing_labels)"
      ],
      "execution_count": 0,
      "outputs": []
    },
    {
      "cell_type": "markdown",
      "metadata": {
        "id": "hIWmCsQWulul",
        "colab_type": "text"
      },
      "source": [
        "# Create The Model Using An Embedding"
      ]
    },
    {
      "cell_type": "code",
      "metadata": {
        "id": "f8lUg05UuoxR",
        "colab_type": "code",
        "outputId": "8dd9679f-f912-47df-f1a5-7fc01324ceda",
        "colab": {
          "base_uri": "https://localhost:8080/",
          "height": 286
        }
      },
      "source": [
        "embedding_dim = 16\n",
        "\n",
        "model = tf.keras.Sequential([\n",
        "   tf.keras.layers.Embedding(vocab_size, embedding_dim, input_length = max_length), \n",
        "   tf.keras.layers.GlobalAveragePooling1D(), \n",
        "   tf.keras.layers.Dense(6, activation  = 'relu'), \n",
        "   tf.keras.layers.Dense(1, activation = 'sigmoid')\n",
        "])\n",
        "\n",
        "model.summary()"
      ],
      "execution_count": 0,
      "outputs": [
        {
          "output_type": "stream",
          "text": [
            "Model: \"sequential\"\n",
            "_________________________________________________________________\n",
            "Layer (type)                 Output Shape              Param #   \n",
            "=================================================================\n",
            "embedding (Embedding)        (None, 50, 16)            16000     \n",
            "_________________________________________________________________\n",
            "global_average_pooling1d (Gl (None, 16)                0         \n",
            "_________________________________________________________________\n",
            "dense (Dense)                (None, 6)                 102       \n",
            "_________________________________________________________________\n",
            "dense_1 (Dense)              (None, 1)                 7         \n",
            "=================================================================\n",
            "Total params: 16,109\n",
            "Trainable params: 16,109\n",
            "Non-trainable params: 0\n",
            "_________________________________________________________________\n"
          ],
          "name": "stdout"
        }
      ]
    },
    {
      "cell_type": "markdown",
      "metadata": {
        "id": "wyMGYv2V8-hJ",
        "colab_type": "text"
      },
      "source": [
        "# Train The Model"
      ]
    },
    {
      "cell_type": "code",
      "metadata": {
        "id": "E8tQHcTdvWfp",
        "colab_type": "code",
        "outputId": "9d0def4f-ef09-46c5-88cb-dbb8c4a4fda2",
        "colab": {
          "base_uri": "https://localhost:8080/",
          "height": 1000
        }
      },
      "source": [
        "num_epochs = 30\n",
        "model.compile(loss = 'binary_crossentropy', optimizer = 'adam', metrics = ['accuracy'])\n",
        "history = model.fit(training_sequences, training_labels_final, epochs = num_epochs, validation_data = (testing_sequences, testing_labels_final))"
      ],
      "execution_count": 0,
      "outputs": [
        {
          "output_type": "stream",
          "text": [
            "Epoch 1/30\n",
            "50/50 [==============================] - 0s 7ms/step - loss: 0.6927 - accuracy: 0.5499 - val_loss: 0.6924 - val_accuracy: 0.5338\n",
            "Epoch 2/30\n",
            "50/50 [==============================] - 0s 4ms/step - loss: 0.6903 - accuracy: 0.6428 - val_loss: 0.6908 - val_accuracy: 0.5689\n",
            "Epoch 3/30\n",
            "50/50 [==============================] - 0s 4ms/step - loss: 0.6873 - accuracy: 0.6830 - val_loss: 0.6880 - val_accuracy: 0.7043\n",
            "Epoch 4/30\n",
            "50/50 [==============================] - 0s 4ms/step - loss: 0.6828 - accuracy: 0.7382 - val_loss: 0.6844 - val_accuracy: 0.6792\n",
            "Epoch 5/30\n",
            "50/50 [==============================] - 0s 4ms/step - loss: 0.6761 - accuracy: 0.7640 - val_loss: 0.6768 - val_accuracy: 0.7293\n",
            "Epoch 6/30\n",
            "50/50 [==============================] - 0s 4ms/step - loss: 0.6649 - accuracy: 0.7640 - val_loss: 0.6649 - val_accuracy: 0.7368\n",
            "Epoch 7/30\n",
            "50/50 [==============================] - 0s 4ms/step - loss: 0.6462 - accuracy: 0.7997 - val_loss: 0.6449 - val_accuracy: 0.7544\n",
            "Epoch 8/30\n",
            "50/50 [==============================] - 0s 4ms/step - loss: 0.6130 - accuracy: 0.8180 - val_loss: 0.6217 - val_accuracy: 0.7644\n",
            "Epoch 9/30\n",
            "50/50 [==============================] - 0s 4ms/step - loss: 0.5736 - accuracy: 0.8217 - val_loss: 0.6068 - val_accuracy: 0.7093\n",
            "Epoch 10/30\n",
            "50/50 [==============================] - 0s 4ms/step - loss: 0.5334 - accuracy: 0.8249 - val_loss: 0.5825 - val_accuracy: 0.7393\n",
            "Epoch 11/30\n",
            "50/50 [==============================] - 0s 4ms/step - loss: 0.4921 - accuracy: 0.8449 - val_loss: 0.5561 - val_accuracy: 0.7820\n",
            "Epoch 12/30\n",
            "50/50 [==============================] - 0s 4ms/step - loss: 0.4545 - accuracy: 0.8562 - val_loss: 0.5382 - val_accuracy: 0.7694\n",
            "Epoch 13/30\n",
            "50/50 [==============================] - 0s 4ms/step - loss: 0.4203 - accuracy: 0.8688 - val_loss: 0.5310 - val_accuracy: 0.7519\n",
            "Epoch 14/30\n",
            "50/50 [==============================] - 0s 4ms/step - loss: 0.3907 - accuracy: 0.8738 - val_loss: 0.5138 - val_accuracy: 0.7544\n",
            "Epoch 15/30\n",
            "50/50 [==============================] - 0s 4ms/step - loss: 0.3646 - accuracy: 0.8826 - val_loss: 0.5176 - val_accuracy: 0.7494\n",
            "Epoch 16/30\n",
            "50/50 [==============================] - 0s 4ms/step - loss: 0.3405 - accuracy: 0.8851 - val_loss: 0.5033 - val_accuracy: 0.7519\n",
            "Epoch 17/30\n",
            "50/50 [==============================] - 0s 4ms/step - loss: 0.3195 - accuracy: 0.8927 - val_loss: 0.5270 - val_accuracy: 0.7343\n",
            "Epoch 18/30\n",
            "50/50 [==============================] - 0s 4ms/step - loss: 0.3047 - accuracy: 0.8964 - val_loss: 0.5106 - val_accuracy: 0.7494\n",
            "Epoch 19/30\n",
            "50/50 [==============================] - 0s 4ms/step - loss: 0.2870 - accuracy: 0.9027 - val_loss: 0.5130 - val_accuracy: 0.7494\n",
            "Epoch 20/30\n",
            "50/50 [==============================] - 0s 4ms/step - loss: 0.2721 - accuracy: 0.9046 - val_loss: 0.5116 - val_accuracy: 0.7469\n",
            "Epoch 21/30\n",
            "50/50 [==============================] - 0s 4ms/step - loss: 0.2606 - accuracy: 0.9065 - val_loss: 0.5153 - val_accuracy: 0.7494\n",
            "Epoch 22/30\n",
            "50/50 [==============================] - 0s 4ms/step - loss: 0.2483 - accuracy: 0.9127 - val_loss: 0.5093 - val_accuracy: 0.7519\n",
            "Epoch 23/30\n",
            "50/50 [==============================] - 0s 4ms/step - loss: 0.2369 - accuracy: 0.9178 - val_loss: 0.5123 - val_accuracy: 0.7619\n",
            "Epoch 24/30\n",
            "50/50 [==============================] - 0s 4ms/step - loss: 0.2285 - accuracy: 0.9259 - val_loss: 0.5353 - val_accuracy: 0.7519\n",
            "Epoch 25/30\n",
            "50/50 [==============================] - 0s 4ms/step - loss: 0.2173 - accuracy: 0.9266 - val_loss: 0.5504 - val_accuracy: 0.7444\n",
            "Epoch 26/30\n",
            "50/50 [==============================] - 0s 4ms/step - loss: 0.2123 - accuracy: 0.9234 - val_loss: 0.5500 - val_accuracy: 0.7469\n",
            "Epoch 27/30\n",
            "50/50 [==============================] - 0s 4ms/step - loss: 0.2026 - accuracy: 0.9278 - val_loss: 0.5540 - val_accuracy: 0.7444\n",
            "Epoch 28/30\n",
            "50/50 [==============================] - 0s 4ms/step - loss: 0.1943 - accuracy: 0.9347 - val_loss: 0.5672 - val_accuracy: 0.7444\n",
            "Epoch 29/30\n",
            "50/50 [==============================] - 0s 4ms/step - loss: 0.1878 - accuracy: 0.9404 - val_loss: 0.5811 - val_accuracy: 0.7419\n",
            "Epoch 30/30\n",
            "50/50 [==============================] - 0s 4ms/step - loss: 0.1811 - accuracy: 0.9429 - val_loss: 0.5723 - val_accuracy: 0.7544\n"
          ],
          "name": "stdout"
        }
      ]
    },
    {
      "cell_type": "markdown",
      "metadata": {
        "id": "usZu3xUZkpWX",
        "colab_type": "text"
      },
      "source": [
        "# Plot The Accuracy And Loss"
      ]
    },
    {
      "cell_type": "code",
      "metadata": {
        "id": "hEslcqJ0ktPe",
        "colab_type": "code",
        "outputId": "f16e739c-866d-4b40-a9ad-10ce41105dfa",
        "colab": {
          "base_uri": "https://localhost:8080/",
          "height": 541
        }
      },
      "source": [
        "import matplotlib.pyplot as plt\n",
        "\n",
        "def plot_graphs(history, string):\n",
        "  plt.plot(history.history[string])\n",
        "  plt.plot(history.history['val_' +string])\n",
        "  plt.xlabel(\"Epochs\")\n",
        "  plt.ylabel(string)\n",
        "  plt.legend([string, 'val_' +string])\n",
        "  plt.show()\n",
        "\n",
        "plot_graphs(history, \"accuracy\")\n",
        "plot_graphs(history, \"loss\")"
      ],
      "execution_count": 0,
      "outputs": [
        {
          "output_type": "display_data",
          "data": {
            "image/png": "[encoded data removed]",
            "text/plain": [
              "<Figure size 432x288 with 1 Axes>"
            ]
          },
          "metadata": {
            "tags": [],
            "needs_background": "light"
          }
        },
        {
          "output_type": "display_data",
          "data": {
            "image/png": "[encoded data removed]",
            "text/plain": [
              "<Figure size 432x288 with 1 Axes>"
            ]
          },
          "metadata": {
            "tags": [],
            "needs_background": "light"
          }
        }
      ]
    },
    {
      "cell_type": "markdown",
      "metadata": {
        "id": "ZRsfp8Kq9uyx",
        "colab_type": "text"
      },
      "source": [
        "# Define A Function To Predict The Sentiment Of Reviews\n",
        "We'll be creating models with some differences and will use each model to predict the sentiment of some new reviews.\n",
        "\n",
        "To save time, create a function that will take in a model and some new reviews, and print out the sentiment of each reviews.\n",
        "\n",
        "The higher the sentiment value is to 1, the more positive the review is."
      ]
    },
    {
      "cell_type": "code",
      "metadata": {
        "id": "YH0btmzZ95Ic",
        "colab_type": "code",
        "colab": {}
      },
      "source": [
        "# Define a function to take a series of reviews\n",
        "# and predict whether each one is a positive or negative review\n",
        "\n",
        "# max_length = 100 # previously defined\n",
        "\n",
        "def predict_review(model, new_sentences, maxlen = max_length, show_padded_sequence = True):\n",
        "  # Keep the original sentences so that we can keep using them later\n",
        "  # Create an array to hold the encoded sequences\n",
        "  new_sequences = []\n",
        "\n",
        "  # Convert the new reviews to sequences\n",
        "  for i, frvw in enumerate(new_sentences):\n",
        "    new_sequences.append(tokenizer.encode(frvw))\n",
        "\n",
        "  trunc_type = 'post'\n",
        "  padding_type = 'post'\n",
        "\n",
        "  # Pad all sequences for the new reviews\n",
        "  new_reviews_padded = pad_sequences(new_sequences, maxlen = max_length, \n",
        "                                    padding = padding_type, truncating = trunc_type)\n",
        "  \n",
        "  classes = model.predict(new_reviews_padded)\n",
        "\n",
        "  # The closer the class is to 1, the more positive the review is\n",
        "  for x in range(len(new_sentences)):\n",
        "    # We can see the padded sequence if desired\n",
        "    # Print the sequence\n",
        "    if (show_padded_sequence):\n",
        "      print(new_sentences[x])\n",
        "      # Print its predicted class\n",
        "      print(classes[x])\n",
        "      print(\"\\n\")\n"
      ],
      "execution_count": 0,
      "outputs": []
    },
    {
      "cell_type": "code",
      "metadata": {
        "id": "4WTEZ8lnAYrY",
        "colab_type": "code",
        "outputId": "63692c20-5cfc-4845-a33b-b0e0fe3c0a4b",
        "colab": {
          "base_uri": "https://localhost:8080/",
          "height": 487
        }
      },
      "source": [
        "# Use the model to predict some reviews \n",
        "fake_reviews = [\"I love this phone\", \n",
        "                \"Everything was cold\",\n",
        "                \"Everything was hot exactly as I wanted\", \n",
        "                \"Everything was green\", \n",
        "                \"the host seated us immediately\",\n",
        "                \"they gave us free chocolate cake\", \n",
        "                \"we couldn't hear each other talk because of the shouting in the kitchen\"\n",
        "              ]\n",
        "\n",
        "predict_review(model, fake_reviews)"
      ],
      "execution_count": 0,
      "outputs": [
        {
          "output_type": "stream",
          "text": [
            "I love this phone\n",
            "[0.8650132]\n",
            "\n",
            "\n",
            "Everything was cold\n",
            "[0.08878242]\n",
            "\n",
            "\n",
            "Everything was hot exactly as I wanted\n",
            "[0.27710795]\n",
            "\n",
            "\n",
            "Everything was green\n",
            "[0.07354216]\n",
            "\n",
            "\n",
            "the host seated us immediately\n",
            "[0.41572183]\n",
            "\n",
            "\n",
            "they gave us free chocolate cake\n",
            "[0.64965737]\n",
            "\n",
            "\n",
            "we couldn't hear each other talk because of the shouting in the kitchen\n",
            "[0.01355633]\n",
            "\n",
            "\n"
          ],
          "name": "stdout"
        }
      ]
    },
    {
      "cell_type": "markdown",
      "metadata": {
        "id": "Y_-xB_seAutA",
        "colab_type": "text"
      },
      "source": [
        "# Define A Function To Train And Show The Results Of Models With Different Layers\n",
        "In the rest of this colab, we will define models, and then see the results.\n",
        "\n",
        "Define a function that will take the model, compile it, train it, graph the accuracy and loss, and then predict some results."
      ]
    },
    {
      "cell_type": "code",
      "metadata": {
        "id": "zR5kd1xDA6Wr",
        "colab_type": "code",
        "colab": {}
      },
      "source": [
        "def fit_model_now (model, sentences):\n",
        "  model.compile(loss = 'binary_crossentropy', optimizer = 'adam', metrics = ['accuracy'])\n",
        "  model.summary()\n",
        "  history = model.fit(training_sequences, training_labels_final, epochs = num_epochs, \n",
        "                      validation_data = (testing_sequences, testing_labels_final))\n",
        "  return history\n",
        "\n",
        "def plot_results (history):\n",
        "  plot_graphs(history, \"accuracy\")\n",
        "  plot_graphs(history, \"loss\")\n",
        "\n",
        "def fit_model_and_show_results(model, sentences):\n",
        "  history = fit_model_now(model, sentences)\n",
        "  plot_results(history)\n",
        "  predict_review(model, sentences)"
      ],
      "execution_count": 0,
      "outputs": []
    },
    {
      "cell_type": "markdown",
      "metadata": {
        "id": "TUaLe0hXCWE8",
        "colab_type": "text"
      },
      "source": [
        "# Add A Bidirectional LSTM\n",
        "Create a new model that uses a bidirectional LSTM.\n",
        "\n",
        "Then use the function we have already defined to compile the model, train it, graph the accuracy and loss, then predict some results."
      ]
    },
    {
      "cell_type": "code",
      "metadata": {
        "id": "RP9EmYszCWuy",
        "colab_type": "code",
        "outputId": "c84e6e1e-d6b3-49e7-f011-430aa7ad1407",
        "colab": {
          "base_uri": "https://localhost:8080/",
          "height": 1000
        }
      },
      "source": [
        "model_bidi_lstm = tf.keras.Sequential([\n",
        "   tf.keras.layers.Embedding(vocab_size, embedding_dim, input_length = max_length), \n",
        "   tf.keras.layers.Bidirectional(tf.keras.layers.LSTM(embedding_dim)), \n",
        "   tf.keras.layers.Dense(6, activation  = 'relu'), \n",
        "   tf.keras.layers.Dense(1, activation = 'sigmoid')\n",
        "])\n",
        "\n",
        "# Compile and train the model and then show the predictions for our extra sentences\n",
        "fit_model_and_show_results(model_bidi_lstm, fake_reviews)"
      ],
      "execution_count": 0,
      "outputs": [
        {
          "output_type": "stream",
          "text": [
            "Model: \"sequential_2\"\n",
            "_________________________________________________________________\n",
            "Layer (type)                 Output Shape              Param #   \n",
            "=================================================================\n",
            "embedding_2 (Embedding)      (None, 50, 16)            16000     \n",
            "_________________________________________________________________\n",
            "bidirectional_1 (Bidirection (None, 32)                4224      \n",
            "_________________________________________________________________\n",
            "dense_4 (Dense)              (None, 6)                 198       \n",
            "_________________________________________________________________\n",
            "dense_5 (Dense)              (None, 1)                 7         \n",
            "=================================================================\n",
            "Total params: 20,429\n",
            "Trainable params: 20,429\n",
            "Non-trainable params: 0\n",
            "_________________________________________________________________\n",
            "Epoch 1/30\n",
            "50/50 [==============================] - 1s 20ms/step - loss: 0.6928 - accuracy: 0.5066 - val_loss: 0.6952 - val_accuracy: 0.4110\n",
            "Epoch 2/30\n",
            "50/50 [==============================] - 0s 9ms/step - loss: 0.6812 - accuracy: 0.5223 - val_loss: 0.7130 - val_accuracy: 0.4110\n",
            "Epoch 3/30\n",
            "50/50 [==============================] - 0s 9ms/step - loss: 0.5911 - accuracy: 0.6704 - val_loss: 0.6050 - val_accuracy: 0.7419\n",
            "Epoch 4/30\n",
            "50/50 [==============================] - 0s 9ms/step - loss: 0.4374 - accuracy: 0.8387 - val_loss: 0.5115 - val_accuracy: 0.7744\n",
            "Epoch 5/30\n",
            "50/50 [==============================] - 0s 9ms/step - loss: 0.2933 - accuracy: 0.8870 - val_loss: 0.7536 - val_accuracy: 0.7318\n",
            "Epoch 6/30\n",
            "50/50 [==============================] - 0s 9ms/step - loss: 0.2321 - accuracy: 0.9215 - val_loss: 0.5862 - val_accuracy: 0.7594\n",
            "Epoch 7/30\n",
            "50/50 [==============================] - 0s 9ms/step - loss: 0.2058 - accuracy: 0.9309 - val_loss: 0.6787 - val_accuracy: 0.7769\n",
            "Epoch 8/30\n",
            "50/50 [==============================] - 0s 9ms/step - loss: 0.1838 - accuracy: 0.9410 - val_loss: 0.7960 - val_accuracy: 0.7419\n",
            "Epoch 9/30\n",
            "50/50 [==============================] - 0s 9ms/step - loss: 0.1506 - accuracy: 0.9561 - val_loss: 0.8321 - val_accuracy: 0.7393\n",
            "Epoch 10/30\n",
            "50/50 [==============================] - 0s 9ms/step - loss: 0.1287 - accuracy: 0.9630 - val_loss: 0.8323 - val_accuracy: 0.7444\n",
            "Epoch 11/30\n",
            "50/50 [==============================] - 0s 9ms/step - loss: 0.1196 - accuracy: 0.9674 - val_loss: 1.0315 - val_accuracy: 0.7444\n",
            "Epoch 12/30\n",
            "50/50 [==============================] - 0s 9ms/step - loss: 0.1063 - accuracy: 0.9755 - val_loss: 0.9895 - val_accuracy: 0.7544\n",
            "Epoch 13/30\n",
            "50/50 [==============================] - 0s 9ms/step - loss: 0.0901 - accuracy: 0.9812 - val_loss: 0.9039 - val_accuracy: 0.7519\n",
            "Epoch 14/30\n",
            "50/50 [==============================] - 0s 9ms/step - loss: 0.1126 - accuracy: 0.9661 - val_loss: 1.1188 - val_accuracy: 0.7544\n",
            "Epoch 15/30\n",
            "50/50 [==============================] - 0s 9ms/step - loss: 0.0866 - accuracy: 0.9780 - val_loss: 1.1027 - val_accuracy: 0.7444\n",
            "Epoch 16/30\n",
            "50/50 [==============================] - 0s 9ms/step - loss: 0.0721 - accuracy: 0.9862 - val_loss: 1.0725 - val_accuracy: 0.7393\n",
            "Epoch 17/30\n",
            "50/50 [==============================] - 1s 11ms/step - loss: 0.0720 - accuracy: 0.9837 - val_loss: 1.1586 - val_accuracy: 0.7569\n",
            "Epoch 18/30\n",
            "50/50 [==============================] - 1s 10ms/step - loss: 0.0630 - accuracy: 0.9893 - val_loss: 1.4031 - val_accuracy: 0.7494\n",
            "Epoch 19/30\n",
            "50/50 [==============================] - 1s 10ms/step - loss: 0.0580 - accuracy: 0.9881 - val_loss: 1.3454 - val_accuracy: 0.7544\n",
            "Epoch 20/30\n",
            "50/50 [==============================] - 0s 9ms/step - loss: 0.0549 - accuracy: 0.9893 - val_loss: 1.3698 - val_accuracy: 0.7519\n",
            "Epoch 21/30\n",
            "50/50 [==============================] - 0s 9ms/step - loss: 0.0527 - accuracy: 0.9906 - val_loss: 1.3949 - val_accuracy: 0.7519\n",
            "Epoch 22/30\n",
            "50/50 [==============================] - 0s 9ms/step - loss: 0.0514 - accuracy: 0.9906 - val_loss: 1.4623 - val_accuracy: 0.7469\n",
            "Epoch 23/30\n",
            "50/50 [==============================] - 0s 9ms/step - loss: 0.0504 - accuracy: 0.9906 - val_loss: 1.5407 - val_accuracy: 0.7444\n",
            "Epoch 24/30\n",
            "50/50 [==============================] - 0s 9ms/step - loss: 0.0490 - accuracy: 0.9906 - val_loss: 1.5593 - val_accuracy: 0.7444\n",
            "Epoch 25/30\n",
            "50/50 [==============================] - 0s 9ms/step - loss: 0.0500 - accuracy: 0.9906 - val_loss: 1.5028 - val_accuracy: 0.7419\n",
            "Epoch 26/30\n",
            "50/50 [==============================] - 0s 9ms/step - loss: 0.0481 - accuracy: 0.9912 - val_loss: 1.6919 - val_accuracy: 0.7368\n",
            "Epoch 27/30\n",
            "50/50 [==============================] - 0s 10ms/step - loss: 0.0470 - accuracy: 0.9912 - val_loss: 1.6190 - val_accuracy: 0.7419\n",
            "Epoch 28/30\n",
            "50/50 [==============================] - 0s 9ms/step - loss: 0.0463 - accuracy: 0.9912 - val_loss: 1.6777 - val_accuracy: 0.7393\n",
            "Epoch 29/30\n",
            "50/50 [==============================] - 0s 10ms/step - loss: 0.0458 - accuracy: 0.9912 - val_loss: 1.7254 - val_accuracy: 0.7419\n",
            "Epoch 30/30\n",
            "50/50 [==============================] - 0s 9ms/step - loss: 0.0453 - accuracy: 0.9912 - val_loss: 1.7172 - val_accuracy: 0.7444\n"
          ],
          "name": "stdout"
        },
        {
          "output_type": "display_data",
          "data": {
            "image/png": "[encoded data removed]",
            "text/plain": [
              "<Figure size 432x288 with 1 Axes>"
            ]
          },
          "metadata": {
            "tags": [],
            "needs_background": "light"
          }
        },
        {
          "output_type": "display_data",
          "data": {
            "image/png": "[encoded data removed]",
            "text/plain": [
              "<Figure size 432x288 with 1 Axes>"
            ]
          },
          "metadata": {
            "tags": [],
            "needs_background": "light"
          }
        },
        {
          "output_type": "stream",
          "text": [
            "I love this phone\n",
            "[0.999587]\n",
            "\n",
            "\n",
            "Everything was cold\n",
            "[0.02107972]\n",
            "\n",
            "\n",
            "Everything was hot exactly as I wanted\n",
            "[0.85701853]\n",
            "\n",
            "\n",
            "Everything was green\n",
            "[0.02605643]\n",
            "\n",
            "\n",
            "the host seated us immediately\n",
            "[0.99958915]\n",
            "\n",
            "\n",
            "they gave us free chocolate cake\n",
            "[0.9996424]\n",
            "\n",
            "\n",
            "we couldn't hear each other talk because of the shouting in the kitchen\n",
            "[0.01357611]\n",
            "\n",
            "\n"
          ],
          "name": "stdout"
        }
      ]
    },
    {
      "cell_type": "markdown",
      "metadata": {
        "id": "6AaFiw9FC9FV",
        "colab_type": "text"
      },
      "source": [
        "# Use Multiple Bidirectional Layers\n",
        "Now let's see if we get any improvements from adding another Bidirectional LSTM layer to the model.\n",
        "\n",
        "Notice that the first Bidirectionl LSTM layer returns a sequence."
      ]
    },
    {
      "cell_type": "code",
      "metadata": {
        "id": "LCV7L0stC9U3",
        "colab_type": "code",
        "outputId": "41fca183-5799-4539-dedd-12cf76b20d83",
        "colab": {
          "base_uri": "https://localhost:8080/",
          "height": 1000
        }
      },
      "source": [
        "model_multiple_bidi_lstm = tf.keras.Sequential([\n",
        "   tf.keras.layers.Embedding(vocab_size, embedding_dim, input_length = max_length), \n",
        "   tf.keras.layers.Bidirectional(tf.keras.layers.LSTM(embedding_dim, \n",
        "                                                      return_sequences = True)), \n",
        "   tf.keras.layers.Dense(6, activation  = 'relu'), \n",
        "   tf.keras.layers.Dense(1, activation = 'sigmoid')\n",
        "])\n",
        "\n",
        "# Compile and train the model and then show the predictions for our extra sentences\n",
        "fit_model_and_show_results(model_multiple_bidi_lstm, fake_reviews)"
      ],
      "execution_count": 0,
      "outputs": [
        {
          "output_type": "stream",
          "text": [
            "Model: \"sequential_3\"\n",
            "_________________________________________________________________\n",
            "Layer (type)                 Output Shape              Param #   \n",
            "=================================================================\n",
            "embedding_3 (Embedding)      (None, 50, 16)            16000     \n",
            "_________________________________________________________________\n",
            "bidirectional_2 (Bidirection (None, 50, 32)            4224      \n",
            "_________________________________________________________________\n",
            "dense_6 (Dense)              (None, 50, 6)             198       \n",
            "_________________________________________________________________\n",
            "dense_7 (Dense)              (None, 50, 1)             7         \n",
            "=================================================================\n",
            "Total params: 20,429\n",
            "Trainable params: 20,429\n",
            "Non-trainable params: 0\n",
            "_________________________________________________________________\n",
            "Epoch 1/30\n",
            "50/50 [==============================] - 1s 22ms/step - loss: 0.6919 - accuracy: 0.5312 - val_loss: 0.7044 - val_accuracy: 0.4122\n",
            "Epoch 2/30\n",
            "50/50 [==============================] - 0s 10ms/step - loss: 0.6851 - accuracy: 0.5722 - val_loss: 0.6845 - val_accuracy: 0.5537\n",
            "Epoch 3/30\n",
            "50/50 [==============================] - 0s 10ms/step - loss: 0.5276 - accuracy: 0.7673 - val_loss: 0.5583 - val_accuracy: 0.7290\n",
            "Epoch 4/30\n",
            "50/50 [==============================] - 0s 10ms/step - loss: 0.3848 - accuracy: 0.8520 - val_loss: 0.5428 - val_accuracy: 0.7611\n",
            "Epoch 5/30\n",
            "50/50 [==============================] - 0s 10ms/step - loss: 0.3078 - accuracy: 0.8923 - val_loss: 0.5461 - val_accuracy: 0.7654\n",
            "Epoch 6/30\n",
            "50/50 [==============================] - 0s 10ms/step - loss: 0.2729 - accuracy: 0.9067 - val_loss: 0.5302 - val_accuracy: 0.7588\n",
            "Epoch 7/30\n",
            "50/50 [==============================] - 0s 10ms/step - loss: 0.2351 - accuracy: 0.9255 - val_loss: 0.5625 - val_accuracy: 0.7604\n",
            "Epoch 8/30\n",
            "50/50 [==============================] - 0s 10ms/step - loss: 0.1910 - accuracy: 0.9457 - val_loss: 0.7167 - val_accuracy: 0.7339\n",
            "Epoch 9/30\n",
            "50/50 [==============================] - 0s 10ms/step - loss: 0.1729 - accuracy: 0.9540 - val_loss: 0.6963 - val_accuracy: 0.7403\n",
            "Epoch 10/30\n",
            "50/50 [==============================] - 0s 10ms/step - loss: 0.1543 - accuracy: 0.9581 - val_loss: 0.6518 - val_accuracy: 0.7589\n",
            "Epoch 11/30\n",
            "50/50 [==============================] - 0s 10ms/step - loss: 0.1459 - accuracy: 0.9597 - val_loss: 0.8695 - val_accuracy: 0.7338\n",
            "Epoch 12/30\n",
            "50/50 [==============================] - 1s 11ms/step - loss: 0.1341 - accuracy: 0.9643 - val_loss: 1.0030 - val_accuracy: 0.7249\n",
            "Epoch 13/30\n",
            "50/50 [==============================] - 0s 10ms/step - loss: 0.1264 - accuracy: 0.9659 - val_loss: 0.8663 - val_accuracy: 0.7455\n",
            "Epoch 14/30\n",
            "50/50 [==============================] - 0s 10ms/step - loss: 0.1291 - accuracy: 0.9645 - val_loss: 0.9090 - val_accuracy: 0.7385\n",
            "Epoch 15/30\n",
            "50/50 [==============================] - 0s 10ms/step - loss: 0.1074 - accuracy: 0.9728 - val_loss: 0.9072 - val_accuracy: 0.7509\n",
            "Epoch 16/30\n",
            "50/50 [==============================] - 1s 11ms/step - loss: 0.1255 - accuracy: 0.9650 - val_loss: 0.8419 - val_accuracy: 0.7571\n",
            "Epoch 17/30\n",
            "50/50 [==============================] - 0s 10ms/step - loss: 0.1135 - accuracy: 0.9706 - val_loss: 0.9364 - val_accuracy: 0.7475\n",
            "Epoch 18/30\n",
            "50/50 [==============================] - 0s 10ms/step - loss: 0.0904 - accuracy: 0.9797 - val_loss: 0.9447 - val_accuracy: 0.7401\n",
            "Epoch 19/30\n",
            "50/50 [==============================] - 0s 10ms/step - loss: 0.0823 - accuracy: 0.9820 - val_loss: 0.9692 - val_accuracy: 0.7562\n",
            "Epoch 20/30\n",
            "50/50 [==============================] - 1s 10ms/step - loss: 0.0971 - accuracy: 0.9757 - val_loss: 1.0593 - val_accuracy: 0.7290\n",
            "Epoch 21/30\n",
            "50/50 [==============================] - 0s 10ms/step - loss: 0.0881 - accuracy: 0.9790 - val_loss: 1.0883 - val_accuracy: 0.7357\n",
            "Epoch 22/30\n",
            "50/50 [==============================] - 1s 11ms/step - loss: 0.0855 - accuracy: 0.9799 - val_loss: 1.0713 - val_accuracy: 0.7326\n",
            "Epoch 23/30\n",
            "50/50 [==============================] - 1s 11ms/step - loss: 0.0839 - accuracy: 0.9802 - val_loss: 1.0345 - val_accuracy: 0.7371\n",
            "Epoch 24/30\n",
            "50/50 [==============================] - 1s 11ms/step - loss: 0.0722 - accuracy: 0.9845 - val_loss: 1.3234 - val_accuracy: 0.7165\n",
            "Epoch 25/30\n",
            "50/50 [==============================] - 0s 10ms/step - loss: 0.0687 - accuracy: 0.9859 - val_loss: 1.2121 - val_accuracy: 0.7332\n",
            "Epoch 26/30\n",
            "50/50 [==============================] - 0s 10ms/step - loss: 0.0581 - accuracy: 0.9894 - val_loss: 1.2540 - val_accuracy: 0.7380\n",
            "Epoch 27/30\n",
            "50/50 [==============================] - 0s 10ms/step - loss: 0.0551 - accuracy: 0.9901 - val_loss: 1.2624 - val_accuracy: 0.7314\n",
            "Epoch 28/30\n",
            "50/50 [==============================] - 1s 11ms/step - loss: 0.0605 - accuracy: 0.9884 - val_loss: 1.1834 - val_accuracy: 0.7326\n",
            "Epoch 29/30\n",
            "50/50 [==============================] - 0s 10ms/step - loss: 0.0512 - accuracy: 0.9907 - val_loss: 1.3229 - val_accuracy: 0.7256\n",
            "Epoch 30/30\n",
            "50/50 [==============================] - 1s 10ms/step - loss: 0.0490 - accuracy: 0.9913 - val_loss: 1.3720 - val_accuracy: 0.7267\n"
          ],
          "name": "stdout"
        },
        {
          "output_type": "display_data",
          "data": {
            "image/png": "[encoded data removed]",
            "text/plain": [
              "<Figure size 432x288 with 1 Axes>"
            ]
          },
          "metadata": {
            "tags": [],
            "needs_background": "light"
          }
        },
        {
          "output_type": "display_data",
          "data": {
            "image/png": "[encoded data removed]",
            "text/plain": [
              "<Figure size 432x288 with 1 Axes>"
            ]
          },
          "metadata": {
            "tags": [],
            "needs_background": "light"
          }
        },
        {
          "output_type": "stream",
          "text": [
            "I love this phone\n",
            "[[0.95558155]\n",
            " [0.9984529 ]\n",
            " [0.9587265 ]\n",
            " [0.9682594 ]\n",
            " [0.9931445 ]\n",
            " [0.99560815]\n",
            " [0.99713695]\n",
            " [0.9981115 ]\n",
            " [0.99873227]\n",
            " [0.99912876]\n",
            " [0.99938357]\n",
            " [0.99954873]\n",
            " [0.99965703]\n",
            " [0.999729  ]\n",
            " [0.9997775 ]\n",
            " [0.99981064]\n",
            " [0.99983335]\n",
            " [0.9998492 ]\n",
            " [0.99986005]\n",
            " [0.99986756]\n",
            " [0.9998723 ]\n",
            " [0.9998752 ]\n",
            " [0.9998765 ]\n",
            " [0.9998765 ]\n",
            " [0.9998754 ]\n",
            " [0.9998735 ]\n",
            " [0.9998708 ]\n",
            " [0.9998673 ]\n",
            " [0.999863  ]\n",
            " [0.99985826]\n",
            " [0.9998528 ]\n",
            " [0.9998467 ]\n",
            " [0.99984   ]\n",
            " [0.99983275]\n",
            " [0.99982506]\n",
            " [0.9998167 ]\n",
            " [0.9998078 ]\n",
            " [0.9997985 ]\n",
            " [0.9997887 ]\n",
            " [0.99977857]\n",
            " [0.9997682 ]\n",
            " [0.9997577 ]\n",
            " [0.9997472 ]\n",
            " [0.9997371 ]\n",
            " [0.9997274 ]\n",
            " [0.9997185 ]\n",
            " [0.99971086]\n",
            " [0.99970466]\n",
            " [0.9997004 ]\n",
            " [0.9996984 ]]\n",
            "\n",
            "\n",
            "Everything was cold\n",
            "[[0.0118757 ]\n",
            " [0.01019854]\n",
            " [0.01943267]\n",
            " [0.01692726]\n",
            " [0.02043315]\n",
            " [0.0245499 ]\n",
            " [0.01231926]\n",
            " [0.02652096]\n",
            " [0.02537929]\n",
            " [0.0214262 ]\n",
            " [0.01816314]\n",
            " [0.01547275]\n",
            " [0.01327441]\n",
            " [0.01150029]\n",
            " [0.0100867 ]\n",
            " [0.00897384]\n",
            " [0.00810755]\n",
            " [0.00744089]\n",
            " [0.00693467]\n",
            " [0.00655715]\n",
            " [0.00628312]\n",
            " [0.00609284]\n",
            " [0.00597092]\n",
            " [0.00590549]\n",
            " [0.0058873 ]\n",
            " [0.0059092 ]\n",
            " [0.00596563]\n",
            " [0.00605224]\n",
            " [0.00616569]\n",
            " [0.00630336]\n",
            " [0.00646331]\n",
            " [0.00664412]\n",
            " [0.00684484]\n",
            " [0.00706498]\n",
            " [0.00730447]\n",
            " [0.0075637 ]\n",
            " [0.00784357]\n",
            " [0.00814549]\n",
            " [0.00847151]\n",
            " [0.00882445]\n",
            " [0.00920795]\n",
            " [0.0096268 ]\n",
            " [0.01008704]\n",
            " [0.01059633]\n",
            " [0.0111643 ]\n",
            " [0.01180295]\n",
            " [0.01252714]\n",
            " [0.0133549 ]\n",
            " [0.01430767]\n",
            " [0.01540962]]\n",
            "\n",
            "\n",
            "Everything was hot exactly as I wanted\n",
            "[[0.04517165]\n",
            " [0.04272592]\n",
            " [0.19795203]\n",
            " [0.15458834]\n",
            " [0.27292025]\n",
            " [0.30836946]\n",
            " [0.1170414 ]\n",
            " [0.32752615]\n",
            " [0.43770942]\n",
            " [0.34083325]\n",
            " [0.09816064]\n",
            " [0.04752791]\n",
            " [0.06649794]\n",
            " [0.06039628]\n",
            " [0.08208123]\n",
            " [0.04564271]\n",
            " [0.03605702]\n",
            " [0.03237349]\n",
            " [0.02871476]\n",
            " [0.02525606]\n",
            " [0.02211853]\n",
            " [0.01936932]\n",
            " [0.01702904]\n",
            " [0.01508408]\n",
            " [0.01349939]\n",
            " [0.01222978]\n",
            " [0.01122793]\n",
            " [0.01044942]\n",
            " [0.00985522]\n",
            " [0.00941246]\n",
            " [0.00909433]\n",
            " [0.00887933]\n",
            " [0.00875053]\n",
            " [0.00869479]\n",
            " [0.00870203]\n",
            " [0.00876472]\n",
            " [0.00887747]\n",
            " [0.0090367 ]\n",
            " [0.00924045]\n",
            " [0.00948825]\n",
            " [0.00978115]\n",
            " [0.01012171]\n",
            " [0.01051421]\n",
            " [0.01096479]\n",
            " [0.01148181]\n",
            " [0.0120762 ]\n",
            " [0.01276185]\n",
            " [0.01355601]\n",
            " [0.01447936]\n",
            " [0.01555544]]\n",
            "\n",
            "\n",
            "Everything was green\n",
            "[[0.01517669]\n",
            " [0.01347902]\n",
            " [0.03163338]\n",
            " [0.02450905]\n",
            " [0.03443206]\n",
            " [0.04039814]\n",
            " [0.02629317]\n",
            " [0.05014721]\n",
            " [0.03467952]\n",
            " [0.03417179]\n",
            " [0.02990816]\n",
            " [0.02603782]\n",
            " [0.02255885]\n",
            " [0.01948932]\n",
            " [0.01684137]\n",
            " [0.01460853]\n",
            " [0.01276492]\n",
            " [0.01127048]\n",
            " [0.0100781 ]\n",
            " [0.00913993]\n",
            " [0.00841164]\n",
            " [0.00785461]\n",
            " [0.0074366 ]\n",
            " [0.00713142]\n",
            " [0.00691821]\n",
            " [0.00678054]\n",
            " [0.00670552]\n",
            " [0.00668312]\n",
            " [0.00670553]\n",
            " [0.00676669]\n",
            " [0.00686192]\n",
            " [0.00698767]\n",
            " [0.00714133]\n",
            " [0.00732104]\n",
            " [0.00752568]\n",
            " [0.00775478]\n",
            " [0.00800852]\n",
            " [0.00828774]\n",
            " [0.00859402]\n",
            " [0.00892974]\n",
            " [0.00929826]\n",
            " [0.00970404]\n",
            " [0.01015286]\n",
            " [0.0106522 ]\n",
            " [0.01121149]\n",
            " [0.01184256]\n",
            " [0.01256011]\n",
            " [0.01338206]\n",
            " [0.01432971]\n",
            " [0.01542713]]\n",
            "\n",
            "\n",
            "the host seated us immediately\n",
            "[[0.11461062]\n",
            " [0.0315823 ]\n",
            " [0.05152854]\n",
            " [0.5930836 ]\n",
            " [0.01046894]\n",
            " [0.46380472]\n",
            " [0.03221976]\n",
            " [0.03370061]\n",
            " [0.01983434]\n",
            " [0.0318086 ]\n",
            " [0.02503391]\n",
            " [0.02770079]\n",
            " [0.02332094]\n",
            " [0.01971332]\n",
            " [0.01675705]\n",
            " [0.01436073]\n",
            " [0.01244313]\n",
            " [0.01092769]\n",
            " [0.00974377]\n",
            " [0.00882882]\n",
            " [0.00812977]\n",
            " [0.00760309]\n",
            " [0.007214  ]\n",
            " [0.00693518]\n",
            " [0.00674539]\n",
            " [0.00662824]\n",
            " [0.00657109]\n",
            " [0.0065642 ]\n",
            " [0.00660007]\n",
            " [0.00667293]\n",
            " [0.00677837]\n",
            " [0.00691306]\n",
            " [0.00707456]\n",
            " [0.00726118]\n",
            " [0.00747194]\n",
            " [0.00770646]\n",
            " [0.00796501]\n",
            " [0.00824851]\n",
            " [0.00855862]\n",
            " [0.00889775]\n",
            " [0.00926932]\n",
            " [0.00967782]\n",
            " [0.01012908]\n",
            " [0.01063059]\n",
            " [0.0111918 ]\n",
            " [0.0118246 ]\n",
            " [0.01254366]\n",
            " [0.01336696]\n",
            " [0.01431579]\n",
            " [0.01541425]]\n",
            "\n",
            "\n",
            "they gave us free chocolate cake\n",
            "[[0.99486613]\n",
            " [0.98942906]\n",
            " [0.98980355]\n",
            " [0.999134  ]\n",
            " [0.9935861 ]\n",
            " [0.9839271 ]\n",
            " [0.99413   ]\n",
            " [0.99655235]\n",
            " [0.99554694]\n",
            " [0.99901426]\n",
            " [0.99786526]\n",
            " [0.9987042 ]\n",
            " [0.99903715]\n",
            " [0.99938476]\n",
            " [0.99953914]\n",
            " [0.9996433 ]\n",
            " [0.9997137 ]\n",
            " [0.9997621 ]\n",
            " [0.9997955 ]\n",
            " [0.9998186 ]\n",
            " [0.99983454]\n",
            " [0.9998456 ]\n",
            " [0.9998529 ]\n",
            " [0.9998574 ]\n",
            " [0.9998598 ]\n",
            " [0.9998605 ]\n",
            " [0.9998598 ]\n",
            " [0.999858  ]\n",
            " [0.99985516]\n",
            " [0.99985135]\n",
            " [0.9998468 ]\n",
            " [0.99984145]\n",
            " [0.9998355 ]\n",
            " [0.9998287 ]\n",
            " [0.9998215 ]\n",
            " [0.9998135 ]\n",
            " [0.9998049 ]\n",
            " [0.99979585]\n",
            " [0.99978644]\n",
            " [0.99977654]\n",
            " [0.9997664 ]\n",
            " [0.99975604]\n",
            " [0.9997458 ]\n",
            " [0.9997358 ]\n",
            " [0.99972624]\n",
            " [0.99971753]\n",
            " [0.9997099 ]\n",
            " [0.9997038 ]\n",
            " [0.9996997 ]\n",
            " [0.9996978 ]]\n",
            "\n",
            "\n",
            "we couldn't hear each other talk because of the shouting in the kitchen\n",
            "[[0.00977821]\n",
            " [0.0117972 ]\n",
            " [0.00765786]\n",
            " [0.00583265]\n",
            " [0.00540068]\n",
            " [0.00190893]\n",
            " [0.00284461]\n",
            " [0.00328638]\n",
            " [0.00288165]\n",
            " [0.00280226]\n",
            " [0.00334849]\n",
            " [0.00333599]\n",
            " [0.00470162]\n",
            " [0.00473386]\n",
            " [0.00467713]\n",
            " [0.00439549]\n",
            " [0.00446058]\n",
            " [0.00346986]\n",
            " [0.00575287]\n",
            " [0.00452708]\n",
            " [0.00416631]\n",
            " [0.00630264]\n",
            " [0.0050468 ]\n",
            " [0.00716866]\n",
            " [0.00905535]\n",
            " [0.0063311 ]\n",
            " [0.00631481]\n",
            " [0.00635207]\n",
            " [0.00642287]\n",
            " [0.00652556]\n",
            " [0.00665631]\n",
            " [0.00681249]\n",
            " [0.00699223]\n",
            " [0.00719437]\n",
            " [0.00741832]\n",
            " [0.00766407]\n",
            " [0.00793218]\n",
            " [0.00822382]\n",
            " [0.00854083]\n",
            " [0.00888584]\n",
            " [0.00926239]\n",
            " [0.00967509]\n",
            " [0.01012991]\n",
            " [0.01063444]\n",
            " [0.0111982 ]\n",
            " [0.01183316]\n",
            " [0.01255409]\n",
            " [0.01337898]\n",
            " [0.01432922]\n",
            " [0.01542894]]\n",
            "\n",
            "\n"
          ],
          "name": "stdout"
        }
      ]
    },
    {
      "cell_type": "markdown",
      "metadata": {
        "id": "aag0qi8VZoG2",
        "colab_type": "text"
      },
      "source": [
        "# Compare Predictions For All The Models\n",
        "It can be hard to see which model gives a better prediction for different reviews when you examine each model separately. So for comparison purposes, here we define some more reviews and print out the predictions that each of the three models gives for each review:\n",
        "\n",
        "* Embeddings and a Global Average Pooling layer\n",
        "* Embeddings and a Bidirectional LSTM layer\n",
        "* Embeddings and two Bidirectional LSTM layers\n",
        "\n",
        "The results are not always what you might expect. The input dataset is fairly small, it has less than 2000 reviews. Some of the reviews are fairly short, and some of the short ones are fairly repetitive which reduces their impact on improving the model, such as these two reviews:\n",
        "\n",
        "* Bad Quality.\n",
        "* Low Quality.\n",
        "\n",
        "Feel free to add more reviews of your own, or change the reviews. The results will depend on the combination of words in the reviews, and how well they match to reviews in the training set.\n",
        "\n",
        "How do the different models handle things like \"wasn't good\" which contains a positive word (good) but is a poor review?"
      ]
    },
    {
      "cell_type": "code",
      "metadata": {
        "id": "d1VQNOR3ZjTG",
        "colab_type": "code",
        "colab": {}
      },
      "source": [
        "my_reviews = [\"lovely\", \"dreadful\", \"stay away\",\n",
        "             \"everything was hot exactly as I wanted\",\n",
        "             \"everything was not exactly as I wanted\",\n",
        "             \"they gave us free chocolate cake\",\n",
        "             \"I've never eaten anything so spicy in my life, my throat burned for hours\",\n",
        "             \"for a phone that is as expensive as this one I expect it to be much easier to use than this thing is\",\n",
        "             \"we left there very full for a low price so I'd say you just can't go wrong at this place\",\n",
        "             \"that place does not have quality meals and it isn't a good place to go for dinner\",\n",
        "             ]"
      ],
      "execution_count": 0,
      "outputs": []
    },
    {
      "cell_type": "code",
      "metadata": {
        "id": "HCUdbE0mZ7sb",
        "colab_type": "code",
        "outputId": "32941c5e-764d-4a0c-c299-6e9c6e8a7f86",
        "colab": {
          "base_uri": "https://localhost:8080/",
          "height": 67
        }
      },
      "source": [
        "print(\"===================================\\n\",\"Embeddings only:\\n\", \"===================================\",)\n",
        "predict_review(model, my_reviews, show_padded_sequence = False)"
      ],
      "execution_count": 0,
      "outputs": [
        {
          "output_type": "stream",
          "text": [
            "===================================\n",
            " Embeddings only:\n",
            " ===================================\n"
          ],
          "name": "stdout"
        }
      ]
    },
    {
      "cell_type": "code",
      "metadata": {
        "id": "QACFnXg4a_Ka",
        "colab_type": "code",
        "outputId": "f2c95f84-e53f-468b-e375-187cfe22e875",
        "colab": {
          "base_uri": "https://localhost:8080/",
          "height": 67
        }
      },
      "source": [
        "print(\"===================================\\n\", \"With a single bidirectional LSTM:\\n\", \"===================================\")\n",
        "predict_review(model_bidi_lstm, my_reviews, show_padded_sequence = False)"
      ],
      "execution_count": 0,
      "outputs": [
        {
          "output_type": "stream",
          "text": [
            "===================================\n",
            " With a single bidirectional LSTM:\n",
            " ===================================\n"
          ],
          "name": "stdout"
        }
      ]
    },
    {
      "cell_type": "code",
      "metadata": {
        "id": "vWHSEyL3Ejmn",
        "colab_type": "code",
        "outputId": "0763e32d-72b1-4b80-8adf-8eb2047d13bf",
        "colab": {
          "base_uri": "https://localhost:8080/",
          "height": 67
        }
      },
      "source": [
        "print(\"===================================\\n\",\"With two bidirectional LSTMs:\\n\", \"===================================\")\n",
        "predict_review(model_multiple_bidi_lstm, my_reviews, show_padded_sequence = False)"
      ],
      "execution_count": 0,
      "outputs": [
        {
          "output_type": "stream",
          "text": [
            "===================================\n",
            " With two bidirectional LSTMs:\n",
            " ===================================\n"
          ],
          "name": "stdout"
        }
      ]
    },
    {
      "cell_type": "code",
      "metadata": {
        "id": "KGwZYeKcJ6rf",
        "colab_type": "code",
        "colab": {}
      },
      "source": [
        ""
      ],
      "execution_count": 0,
      "outputs": []
    }
  ]
}