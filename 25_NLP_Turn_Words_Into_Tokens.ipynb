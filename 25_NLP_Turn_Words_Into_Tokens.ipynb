{
  "nbformat": 4,
  "nbformat_minor": 0,
  "metadata": {
    "colab": {
      "name": "25_NLP_Turn_Words_Into_Tokens.ipynb",
      "provenance": [],
      "collapsed_sections": [],
      "authorship_tag": "ABX9TyN3kotJqkVznVLZgTQZ2zbg",
      "include_colab_link": true
    },
    "kernelspec": {
      "name": "python3",
      "display_name": "Python 3"
    },
    "accelerator": "GPU"
  },
  "cells": [
    {
      "cell_type": "markdown",
      "metadata": {
        "id": "view-in-github",
        "colab_type": "text"
      },
      "source": [
        "<a href=\"https://colab.research.google.com/github/Mubasshir-Ali/Deep_Learning_Practice/blob/master/25_NLP_Turn_Words_Into_Tokens.ipynb\" target=\"_parent\"><img src=\"https://colab.research.google.com/assets/colab-badge.svg\" alt=\"Open In Colab\"/></a>"
      ]
    },
    {
      "cell_type": "markdown",
      "metadata": {
        "id": "LW9Tnl6YmjZs",
        "colab_type": "text"
      },
      "source": [
        "# Tokenizing Text And Creating Sequences For Sentences"
      ]
    },
    {
      "cell_type": "markdown",
      "metadata": {
        "id": "2i6Ut1yAmr5h",
        "colab_type": "text"
      },
      "source": [
        "# Import The Tokenizer"
      ]
    },
    {
      "cell_type": "code",
      "metadata": {
        "id": "2XuOoIdmlyOH",
        "colab_type": "code",
        "colab": {}
      },
      "source": [
        "# Import The Tokenizer\n",
        "from tensorflow.keras.preprocessing.text import Tokenizer"
      ],
      "execution_count": 0,
      "outputs": []
    },
    {
      "cell_type": "markdown",
      "metadata": {
        "id": "tUJjHM_onmt0",
        "colab_type": "text"
      },
      "source": [
        "# Write Some Sentences"
      ]
    },
    {
      "cell_type": "code",
      "metadata": {
        "id": "HJO6NZR5m634",
        "colab_type": "code",
        "colab": {}
      },
      "source": [
        "sentences = [\n",
        "    'My favorite food is ice cream',\n",
        "    'do you like ice cream too?',\n",
        "    'My dog likes ice cream!',\n",
        "    \"your favorite flavor of icecream is chocolate\",\n",
        "    \"chocolate isn't good for dogs\",\n",
        "    \"your dog, your cat, and your parrot prefer broccoli\"\n",
        "]"
      ],
      "execution_count": 0,
      "outputs": []
    },
    {
      "cell_type": "markdown",
      "metadata": {
        "id": "zAo1QrFwn3AE",
        "colab_type": "text"
      },
      "source": [
        "# Tokenize The Words\n",
        "The first step to preparing text to be used in a machine learning model is to tokenize the text, in other words, to generate numbers for the words."
      ]
    },
    {
      "cell_type": "code",
      "metadata": {
        "id": "8IVMCZh7n51n",
        "colab_type": "code",
        "colab": {}
      },
      "source": [
        "# Optionally set the max number of words to tokenize.\n",
        "# The out of vocabulary (OOV) token represents words that are not in the index.\n",
        "# Call fit_on_text() on the tokenizer to generate unique numbers for each word\n",
        "\n",
        "tokenizer = Tokenizer(num_words = 100, oov_token = \"<oov>\")\n",
        "tokenizer.fit_on_texts(sentences)"
      ],
      "execution_count": 0,
      "outputs": []
    },
    {
      "cell_type": "markdown",
      "metadata": {
        "id": "StwhR92JosHJ",
        "colab_type": "text"
      },
      "source": [
        "# View The Word Index\n",
        "After you tokenize the text, the tokenizer has a word index that contains key-value pairs for all the words and their numbers.\n",
        "\n",
        "The word is the key, and the number is the value.\n",
        "\n",
        "Notice that the OOV token is the first entry."
      ]
    },
    {
      "cell_type": "code",
      "metadata": {
        "id": "c4cgAm6GoxwZ",
        "colab_type": "code",
        "outputId": "1fb5c25f-d90b-48cc-ce1d-7aa2473b48cb",
        "colab": {
          "base_uri": "https://localhost:8080/",
          "height": 54
        }
      },
      "source": [
        "# Examine the word index\n",
        "word_index = tokenizer.word_index\n",
        "print(word_index)"
      ],
      "execution_count": 0,
      "outputs": [
        {
          "output_type": "stream",
          "text": [
            "{'<oov>': 1, 'your': 2, 'ice': 3, 'cream': 4, 'my': 5, 'favorite': 6, 'is': 7, 'dog': 8, 'chocolate': 9, 'food': 10, 'do': 11, 'you': 12, 'like': 13, 'too': 14, 'likes': 15, 'flavor': 16, 'of': 17, 'icecream': 18, \"isn't\": 19, 'good': 20, 'for': 21, 'dogs': 22, 'cat': 23, 'and': 24, 'parrot': 25, 'prefer': 26, 'broccoli': 27}\n"
          ],
          "name": "stdout"
        }
      ]
    },
    {
      "cell_type": "code",
      "metadata": {
        "id": "N59JId9CpSBy",
        "colab_type": "code",
        "outputId": "7b7f3216-66d0-4051-adf1-e22ba0314c33",
        "colab": {
          "base_uri": "https://localhost:8080/",
          "height": 34
        }
      },
      "source": [
        "# Get the number for a given word\n",
        "print(word_index['favorite'])"
      ],
      "execution_count": 0,
      "outputs": [
        {
          "output_type": "stream",
          "text": [
            "6\n"
          ],
          "name": "stdout"
        }
      ]
    },
    {
      "cell_type": "markdown",
      "metadata": {
        "id": "AhPL2I1spZ3U",
        "colab_type": "text"
      },
      "source": [
        "# Create Sequences For The Sentences\n",
        "After you tokenize the words, the word index contains a unique number for each word. However, the numbers in the word index are not ordered. Words in a sentence have an order. So after tokenizing the words, the next step is to generate sequences for the sentences."
      ]
    },
    {
      "cell_type": "code",
      "metadata": {
        "id": "YM8LiFfNpff5",
        "colab_type": "code",
        "outputId": "6859081a-9fbf-416e-b877-15a32d6f8cc6",
        "colab": {
          "base_uri": "https://localhost:8080/",
          "height": 54
        }
      },
      "source": [
        "sequences = tokenizer.texts_to_sequences(sentences)\n",
        "print(sequences)"
      ],
      "execution_count": 0,
      "outputs": [
        {
          "output_type": "stream",
          "text": [
            "[[5, 6, 10, 7, 3, 4], [11, 12, 13, 3, 4, 14], [5, 8, 15, 3, 4], [2, 6, 16, 17, 18, 7, 9], [9, 19, 20, 21, 22], [2, 8, 2, 23, 24, 2, 25, 26, 27]]\n"
          ],
          "name": "stdout"
        }
      ]
    },
    {
      "cell_type": "markdown",
      "metadata": {
        "id": "ruK0fusKppm-",
        "colab_type": "text"
      },
      "source": [
        "# Sequence Sentences That Contain Words That Are Not InTthe Word Index\n",
        "Let's take a look at what happens if the sentence being sequenced contains words that are not in the word index.\n",
        "\n",
        "The Out of Vocabluary (OOV) token is the first entry in the word index. You will see it shows up in the sequences in place of any word that is not in the word index."
      ]
    },
    {
      "cell_type": "code",
      "metadata": {
        "id": "5N7oplQmpzmh",
        "colab_type": "code",
        "outputId": "e4437732-da5e-4ddf-ce10-17b6ba454005",
        "colab": {
          "base_uri": "https://localhost:8080/",
          "height": 54
        }
      },
      "source": [
        "sentences2 = [\"I like hot chocolate\", \"My dogs and my hedgehog like kibble but my squirrel prefers grapes and my chickens like ice cream, preferably vanilla\"]\n",
        "\n",
        "sequences2 = tokenizer.texts_to_sequences(sentences2)\n",
        "print(sequences2)"
      ],
      "execution_count": 0,
      "outputs": [
        {
          "output_type": "stream",
          "text": [
            "[[1, 13, 1, 9], [5, 22, 24, 5, 1, 13, 1, 1, 5, 1, 1, 1, 24, 5, 1, 13, 3, 4, 1, 1]]\n"
          ],
          "name": "stdout"
        }
      ]
    },
    {
      "cell_type": "code",
      "metadata": {
        "id": "_NqYGNUOrvqn",
        "colab_type": "code",
        "colab": {}
      },
      "source": [
        ""
      ],
      "execution_count": 0,
      "outputs": []
    }
  ]
}