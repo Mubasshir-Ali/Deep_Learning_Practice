{
  "nbformat": 4,
  "nbformat_minor": 0,
  "metadata": {
    "colab": {
      "name": "32_NLP_Multiple_Models_For_Predicting_Sentiment.ipynb",
      "provenance": [],
      "collapsed_sections": [],
      "authorship_tag": "ABX9TyMMgmCi00IwKyyEkmLlMw/p",
      "include_colab_link": true
    },
    "kernelspec": {
      "name": "python3",
      "display_name": "Python 3"
    },
    "accelerator": "GPU",
    "widgets": {
      "application/vnd.jupyter.widget-state+json": {
        "326f36df2394405faf078c570eb727a3": {
          "model_module": "@jupyter-widgets/controls",
          "model_name": "HBoxModel",
          "state": {
            "_view_name": "HBoxView",
            "_dom_classes": [],
            "_model_name": "HBoxModel",
            "_view_module": "@jupyter-widgets/controls",
            "_model_module_version": "1.5.0",
            "_view_count": null,
            "_view_module_version": "1.5.0",
            "box_style": "",
            "layout": "IPY_MODEL_a3f74dd1c19840138cd454254b7468cd",
            "_model_module": "@jupyter-widgets/controls",
            "children": [
              "IPY_MODEL_bf0ff64f69114b8faf1f2ae7043a21a3",
              "IPY_MODEL_0dbb2fc932484408b6a91c0f42354df3"
            ]
          }
        },
        "a3f74dd1c19840138cd454254b7468cd": {
          "model_module": "@jupyter-widgets/base",
          "model_name": "LayoutModel",
          "state": {
            "_view_name": "LayoutView",
            "grid_template_rows": null,
            "right": null,
            "justify_content": null,
            "_view_module": "@jupyter-widgets/base",
            "overflow": null,
            "_model_module_version": "1.2.0",
            "_view_count": null,
            "flex_flow": null,
            "width": null,
            "min_width": null,
            "border": null,
            "align_items": null,
            "bottom": null,
            "_model_module": "@jupyter-widgets/base",
            "top": null,
            "grid_column": null,
            "overflow_y": null,
            "overflow_x": null,
            "grid_auto_flow": null,
            "grid_area": null,
            "grid_template_columns": null,
            "flex": null,
            "_model_name": "LayoutModel",
            "justify_items": null,
            "grid_row": null,
            "max_height": null,
            "align_content": null,
            "visibility": null,
            "align_self": null,
            "height": null,
            "min_height": null,
            "padding": null,
            "grid_auto_rows": null,
            "grid_gap": null,
            "max_width": null,
            "order": null,
            "_view_module_version": "1.2.0",
            "grid_template_areas": null,
            "object_position": null,
            "object_fit": null,
            "grid_auto_columns": null,
            "margin": null,
            "display": null,
            "left": null
          }
        },
        "bf0ff64f69114b8faf1f2ae7043a21a3": {
          "model_module": "@jupyter-widgets/controls",
          "model_name": "FloatProgressModel",
          "state": {
            "_view_name": "ProgressView",
            "style": "IPY_MODEL_113a2a86b29640fea93f4edd4516394c",
            "_dom_classes": [],
            "description": "Dl Completed...: 100%",
            "_model_name": "FloatProgressModel",
            "bar_style": "success",
            "max": 1,
            "_view_module": "@jupyter-widgets/controls",
            "_model_module_version": "1.5.0",
            "value": 1,
            "_view_count": null,
            "_view_module_version": "1.5.0",
            "orientation": "horizontal",
            "min": 0,
            "description_tooltip": null,
            "_model_module": "@jupyter-widgets/controls",
            "layout": "IPY_MODEL_5e200db6656f4ed7b7cd942a820fea33"
          }
        },
        "0dbb2fc932484408b6a91c0f42354df3": {
          "model_module": "@jupyter-widgets/controls",
          "model_name": "HTMLModel",
          "state": {
            "_view_name": "HTMLView",
            "style": "IPY_MODEL_81f0dfced3e34298b798b4fdbc40e3fb",
            "_dom_classes": [],
            "description": "",
            "_model_name": "HTMLModel",
            "placeholder": "​",
            "_view_module": "@jupyter-widgets/controls",
            "_model_module_version": "1.5.0",
            "value": " 1/1 [00:01&lt;00:00,  1.03s/ url]",
            "_view_count": null,
            "_view_module_version": "1.5.0",
            "description_tooltip": null,
            "_model_module": "@jupyter-widgets/controls",
            "layout": "IPY_MODEL_d03bd6784df0451ebe027f94f507c3da"
          }
        },
        "113a2a86b29640fea93f4edd4516394c": {
          "model_module": "@jupyter-widgets/controls",
          "model_name": "ProgressStyleModel",
          "state": {
            "_view_name": "StyleView",
            "_model_name": "ProgressStyleModel",
            "description_width": "initial",
            "_view_module": "@jupyter-widgets/base",
            "_model_module_version": "1.5.0",
            "_view_count": null,
            "_view_module_version": "1.2.0",
            "bar_color": null,
            "_model_module": "@jupyter-widgets/controls"
          }
        },
        "5e200db6656f4ed7b7cd942a820fea33": {
          "model_module": "@jupyter-widgets/base",
          "model_name": "LayoutModel",
          "state": {
            "_view_name": "LayoutView",
            "grid_template_rows": null,
            "right": null,
            "justify_content": null,
            "_view_module": "@jupyter-widgets/base",
            "overflow": null,
            "_model_module_version": "1.2.0",
            "_view_count": null,
            "flex_flow": null,
            "width": null,
            "min_width": null,
            "border": null,
            "align_items": null,
            "bottom": null,
            "_model_module": "@jupyter-widgets/base",
            "top": null,
            "grid_column": null,
            "overflow_y": null,
            "overflow_x": null,
            "grid_auto_flow": null,
            "grid_area": null,
            "grid_template_columns": null,
            "flex": null,
            "_model_name": "LayoutModel",
            "justify_items": null,
            "grid_row": null,
            "max_height": null,
            "align_content": null,
            "visibility": null,
            "align_self": null,
            "height": null,
            "min_height": null,
            "padding": null,
            "grid_auto_rows": null,
            "grid_gap": null,
            "max_width": null,
            "order": null,
            "_view_module_version": "1.2.0",
            "grid_template_areas": null,
            "object_position": null,
            "object_fit": null,
            "grid_auto_columns": null,
            "margin": null,
            "display": null,
            "left": null
          }
        },
        "81f0dfced3e34298b798b4fdbc40e3fb": {
          "model_module": "@jupyter-widgets/controls",
          "model_name": "DescriptionStyleModel",
          "state": {
            "_view_name": "StyleView",
            "_model_name": "DescriptionStyleModel",
            "description_width": "",
            "_view_module": "@jupyter-widgets/base",
            "_model_module_version": "1.5.0",
            "_view_count": null,
            "_view_module_version": "1.2.0",
            "_model_module": "@jupyter-widgets/controls"
          }
        },
        "d03bd6784df0451ebe027f94f507c3da": {
          "model_module": "@jupyter-widgets/base",
          "model_name": "LayoutModel",
          "state": {
            "_view_name": "LayoutView",
            "grid_template_rows": null,
            "right": null,
            "justify_content": null,
            "_view_module": "@jupyter-widgets/base",
            "overflow": null,
            "_model_module_version": "1.2.0",
            "_view_count": null,
            "flex_flow": null,
            "width": null,
            "min_width": null,
            "border": null,
            "align_items": null,
            "bottom": null,
            "_model_module": "@jupyter-widgets/base",
            "top": null,
            "grid_column": null,
            "overflow_y": null,
            "overflow_x": null,
            "grid_auto_flow": null,
            "grid_area": null,
            "grid_template_columns": null,
            "flex": null,
            "_model_name": "LayoutModel",
            "justify_items": null,
            "grid_row": null,
            "max_height": null,
            "align_content": null,
            "visibility": null,
            "align_self": null,
            "height": null,
            "min_height": null,
            "padding": null,
            "grid_auto_rows": null,
            "grid_gap": null,
            "max_width": null,
            "order": null,
            "_view_module_version": "1.2.0",
            "grid_template_areas": null,
            "object_position": null,
            "object_fit": null,
            "grid_auto_columns": null,
            "margin": null,
            "display": null,
            "left": null
          }
        },
        "3fcecce2c6c849019dc45b52d4428ee0": {
          "model_module": "@jupyter-widgets/controls",
          "model_name": "HBoxModel",
          "state": {
            "_view_name": "HBoxView",
            "_dom_classes": [],
            "_model_name": "HBoxModel",
            "_view_module": "@jupyter-widgets/controls",
            "_model_module_version": "1.5.0",
            "_view_count": null,
            "_view_module_version": "1.5.0",
            "box_style": "",
            "layout": "IPY_MODEL_7db6456f0ef94a2f80201b78b8971d0d",
            "_model_module": "@jupyter-widgets/controls",
            "children": [
              "IPY_MODEL_49b4e5f6e9454a52b43f37ef19432847",
              "IPY_MODEL_91ab1a788e2a440e8585c0ef50ee9b23"
            ]
          }
        },
        "7db6456f0ef94a2f80201b78b8971d0d": {
          "model_module": "@jupyter-widgets/base",
          "model_name": "LayoutModel",
          "state": {
            "_view_name": "LayoutView",
            "grid_template_rows": null,
            "right": null,
            "justify_content": null,
            "_view_module": "@jupyter-widgets/base",
            "overflow": null,
            "_model_module_version": "1.2.0",
            "_view_count": null,
            "flex_flow": null,
            "width": null,
            "min_width": null,
            "border": null,
            "align_items": null,
            "bottom": null,
            "_model_module": "@jupyter-widgets/base",
            "top": null,
            "grid_column": null,
            "overflow_y": null,
            "overflow_x": null,
            "grid_auto_flow": null,
            "grid_area": null,
            "grid_template_columns": null,
            "flex": null,
            "_model_name": "LayoutModel",
            "justify_items": null,
            "grid_row": null,
            "max_height": null,
            "align_content": null,
            "visibility": null,
            "align_self": null,
            "height": null,
            "min_height": null,
            "padding": null,
            "grid_auto_rows": null,
            "grid_gap": null,
            "max_width": null,
            "order": null,
            "_view_module_version": "1.2.0",
            "grid_template_areas": null,
            "object_position": null,
            "object_fit": null,
            "grid_auto_columns": null,
            "margin": null,
            "display": null,
            "left": null
          }
        },
        "49b4e5f6e9454a52b43f37ef19432847": {
          "model_module": "@jupyter-widgets/controls",
          "model_name": "FloatProgressModel",
          "state": {
            "_view_name": "ProgressView",
            "style": "IPY_MODEL_1c58d101cc9b4509a565b8388db5b51f",
            "_dom_classes": [],
            "description": "Dl Size...: 100%",
            "_model_name": "FloatProgressModel",
            "bar_style": "success",
            "max": 1,
            "_view_module": "@jupyter-widgets/controls",
            "_model_module_version": "1.5.0",
            "value": 1,
            "_view_count": null,
            "_view_module_version": "1.5.0",
            "orientation": "horizontal",
            "min": 0,
            "description_tooltip": null,
            "_model_module": "@jupyter-widgets/controls",
            "layout": "IPY_MODEL_f99dbaec962b41b089d470b30cfaa9ed"
          }
        },
        "91ab1a788e2a440e8585c0ef50ee9b23": {
          "model_module": "@jupyter-widgets/controls",
          "model_name": "HTMLModel",
          "state": {
            "_view_name": "HTMLView",
            "style": "IPY_MODEL_6dce24c3dcb84a62a80fbe8a0503054f",
            "_dom_classes": [],
            "description": "",
            "_model_name": "HTMLModel",
            "placeholder": "​",
            "_view_module": "@jupyter-widgets/controls",
            "_model_module_version": "1.5.0",
            "value": " 7/7 [00:00&lt;00:00,  7.03 MiB/s]",
            "_view_count": null,
            "_view_module_version": "1.5.0",
            "description_tooltip": null,
            "_model_module": "@jupyter-widgets/controls",
            "layout": "IPY_MODEL_6674211eab24458da61d1e8fdb7be446"
          }
        },
        "1c58d101cc9b4509a565b8388db5b51f": {
          "model_module": "@jupyter-widgets/controls",
          "model_name": "ProgressStyleModel",
          "state": {
            "_view_name": "StyleView",
            "_model_name": "ProgressStyleModel",
            "description_width": "initial",
            "_view_module": "@jupyter-widgets/base",
            "_model_module_version": "1.5.0",
            "_view_count": null,
            "_view_module_version": "1.2.0",
            "bar_color": null,
            "_model_module": "@jupyter-widgets/controls"
          }
        },
        "f99dbaec962b41b089d470b30cfaa9ed": {
          "model_module": "@jupyter-widgets/base",
          "model_name": "LayoutModel",
          "state": {
            "_view_name": "LayoutView",
            "grid_template_rows": null,
            "right": null,
            "justify_content": null,
            "_view_module": "@jupyter-widgets/base",
            "overflow": null,
            "_model_module_version": "1.2.0",
            "_view_count": null,
            "flex_flow": null,
            "width": null,
            "min_width": null,
            "border": null,
            "align_items": null,
            "bottom": null,
            "_model_module": "@jupyter-widgets/base",
            "top": null,
            "grid_column": null,
            "overflow_y": null,
            "overflow_x": null,
            "grid_auto_flow": null,
            "grid_area": null,
            "grid_template_columns": null,
            "flex": null,
            "_model_name": "LayoutModel",
            "justify_items": null,
            "grid_row": null,
            "max_height": null,
            "align_content": null,
            "visibility": null,
            "align_self": null,
            "height": null,
            "min_height": null,
            "padding": null,
            "grid_auto_rows": null,
            "grid_gap": null,
            "max_width": null,
            "order": null,
            "_view_module_version": "1.2.0",
            "grid_template_areas": null,
            "object_position": null,
            "object_fit": null,
            "grid_auto_columns": null,
            "margin": null,
            "display": null,
            "left": null
          }
        },
        "6dce24c3dcb84a62a80fbe8a0503054f": {
          "model_module": "@jupyter-widgets/controls",
          "model_name": "DescriptionStyleModel",
          "state": {
            "_view_name": "StyleView",
            "_model_name": "DescriptionStyleModel",
            "description_width": "",
            "_view_module": "@jupyter-widgets/base",
            "_model_module_version": "1.5.0",
            "_view_count": null,
            "_view_module_version": "1.2.0",
            "_model_module": "@jupyter-widgets/controls"
          }
        },
        "6674211eab24458da61d1e8fdb7be446": {
          "model_module": "@jupyter-widgets/base",
          "model_name": "LayoutModel",
          "state": {
            "_view_name": "LayoutView",
            "grid_template_rows": null,
            "right": null,
            "justify_content": null,
            "_view_module": "@jupyter-widgets/base",
            "overflow": null,
            "_model_module_version": "1.2.0",
            "_view_count": null,
            "flex_flow": null,
            "width": null,
            "min_width": null,
            "border": null,
            "align_items": null,
            "bottom": null,
            "_model_module": "@jupyter-widgets/base",
            "top": null,
            "grid_column": null,
            "overflow_y": null,
            "overflow_x": null,
            "grid_auto_flow": null,
            "grid_area": null,
            "grid_template_columns": null,
            "flex": null,
            "_model_name": "LayoutModel",
            "justify_items": null,
            "grid_row": null,
            "max_height": null,
            "align_content": null,
            "visibility": null,
            "align_self": null,
            "height": null,
            "min_height": null,
            "padding": null,
            "grid_auto_rows": null,
            "grid_gap": null,
            "max_width": null,
            "order": null,
            "_view_module_version": "1.2.0",
            "grid_template_areas": null,
            "object_position": null,
            "object_fit": null,
            "grid_auto_columns": null,
            "margin": null,
            "display": null,
            "left": null
          }
        },
        "67ec8b2977eb473c8c7b2b055ae00e0c": {
          "model_module": "@jupyter-widgets/controls",
          "model_name": "HBoxModel",
          "state": {
            "_view_name": "HBoxView",
            "_dom_classes": [],
            "_model_name": "HBoxModel",
            "_view_module": "@jupyter-widgets/controls",
            "_model_module_version": "1.5.0",
            "_view_count": null,
            "_view_module_version": "1.5.0",
            "box_style": "",
            "layout": "IPY_MODEL_eaa11bccf63047d88d6d0825a0378f86",
            "_model_module": "@jupyter-widgets/controls",
            "children": [
              "IPY_MODEL_a8ba6f00a59f4c878557e8f5601e8899",
              "IPY_MODEL_8ff2c6cb8a4045c691e1a53f21e85ed5"
            ]
          }
        },
        "eaa11bccf63047d88d6d0825a0378f86": {
          "model_module": "@jupyter-widgets/base",
          "model_name": "LayoutModel",
          "state": {
            "_view_name": "LayoutView",
            "grid_template_rows": null,
            "right": null,
            "justify_content": null,
            "_view_module": "@jupyter-widgets/base",
            "overflow": null,
            "_model_module_version": "1.2.0",
            "_view_count": null,
            "flex_flow": null,
            "width": null,
            "min_width": null,
            "border": null,
            "align_items": null,
            "bottom": null,
            "_model_module": "@jupyter-widgets/base",
            "top": null,
            "grid_column": null,
            "overflow_y": null,
            "overflow_x": null,
            "grid_auto_flow": null,
            "grid_area": null,
            "grid_template_columns": null,
            "flex": null,
            "_model_name": "LayoutModel",
            "justify_items": null,
            "grid_row": null,
            "max_height": null,
            "align_content": null,
            "visibility": null,
            "align_self": null,
            "height": null,
            "min_height": null,
            "padding": null,
            "grid_auto_rows": null,
            "grid_gap": null,
            "max_width": null,
            "order": null,
            "_view_module_version": "1.2.0",
            "grid_template_areas": null,
            "object_position": null,
            "object_fit": null,
            "grid_auto_columns": null,
            "margin": null,
            "display": null,
            "left": null
          }
        },
        "a8ba6f00a59f4c878557e8f5601e8899": {
          "model_module": "@jupyter-widgets/controls",
          "model_name": "FloatProgressModel",
          "state": {
            "_view_name": "ProgressView",
            "style": "IPY_MODEL_fa455ef1d3964c3895d9fcd5c2338cac",
            "_dom_classes": [],
            "description": "Extraction completed...: 100%",
            "_model_name": "FloatProgressModel",
            "bar_style": "success",
            "max": 1,
            "_view_module": "@jupyter-widgets/controls",
            "_model_module_version": "1.5.0",
            "value": 1,
            "_view_count": null,
            "_view_module_version": "1.5.0",
            "orientation": "horizontal",
            "min": 0,
            "description_tooltip": null,
            "_model_module": "@jupyter-widgets/controls",
            "layout": "IPY_MODEL_f0ddaf92eb9f48dc81f4b9defbe819c8"
          }
        },
        "8ff2c6cb8a4045c691e1a53f21e85ed5": {
          "model_module": "@jupyter-widgets/controls",
          "model_name": "HTMLModel",
          "state": {
            "_view_name": "HTMLView",
            "style": "IPY_MODEL_ff9ea72dbc0447ca9a7dc18bb1a26569",
            "_dom_classes": [],
            "description": "",
            "_model_name": "HTMLModel",
            "placeholder": "​",
            "_view_module": "@jupyter-widgets/controls",
            "_model_module_version": "1.5.0",
            "value": " 1/1 [00:00&lt;00:00,  1.04 file/s]",
            "_view_count": null,
            "_view_module_version": "1.5.0",
            "description_tooltip": null,
            "_model_module": "@jupyter-widgets/controls",
            "layout": "IPY_MODEL_a3460a061f174770bad12d3d5efa52d5"
          }
        },
        "fa455ef1d3964c3895d9fcd5c2338cac": {
          "model_module": "@jupyter-widgets/controls",
          "model_name": "ProgressStyleModel",
          "state": {
            "_view_name": "StyleView",
            "_model_name": "ProgressStyleModel",
            "description_width": "initial",
            "_view_module": "@jupyter-widgets/base",
            "_model_module_version": "1.5.0",
            "_view_count": null,
            "_view_module_version": "1.2.0",
            "bar_color": null,
            "_model_module": "@jupyter-widgets/controls"
          }
        },
        "f0ddaf92eb9f48dc81f4b9defbe819c8": {
          "model_module": "@jupyter-widgets/base",
          "model_name": "LayoutModel",
          "state": {
            "_view_name": "LayoutView",
            "grid_template_rows": null,
            "right": null,
            "justify_content": null,
            "_view_module": "@jupyter-widgets/base",
            "overflow": null,
            "_model_module_version": "1.2.0",
            "_view_count": null,
            "flex_flow": null,
            "width": null,
            "min_width": null,
            "border": null,
            "align_items": null,
            "bottom": null,
            "_model_module": "@jupyter-widgets/base",
            "top": null,
            "grid_column": null,
            "overflow_y": null,
            "overflow_x": null,
            "grid_auto_flow": null,
            "grid_area": null,
            "grid_template_columns": null,
            "flex": null,
            "_model_name": "LayoutModel",
            "justify_items": null,
            "grid_row": null,
            "max_height": null,
            "align_content": null,
            "visibility": null,
            "align_self": null,
            "height": null,
            "min_height": null,
            "padding": null,
            "grid_auto_rows": null,
            "grid_gap": null,
            "max_width": null,
            "order": null,
            "_view_module_version": "1.2.0",
            "grid_template_areas": null,
            "object_position": null,
            "object_fit": null,
            "grid_auto_columns": null,
            "margin": null,
            "display": null,
            "left": null
          }
        },
        "ff9ea72dbc0447ca9a7dc18bb1a26569": {
          "model_module": "@jupyter-widgets/controls",
          "model_name": "DescriptionStyleModel",
          "state": {
            "_view_name": "StyleView",
            "_model_name": "DescriptionStyleModel",
            "description_width": "",
            "_view_module": "@jupyter-widgets/base",
            "_model_module_version": "1.5.0",
            "_view_count": null,
            "_view_module_version": "1.2.0",
            "_model_module": "@jupyter-widgets/controls"
          }
        },
        "a3460a061f174770bad12d3d5efa52d5": {
          "model_module": "@jupyter-widgets/base",
          "model_name": "LayoutModel",
          "state": {
            "_view_name": "LayoutView",
            "grid_template_rows": null,
            "right": null,
            "justify_content": null,
            "_view_module": "@jupyter-widgets/base",
            "overflow": null,
            "_model_module_version": "1.2.0",
            "_view_count": null,
            "flex_flow": null,
            "width": null,
            "min_width": null,
            "border": null,
            "align_items": null,
            "bottom": null,
            "_model_module": "@jupyter-widgets/base",
            "top": null,
            "grid_column": null,
            "overflow_y": null,
            "overflow_x": null,
            "grid_auto_flow": null,
            "grid_area": null,
            "grid_template_columns": null,
            "flex": null,
            "_model_name": "LayoutModel",
            "justify_items": null,
            "grid_row": null,
            "max_height": null,
            "align_content": null,
            "visibility": null,
            "align_self": null,
            "height": null,
            "min_height": null,
            "padding": null,
            "grid_auto_rows": null,
            "grid_gap": null,
            "max_width": null,
            "order": null,
            "_view_module_version": "1.2.0",
            "grid_template_areas": null,
            "object_position": null,
            "object_fit": null,
            "grid_auto_columns": null,
            "margin": null,
            "display": null,
            "left": null
          }
        },
        "7fead616184540a5b486b80c30f26757": {
          "model_module": "@jupyter-widgets/controls",
          "model_name": "HBoxModel",
          "state": {
            "_view_name": "HBoxView",
            "_dom_classes": [],
            "_model_name": "HBoxModel",
            "_view_module": "@jupyter-widgets/controls",
            "_model_module_version": "1.5.0",
            "_view_count": null,
            "_view_module_version": "1.5.0",
            "box_style": "",
            "layout": "IPY_MODEL_fc2bcb1a568b48ea8e97d7849b33fa7f",
            "_model_module": "@jupyter-widgets/controls",
            "children": [
              "IPY_MODEL_d1808dae761b4685855b791de5a49d82",
              "IPY_MODEL_6c1cbcadaf7247678b48f0469ac2556b"
            ]
          }
        },
        "fc2bcb1a568b48ea8e97d7849b33fa7f": {
          "model_module": "@jupyter-widgets/base",
          "model_name": "LayoutModel",
          "state": {
            "_view_name": "LayoutView",
            "grid_template_rows": null,
            "right": null,
            "justify_content": null,
            "_view_module": "@jupyter-widgets/base",
            "overflow": null,
            "_model_module_version": "1.2.0",
            "_view_count": null,
            "flex_flow": null,
            "width": null,
            "min_width": null,
            "border": null,
            "align_items": null,
            "bottom": null,
            "_model_module": "@jupyter-widgets/base",
            "top": null,
            "grid_column": null,
            "overflow_y": null,
            "overflow_x": null,
            "grid_auto_flow": null,
            "grid_area": null,
            "grid_template_columns": null,
            "flex": null,
            "_model_name": "LayoutModel",
            "justify_items": null,
            "grid_row": null,
            "max_height": null,
            "align_content": null,
            "visibility": null,
            "align_self": null,
            "height": null,
            "min_height": null,
            "padding": null,
            "grid_auto_rows": null,
            "grid_gap": null,
            "max_width": null,
            "order": null,
            "_view_module_version": "1.2.0",
            "grid_template_areas": null,
            "object_position": null,
            "object_fit": null,
            "grid_auto_columns": null,
            "margin": null,
            "display": null,
            "left": null
          }
        },
        "d1808dae761b4685855b791de5a49d82": {
          "model_module": "@jupyter-widgets/controls",
          "model_name": "FloatProgressModel",
          "state": {
            "_view_name": "ProgressView",
            "style": "IPY_MODEL_013c8b3dff1344a982189a029e51656b",
            "_dom_classes": [],
            "description": "",
            "_model_name": "FloatProgressModel",
            "bar_style": "info",
            "max": 1,
            "_view_module": "@jupyter-widgets/controls",
            "_model_module_version": "1.5.0",
            "value": 1,
            "_view_count": null,
            "_view_module_version": "1.5.0",
            "orientation": "horizontal",
            "min": 0,
            "description_tooltip": null,
            "_model_module": "@jupyter-widgets/controls",
            "layout": "IPY_MODEL_57d1adf32f6a4d5bb90835e0edc53b73"
          }
        },
        "6c1cbcadaf7247678b48f0469ac2556b": {
          "model_module": "@jupyter-widgets/controls",
          "model_name": "HTMLModel",
          "state": {
            "_view_name": "HTMLView",
            "style": "IPY_MODEL_c6a3287bb69346d19f2b505b93280fc5",
            "_dom_classes": [],
            "description": "",
            "_model_name": "HTMLModel",
            "placeholder": "​",
            "_view_module": "@jupyter-widgets/controls",
            "_model_module_version": "1.5.0",
            "value": " 67349/0 [00:21&lt;00:00, 3007.85 examples/s]",
            "_view_count": null,
            "_view_module_version": "1.5.0",
            "description_tooltip": null,
            "_model_module": "@jupyter-widgets/controls",
            "layout": "IPY_MODEL_cb5c3a080edd48f08f084e271d850f09"
          }
        },
        "013c8b3dff1344a982189a029e51656b": {
          "model_module": "@jupyter-widgets/controls",
          "model_name": "ProgressStyleModel",
          "state": {
            "_view_name": "StyleView",
            "_model_name": "ProgressStyleModel",
            "description_width": "initial",
            "_view_module": "@jupyter-widgets/base",
            "_model_module_version": "1.5.0",
            "_view_count": null,
            "_view_module_version": "1.2.0",
            "bar_color": null,
            "_model_module": "@jupyter-widgets/controls"
          }
        },
        "57d1adf32f6a4d5bb90835e0edc53b73": {
          "model_module": "@jupyter-widgets/base",
          "model_name": "LayoutModel",
          "state": {
            "_view_name": "LayoutView",
            "grid_template_rows": null,
            "right": null,
            "justify_content": null,
            "_view_module": "@jupyter-widgets/base",
            "overflow": null,
            "_model_module_version": "1.2.0",
            "_view_count": null,
            "flex_flow": null,
            "width": null,
            "min_width": null,
            "border": null,
            "align_items": null,
            "bottom": null,
            "_model_module": "@jupyter-widgets/base",
            "top": null,
            "grid_column": null,
            "overflow_y": null,
            "overflow_x": null,
            "grid_auto_flow": null,
            "grid_area": null,
            "grid_template_columns": null,
            "flex": null,
            "_model_name": "LayoutModel",
            "justify_items": null,
            "grid_row": null,
            "max_height": null,
            "align_content": null,
            "visibility": null,
            "align_self": null,
            "height": null,
            "min_height": null,
            "padding": null,
            "grid_auto_rows": null,
            "grid_gap": null,
            "max_width": null,
            "order": null,
            "_view_module_version": "1.2.0",
            "grid_template_areas": null,
            "object_position": null,
            "object_fit": null,
            "grid_auto_columns": null,
            "margin": null,
            "display": null,
            "left": null
          }
        },
        "c6a3287bb69346d19f2b505b93280fc5": {
          "model_module": "@jupyter-widgets/controls",
          "model_name": "DescriptionStyleModel",
          "state": {
            "_view_name": "StyleView",
            "_model_name": "DescriptionStyleModel",
            "description_width": "",
            "_view_module": "@jupyter-widgets/base",
            "_model_module_version": "1.5.0",
            "_view_count": null,
            "_view_module_version": "1.2.0",
            "_model_module": "@jupyter-widgets/controls"
          }
        },
        "cb5c3a080edd48f08f084e271d850f09": {
          "model_module": "@jupyter-widgets/base",
          "model_name": "LayoutModel",
          "state": {
            "_view_name": "LayoutView",
            "grid_template_rows": null,
            "right": null,
            "justify_content": null,
            "_view_module": "@jupyter-widgets/base",
            "overflow": null,
            "_model_module_version": "1.2.0",
            "_view_count": null,
            "flex_flow": null,
            "width": null,
            "min_width": null,
            "border": null,
            "align_items": null,
            "bottom": null,
            "_model_module": "@jupyter-widgets/base",
            "top": null,
            "grid_column": null,
            "overflow_y": null,
            "overflow_x": null,
            "grid_auto_flow": null,
            "grid_area": null,
            "grid_template_columns": null,
            "flex": null,
            "_model_name": "LayoutModel",
            "justify_items": null,
            "grid_row": null,
            "max_height": null,
            "align_content": null,
            "visibility": null,
            "align_self": null,
            "height": null,
            "min_height": null,
            "padding": null,
            "grid_auto_rows": null,
            "grid_gap": null,
            "max_width": null,
            "order": null,
            "_view_module_version": "1.2.0",
            "grid_template_areas": null,
            "object_position": null,
            "object_fit": null,
            "grid_auto_columns": null,
            "margin": null,
            "display": null,
            "left": null
          }
        },
        "f4850cb162384123a56942984b74b11a": {
          "model_module": "@jupyter-widgets/controls",
          "model_name": "HBoxModel",
          "state": {
            "_view_name": "HBoxView",
            "_dom_classes": [],
            "_model_name": "HBoxModel",
            "_view_module": "@jupyter-widgets/controls",
            "_model_module_version": "1.5.0",
            "_view_count": null,
            "_view_module_version": "1.5.0",
            "box_style": "",
            "layout": "IPY_MODEL_cde01b7449c440789582bf7672e04359",
            "_model_module": "@jupyter-widgets/controls",
            "children": [
              "IPY_MODEL_983a2c03cca94716af2b6fa5466e2946",
              "IPY_MODEL_20b1ce80199644428161476dbb8edf48"
            ]
          }
        },
        "cde01b7449c440789582bf7672e04359": {
          "model_module": "@jupyter-widgets/base",
          "model_name": "LayoutModel",
          "state": {
            "_view_name": "LayoutView",
            "grid_template_rows": null,
            "right": null,
            "justify_content": null,
            "_view_module": "@jupyter-widgets/base",
            "overflow": null,
            "_model_module_version": "1.2.0",
            "_view_count": null,
            "flex_flow": null,
            "width": null,
            "min_width": null,
            "border": null,
            "align_items": null,
            "bottom": null,
            "_model_module": "@jupyter-widgets/base",
            "top": null,
            "grid_column": null,
            "overflow_y": null,
            "overflow_x": null,
            "grid_auto_flow": null,
            "grid_area": null,
            "grid_template_columns": null,
            "flex": null,
            "_model_name": "LayoutModel",
            "justify_items": null,
            "grid_row": null,
            "max_height": null,
            "align_content": null,
            "visibility": null,
            "align_self": null,
            "height": null,
            "min_height": null,
            "padding": null,
            "grid_auto_rows": null,
            "grid_gap": null,
            "max_width": null,
            "order": null,
            "_view_module_version": "1.2.0",
            "grid_template_areas": null,
            "object_position": null,
            "object_fit": null,
            "grid_auto_columns": null,
            "margin": null,
            "display": null,
            "left": null
          }
        },
        "983a2c03cca94716af2b6fa5466e2946": {
          "model_module": "@jupyter-widgets/controls",
          "model_name": "FloatProgressModel",
          "state": {
            "_view_name": "ProgressView",
            "style": "IPY_MODEL_c34865bedcab4e14a0c7defac293ea46",
            "_dom_classes": [],
            "description": " 86%",
            "_model_name": "FloatProgressModel",
            "bar_style": "danger",
            "max": 67349,
            "_view_module": "@jupyter-widgets/controls",
            "_model_module_version": "1.5.0",
            "value": 58024,
            "_view_count": null,
            "_view_module_version": "1.5.0",
            "orientation": "horizontal",
            "min": 0,
            "description_tooltip": null,
            "_model_module": "@jupyter-widgets/controls",
            "layout": "IPY_MODEL_786a35d358fc40df962c48129b15adec"
          }
        },
        "20b1ce80199644428161476dbb8edf48": {
          "model_module": "@jupyter-widgets/controls",
          "model_name": "HTMLModel",
          "state": {
            "_view_name": "HTMLView",
            "style": "IPY_MODEL_10c23bdd66e4408aa162675d72e456a9",
            "_dom_classes": [],
            "description": "",
            "_model_name": "HTMLModel",
            "placeholder": "​",
            "_view_module": "@jupyter-widgets/controls",
            "_model_module_version": "1.5.0",
            "value": " 58024/67349 [00:00&lt;00:00, 56762.56 examples/s]",
            "_view_count": null,
            "_view_module_version": "1.5.0",
            "description_tooltip": null,
            "_model_module": "@jupyter-widgets/controls",
            "layout": "IPY_MODEL_6bd07a2c6eec45feb9b219c192d52ec7"
          }
        },
        "c34865bedcab4e14a0c7defac293ea46": {
          "model_module": "@jupyter-widgets/controls",
          "model_name": "ProgressStyleModel",
          "state": {
            "_view_name": "StyleView",
            "_model_name": "ProgressStyleModel",
            "description_width": "initial",
            "_view_module": "@jupyter-widgets/base",
            "_model_module_version": "1.5.0",
            "_view_count": null,
            "_view_module_version": "1.2.0",
            "bar_color": null,
            "_model_module": "@jupyter-widgets/controls"
          }
        },
        "786a35d358fc40df962c48129b15adec": {
          "model_module": "@jupyter-widgets/base",
          "model_name": "LayoutModel",
          "state": {
            "_view_name": "LayoutView",
            "grid_template_rows": null,
            "right": null,
            "justify_content": null,
            "_view_module": "@jupyter-widgets/base",
            "overflow": null,
            "_model_module_version": "1.2.0",
            "_view_count": null,
            "flex_flow": null,
            "width": null,
            "min_width": null,
            "border": null,
            "align_items": null,
            "bottom": null,
            "_model_module": "@jupyter-widgets/base",
            "top": null,
            "grid_column": null,
            "overflow_y": null,
            "overflow_x": null,
            "grid_auto_flow": null,
            "grid_area": null,
            "grid_template_columns": null,
            "flex": null,
            "_model_name": "LayoutModel",
            "justify_items": null,
            "grid_row": null,
            "max_height": null,
            "align_content": null,
            "visibility": null,
            "align_self": null,
            "height": null,
            "min_height": null,
            "padding": null,
            "grid_auto_rows": null,
            "grid_gap": null,
            "max_width": null,
            "order": null,
            "_view_module_version": "1.2.0",
            "grid_template_areas": null,
            "object_position": null,
            "object_fit": null,
            "grid_auto_columns": null,
            "margin": null,
            "display": null,
            "left": null
          }
        },
        "10c23bdd66e4408aa162675d72e456a9": {
          "model_module": "@jupyter-widgets/controls",
          "model_name": "DescriptionStyleModel",
          "state": {
            "_view_name": "StyleView",
            "_model_name": "DescriptionStyleModel",
            "description_width": "",
            "_view_module": "@jupyter-widgets/base",
            "_model_module_version": "1.5.0",
            "_view_count": null,
            "_view_module_version": "1.2.0",
            "_model_module": "@jupyter-widgets/controls"
          }
        },
        "6bd07a2c6eec45feb9b219c192d52ec7": {
          "model_module": "@jupyter-widgets/base",
          "model_name": "LayoutModel",
          "state": {
            "_view_name": "LayoutView",
            "grid_template_rows": null,
            "right": null,
            "justify_content": null,
            "_view_module": "@jupyter-widgets/base",
            "overflow": null,
            "_model_module_version": "1.2.0",
            "_view_count": null,
            "flex_flow": null,
            "width": null,
            "min_width": null,
            "border": null,
            "align_items": null,
            "bottom": null,
            "_model_module": "@jupyter-widgets/base",
            "top": null,
            "grid_column": null,
            "overflow_y": null,
            "overflow_x": null,
            "grid_auto_flow": null,
            "grid_area": null,
            "grid_template_columns": null,
            "flex": null,
            "_model_name": "LayoutModel",
            "justify_items": null,
            "grid_row": null,
            "max_height": null,
            "align_content": null,
            "visibility": null,
            "align_self": null,
            "height": null,
            "min_height": null,
            "padding": null,
            "grid_auto_rows": null,
            "grid_gap": null,
            "max_width": null,
            "order": null,
            "_view_module_version": "1.2.0",
            "grid_template_areas": null,
            "object_position": null,
            "object_fit": null,
            "grid_auto_columns": null,
            "margin": null,
            "display": null,
            "left": null
          }
        },
        "e36a9eca61b642dfb2546aea2289b50c": {
          "model_module": "@jupyter-widgets/controls",
          "model_name": "HBoxModel",
          "state": {
            "_view_name": "HBoxView",
            "_dom_classes": [],
            "_model_name": "HBoxModel",
            "_view_module": "@jupyter-widgets/controls",
            "_model_module_version": "1.5.0",
            "_view_count": null,
            "_view_module_version": "1.5.0",
            "box_style": "",
            "layout": "IPY_MODEL_3285fed4e89b41049a12a28e700c81e1",
            "_model_module": "@jupyter-widgets/controls",
            "children": [
              "IPY_MODEL_0990d29e17d74065a887de9285a550c0",
              "IPY_MODEL_cd532db5495f46c49f2270531c60d041"
            ]
          }
        },
        "3285fed4e89b41049a12a28e700c81e1": {
          "model_module": "@jupyter-widgets/base",
          "model_name": "LayoutModel",
          "state": {
            "_view_name": "LayoutView",
            "grid_template_rows": null,
            "right": null,
            "justify_content": null,
            "_view_module": "@jupyter-widgets/base",
            "overflow": null,
            "_model_module_version": "1.2.0",
            "_view_count": null,
            "flex_flow": null,
            "width": null,
            "min_width": null,
            "border": null,
            "align_items": null,
            "bottom": null,
            "_model_module": "@jupyter-widgets/base",
            "top": null,
            "grid_column": null,
            "overflow_y": null,
            "overflow_x": null,
            "grid_auto_flow": null,
            "grid_area": null,
            "grid_template_columns": null,
            "flex": null,
            "_model_name": "LayoutModel",
            "justify_items": null,
            "grid_row": null,
            "max_height": null,
            "align_content": null,
            "visibility": null,
            "align_self": null,
            "height": null,
            "min_height": null,
            "padding": null,
            "grid_auto_rows": null,
            "grid_gap": null,
            "max_width": null,
            "order": null,
            "_view_module_version": "1.2.0",
            "grid_template_areas": null,
            "object_position": null,
            "object_fit": null,
            "grid_auto_columns": null,
            "margin": null,
            "display": null,
            "left": null
          }
        },
        "0990d29e17d74065a887de9285a550c0": {
          "model_module": "@jupyter-widgets/controls",
          "model_name": "FloatProgressModel",
          "state": {
            "_view_name": "ProgressView",
            "style": "IPY_MODEL_737873bd6b7a483895424915e968ca15",
            "_dom_classes": [],
            "description": "",
            "_model_name": "FloatProgressModel",
            "bar_style": "info",
            "max": 1,
            "_view_module": "@jupyter-widgets/controls",
            "_model_module_version": "1.5.0",
            "value": 1,
            "_view_count": null,
            "_view_module_version": "1.5.0",
            "orientation": "horizontal",
            "min": 0,
            "description_tooltip": null,
            "_model_module": "@jupyter-widgets/controls",
            "layout": "IPY_MODEL_b0da985c60a940978fd8a3c567f4fc62"
          }
        },
        "cd532db5495f46c49f2270531c60d041": {
          "model_module": "@jupyter-widgets/controls",
          "model_name": "HTMLModel",
          "state": {
            "_view_name": "HTMLView",
            "style": "IPY_MODEL_f1366f30610d435da01e42f73e471564",
            "_dom_classes": [],
            "description": "",
            "_model_name": "HTMLModel",
            "placeholder": "​",
            "_view_module": "@jupyter-widgets/controls",
            "_model_module_version": "1.5.0",
            "value": " 872/0 [00:00&lt;00:00, 2357.83 examples/s]",
            "_view_count": null,
            "_view_module_version": "1.5.0",
            "description_tooltip": null,
            "_model_module": "@jupyter-widgets/controls",
            "layout": "IPY_MODEL_44200d39342d4f4f98a8161588a8d4e4"
          }
        },
        "737873bd6b7a483895424915e968ca15": {
          "model_module": "@jupyter-widgets/controls",
          "model_name": "ProgressStyleModel",
          "state": {
            "_view_name": "StyleView",
            "_model_name": "ProgressStyleModel",
            "description_width": "initial",
            "_view_module": "@jupyter-widgets/base",
            "_model_module_version": "1.5.0",
            "_view_count": null,
            "_view_module_version": "1.2.0",
            "bar_color": null,
            "_model_module": "@jupyter-widgets/controls"
          }
        },
        "b0da985c60a940978fd8a3c567f4fc62": {
          "model_module": "@jupyter-widgets/base",
          "model_name": "LayoutModel",
          "state": {
            "_view_name": "LayoutView",
            "grid_template_rows": null,
            "right": null,
            "justify_content": null,
            "_view_module": "@jupyter-widgets/base",
            "overflow": null,
            "_model_module_version": "1.2.0",
            "_view_count": null,
            "flex_flow": null,
            "width": null,
            "min_width": null,
            "border": null,
            "align_items": null,
            "bottom": null,
            "_model_module": "@jupyter-widgets/base",
            "top": null,
            "grid_column": null,
            "overflow_y": null,
            "overflow_x": null,
            "grid_auto_flow": null,
            "grid_area": null,
            "grid_template_columns": null,
            "flex": null,
            "_model_name": "LayoutModel",
            "justify_items": null,
            "grid_row": null,
            "max_height": null,
            "align_content": null,
            "visibility": null,
            "align_self": null,
            "height": null,
            "min_height": null,
            "padding": null,
            "grid_auto_rows": null,
            "grid_gap": null,
            "max_width": null,
            "order": null,
            "_view_module_version": "1.2.0",
            "grid_template_areas": null,
            "object_position": null,
            "object_fit": null,
            "grid_auto_columns": null,
            "margin": null,
            "display": null,
            "left": null
          }
        },
        "f1366f30610d435da01e42f73e471564": {
          "model_module": "@jupyter-widgets/controls",
          "model_name": "DescriptionStyleModel",
          "state": {
            "_view_name": "StyleView",
            "_model_name": "DescriptionStyleModel",
            "description_width": "",
            "_view_module": "@jupyter-widgets/base",
            "_model_module_version": "1.5.0",
            "_view_count": null,
            "_view_module_version": "1.2.0",
            "_model_module": "@jupyter-widgets/controls"
          }
        },
        "44200d39342d4f4f98a8161588a8d4e4": {
          "model_module": "@jupyter-widgets/base",
          "model_name": "LayoutModel",
          "state": {
            "_view_name": "LayoutView",
            "grid_template_rows": null,
            "right": null,
            "justify_content": null,
            "_view_module": "@jupyter-widgets/base",
            "overflow": null,
            "_model_module_version": "1.2.0",
            "_view_count": null,
            "flex_flow": null,
            "width": null,
            "min_width": null,
            "border": null,
            "align_items": null,
            "bottom": null,
            "_model_module": "@jupyter-widgets/base",
            "top": null,
            "grid_column": null,
            "overflow_y": null,
            "overflow_x": null,
            "grid_auto_flow": null,
            "grid_area": null,
            "grid_template_columns": null,
            "flex": null,
            "_model_name": "LayoutModel",
            "justify_items": null,
            "grid_row": null,
            "max_height": null,
            "align_content": null,
            "visibility": null,
            "align_self": null,
            "height": null,
            "min_height": null,
            "padding": null,
            "grid_auto_rows": null,
            "grid_gap": null,
            "max_width": null,
            "order": null,
            "_view_module_version": "1.2.0",
            "grid_template_areas": null,
            "object_position": null,
            "object_fit": null,
            "grid_auto_columns": null,
            "margin": null,
            "display": null,
            "left": null
          }
        },
        "898866bb6d2e44fbb0233ea6439e6087": {
          "model_module": "@jupyter-widgets/controls",
          "model_name": "HBoxModel",
          "state": {
            "_view_name": "HBoxView",
            "_dom_classes": [],
            "_model_name": "HBoxModel",
            "_view_module": "@jupyter-widgets/controls",
            "_model_module_version": "1.5.0",
            "_view_count": null,
            "_view_module_version": "1.5.0",
            "box_style": "",
            "layout": "IPY_MODEL_862b43b28381455ebb222d14cc432cda",
            "_model_module": "@jupyter-widgets/controls",
            "children": [
              "IPY_MODEL_59d3cddfa2d445f7a334a796c817b0fe",
              "IPY_MODEL_fb27af341f6a46e899f94c8c84ff292a"
            ]
          }
        },
        "862b43b28381455ebb222d14cc432cda": {
          "model_module": "@jupyter-widgets/base",
          "model_name": "LayoutModel",
          "state": {
            "_view_name": "LayoutView",
            "grid_template_rows": null,
            "right": null,
            "justify_content": null,
            "_view_module": "@jupyter-widgets/base",
            "overflow": null,
            "_model_module_version": "1.2.0",
            "_view_count": null,
            "flex_flow": null,
            "width": null,
            "min_width": null,
            "border": null,
            "align_items": null,
            "bottom": null,
            "_model_module": "@jupyter-widgets/base",
            "top": null,
            "grid_column": null,
            "overflow_y": null,
            "overflow_x": null,
            "grid_auto_flow": null,
            "grid_area": null,
            "grid_template_columns": null,
            "flex": null,
            "_model_name": "LayoutModel",
            "justify_items": null,
            "grid_row": null,
            "max_height": null,
            "align_content": null,
            "visibility": null,
            "align_self": null,
            "height": null,
            "min_height": null,
            "padding": null,
            "grid_auto_rows": null,
            "grid_gap": null,
            "max_width": null,
            "order": null,
            "_view_module_version": "1.2.0",
            "grid_template_areas": null,
            "object_position": null,
            "object_fit": null,
            "grid_auto_columns": null,
            "margin": null,
            "display": null,
            "left": null
          }
        },
        "59d3cddfa2d445f7a334a796c817b0fe": {
          "model_module": "@jupyter-widgets/controls",
          "model_name": "FloatProgressModel",
          "state": {
            "_view_name": "ProgressView",
            "style": "IPY_MODEL_e0751ceb4e7f40ce9fcdf2eee4affa01",
            "_dom_classes": [],
            "description": "  0%",
            "_model_name": "FloatProgressModel",
            "bar_style": "danger",
            "max": 872,
            "_view_module": "@jupyter-widgets/controls",
            "_model_module_version": "1.5.0",
            "value": 0,
            "_view_count": null,
            "_view_module_version": "1.5.0",
            "orientation": "horizontal",
            "min": 0,
            "description_tooltip": null,
            "_model_module": "@jupyter-widgets/controls",
            "layout": "IPY_MODEL_83c5234595bf464e931fcf2fa52bd7a2"
          }
        },
        "fb27af341f6a46e899f94c8c84ff292a": {
          "model_module": "@jupyter-widgets/controls",
          "model_name": "HTMLModel",
          "state": {
            "_view_name": "HTMLView",
            "style": "IPY_MODEL_0552c73a72a243ee8564b2998b8a7890",
            "_dom_classes": [],
            "description": "",
            "_model_name": "HTMLModel",
            "placeholder": "​",
            "_view_module": "@jupyter-widgets/controls",
            "_model_module_version": "1.5.0",
            "value": " 0/872 [00:00&lt;?, ? examples/s]",
            "_view_count": null,
            "_view_module_version": "1.5.0",
            "description_tooltip": null,
            "_model_module": "@jupyter-widgets/controls",
            "layout": "IPY_MODEL_92ae69bf463e41c985bb94d62300f574"
          }
        },
        "e0751ceb4e7f40ce9fcdf2eee4affa01": {
          "model_module": "@jupyter-widgets/controls",
          "model_name": "ProgressStyleModel",
          "state": {
            "_view_name": "StyleView",
            "_model_name": "ProgressStyleModel",
            "description_width": "initial",
            "_view_module": "@jupyter-widgets/base",
            "_model_module_version": "1.5.0",
            "_view_count": null,
            "_view_module_version": "1.2.0",
            "bar_color": null,
            "_model_module": "@jupyter-widgets/controls"
          }
        },
        "83c5234595bf464e931fcf2fa52bd7a2": {
          "model_module": "@jupyter-widgets/base",
          "model_name": "LayoutModel",
          "state": {
            "_view_name": "LayoutView",
            "grid_template_rows": null,
            "right": null,
            "justify_content": null,
            "_view_module": "@jupyter-widgets/base",
            "overflow": null,
            "_model_module_version": "1.2.0",
            "_view_count": null,
            "flex_flow": null,
            "width": null,
            "min_width": null,
            "border": null,
            "align_items": null,
            "bottom": null,
            "_model_module": "@jupyter-widgets/base",
            "top": null,
            "grid_column": null,
            "overflow_y": null,
            "overflow_x": null,
            "grid_auto_flow": null,
            "grid_area": null,
            "grid_template_columns": null,
            "flex": null,
            "_model_name": "LayoutModel",
            "justify_items": null,
            "grid_row": null,
            "max_height": null,
            "align_content": null,
            "visibility": null,
            "align_self": null,
            "height": null,
            "min_height": null,
            "padding": null,
            "grid_auto_rows": null,
            "grid_gap": null,
            "max_width": null,
            "order": null,
            "_view_module_version": "1.2.0",
            "grid_template_areas": null,
            "object_position": null,
            "object_fit": null,
            "grid_auto_columns": null,
            "margin": null,
            "display": null,
            "left": null
          }
        },
        "0552c73a72a243ee8564b2998b8a7890": {
          "model_module": "@jupyter-widgets/controls",
          "model_name": "DescriptionStyleModel",
          "state": {
            "_view_name": "StyleView",
            "_model_name": "DescriptionStyleModel",
            "description_width": "",
            "_view_module": "@jupyter-widgets/base",
            "_model_module_version": "1.5.0",
            "_view_count": null,
            "_view_module_version": "1.2.0",
            "_model_module": "@jupyter-widgets/controls"
          }
        },
        "92ae69bf463e41c985bb94d62300f574": {
          "model_module": "@jupyter-widgets/base",
          "model_name": "LayoutModel",
          "state": {
            "_view_name": "LayoutView",
            "grid_template_rows": null,
            "right": null,
            "justify_content": null,
            "_view_module": "@jupyter-widgets/base",
            "overflow": null,
            "_model_module_version": "1.2.0",
            "_view_count": null,
            "flex_flow": null,
            "width": null,
            "min_width": null,
            "border": null,
            "align_items": null,
            "bottom": null,
            "_model_module": "@jupyter-widgets/base",
            "top": null,
            "grid_column": null,
            "overflow_y": null,
            "overflow_x": null,
            "grid_auto_flow": null,
            "grid_area": null,
            "grid_template_columns": null,
            "flex": null,
            "_model_name": "LayoutModel",
            "justify_items": null,
            "grid_row": null,
            "max_height": null,
            "align_content": null,
            "visibility": null,
            "align_self": null,
            "height": null,
            "min_height": null,
            "padding": null,
            "grid_auto_rows": null,
            "grid_gap": null,
            "max_width": null,
            "order": null,
            "_view_module_version": "1.2.0",
            "grid_template_areas": null,
            "object_position": null,
            "object_fit": null,
            "grid_auto_columns": null,
            "margin": null,
            "display": null,
            "left": null
          }
        },
        "4d98c73c82d24d3b925c51c06ded688d": {
          "model_module": "@jupyter-widgets/controls",
          "model_name": "HBoxModel",
          "state": {
            "_view_name": "HBoxView",
            "_dom_classes": [],
            "_model_name": "HBoxModel",
            "_view_module": "@jupyter-widgets/controls",
            "_model_module_version": "1.5.0",
            "_view_count": null,
            "_view_module_version": "1.5.0",
            "box_style": "",
            "layout": "IPY_MODEL_074492f33c224d6da4eb593a6a7c6f21",
            "_model_module": "@jupyter-widgets/controls",
            "children": [
              "IPY_MODEL_15387e4ca3b34c3bbd25ed9f7da8cbca",
              "IPY_MODEL_6628df293f5e481fba43f2ff1c0b7e32"
            ]
          }
        },
        "074492f33c224d6da4eb593a6a7c6f21": {
          "model_module": "@jupyter-widgets/base",
          "model_name": "LayoutModel",
          "state": {
            "_view_name": "LayoutView",
            "grid_template_rows": null,
            "right": null,
            "justify_content": null,
            "_view_module": "@jupyter-widgets/base",
            "overflow": null,
            "_model_module_version": "1.2.0",
            "_view_count": null,
            "flex_flow": null,
            "width": null,
            "min_width": null,
            "border": null,
            "align_items": null,
            "bottom": null,
            "_model_module": "@jupyter-widgets/base",
            "top": null,
            "grid_column": null,
            "overflow_y": null,
            "overflow_x": null,
            "grid_auto_flow": null,
            "grid_area": null,
            "grid_template_columns": null,
            "flex": null,
            "_model_name": "LayoutModel",
            "justify_items": null,
            "grid_row": null,
            "max_height": null,
            "align_content": null,
            "visibility": null,
            "align_self": null,
            "height": null,
            "min_height": null,
            "padding": null,
            "grid_auto_rows": null,
            "grid_gap": null,
            "max_width": null,
            "order": null,
            "_view_module_version": "1.2.0",
            "grid_template_areas": null,
            "object_position": null,
            "object_fit": null,
            "grid_auto_columns": null,
            "margin": null,
            "display": null,
            "left": null
          }
        },
        "15387e4ca3b34c3bbd25ed9f7da8cbca": {
          "model_module": "@jupyter-widgets/controls",
          "model_name": "FloatProgressModel",
          "state": {
            "_view_name": "ProgressView",
            "style": "IPY_MODEL_417c726e6d984431b397f34debf5a232",
            "_dom_classes": [],
            "description": "",
            "_model_name": "FloatProgressModel",
            "bar_style": "info",
            "max": 1,
            "_view_module": "@jupyter-widgets/controls",
            "_model_module_version": "1.5.0",
            "value": 1,
            "_view_count": null,
            "_view_module_version": "1.5.0",
            "orientation": "horizontal",
            "min": 0,
            "description_tooltip": null,
            "_model_module": "@jupyter-widgets/controls",
            "layout": "IPY_MODEL_23716c4fa1924aa5b9c2b8c1ca9a2c13"
          }
        },
        "6628df293f5e481fba43f2ff1c0b7e32": {
          "model_module": "@jupyter-widgets/controls",
          "model_name": "HTMLModel",
          "state": {
            "_view_name": "HTMLView",
            "style": "IPY_MODEL_c387f98f6565470587b09bd5285d66bd",
            "_dom_classes": [],
            "description": "",
            "_model_name": "HTMLModel",
            "placeholder": "​",
            "_view_module": "@jupyter-widgets/controls",
            "_model_module_version": "1.5.0",
            "value": " 1821/0 [00:00&lt;00:00, 2700.16 examples/s]",
            "_view_count": null,
            "_view_module_version": "1.5.0",
            "description_tooltip": null,
            "_model_module": "@jupyter-widgets/controls",
            "layout": "IPY_MODEL_7c4f39857ffc466fa33f42ac57db379d"
          }
        },
        "417c726e6d984431b397f34debf5a232": {
          "model_module": "@jupyter-widgets/controls",
          "model_name": "ProgressStyleModel",
          "state": {
            "_view_name": "StyleView",
            "_model_name": "ProgressStyleModel",
            "description_width": "initial",
            "_view_module": "@jupyter-widgets/base",
            "_model_module_version": "1.5.0",
            "_view_count": null,
            "_view_module_version": "1.2.0",
            "bar_color": null,
            "_model_module": "@jupyter-widgets/controls"
          }
        },
        "23716c4fa1924aa5b9c2b8c1ca9a2c13": {
          "model_module": "@jupyter-widgets/base",
          "model_name": "LayoutModel",
          "state": {
            "_view_name": "LayoutView",
            "grid_template_rows": null,
            "right": null,
            "justify_content": null,
            "_view_module": "@jupyter-widgets/base",
            "overflow": null,
            "_model_module_version": "1.2.0",
            "_view_count": null,
            "flex_flow": null,
            "width": null,
            "min_width": null,
            "border": null,
            "align_items": null,
            "bottom": null,
            "_model_module": "@jupyter-widgets/base",
            "top": null,
            "grid_column": null,
            "overflow_y": null,
            "overflow_x": null,
            "grid_auto_flow": null,
            "grid_area": null,
            "grid_template_columns": null,
            "flex": null,
            "_model_name": "LayoutModel",
            "justify_items": null,
            "grid_row": null,
            "max_height": null,
            "align_content": null,
            "visibility": null,
            "align_self": null,
            "height": null,
            "min_height": null,
            "padding": null,
            "grid_auto_rows": null,
            "grid_gap": null,
            "max_width": null,
            "order": null,
            "_view_module_version": "1.2.0",
            "grid_template_areas": null,
            "object_position": null,
            "object_fit": null,
            "grid_auto_columns": null,
            "margin": null,
            "display": null,
            "left": null
          }
        },
        "c387f98f6565470587b09bd5285d66bd": {
          "model_module": "@jupyter-widgets/controls",
          "model_name": "DescriptionStyleModel",
          "state": {
            "_view_name": "StyleView",
            "_model_name": "DescriptionStyleModel",
            "description_width": "",
            "_view_module": "@jupyter-widgets/base",
            "_model_module_version": "1.5.0",
            "_view_count": null,
            "_view_module_version": "1.2.0",
            "_model_module": "@jupyter-widgets/controls"
          }
        },
        "7c4f39857ffc466fa33f42ac57db379d": {
          "model_module": "@jupyter-widgets/base",
          "model_name": "LayoutModel",
          "state": {
            "_view_name": "LayoutView",
            "grid_template_rows": null,
            "right": null,
            "justify_content": null,
            "_view_module": "@jupyter-widgets/base",
            "overflow": null,
            "_model_module_version": "1.2.0",
            "_view_count": null,
            "flex_flow": null,
            "width": null,
            "min_width": null,
            "border": null,
            "align_items": null,
            "bottom": null,
            "_model_module": "@jupyter-widgets/base",
            "top": null,
            "grid_column": null,
            "overflow_y": null,
            "overflow_x": null,
            "grid_auto_flow": null,
            "grid_area": null,
            "grid_template_columns": null,
            "flex": null,
            "_model_name": "LayoutModel",
            "justify_items": null,
            "grid_row": null,
            "max_height": null,
            "align_content": null,
            "visibility": null,
            "align_self": null,
            "height": null,
            "min_height": null,
            "padding": null,
            "grid_auto_rows": null,
            "grid_gap": null,
            "max_width": null,
            "order": null,
            "_view_module_version": "1.2.0",
            "grid_template_areas": null,
            "object_position": null,
            "object_fit": null,
            "grid_auto_columns": null,
            "margin": null,
            "display": null,
            "left": null
          }
        },
        "09d616e4a0ab4ea098ac156267e04dd5": {
          "model_module": "@jupyter-widgets/controls",
          "model_name": "HBoxModel",
          "state": {
            "_view_name": "HBoxView",
            "_dom_classes": [],
            "_model_name": "HBoxModel",
            "_view_module": "@jupyter-widgets/controls",
            "_model_module_version": "1.5.0",
            "_view_count": null,
            "_view_module_version": "1.5.0",
            "box_style": "",
            "layout": "IPY_MODEL_8c2449ba09a74564ae66a881f0d053ba",
            "_model_module": "@jupyter-widgets/controls",
            "children": [
              "IPY_MODEL_d574e6848dfa47ebbaef83768b3c0470",
              "IPY_MODEL_db6fe12f9f4948e890b54f981e90c9fa"
            ]
          }
        },
        "8c2449ba09a74564ae66a881f0d053ba": {
          "model_module": "@jupyter-widgets/base",
          "model_name": "LayoutModel",
          "state": {
            "_view_name": "LayoutView",
            "grid_template_rows": null,
            "right": null,
            "justify_content": null,
            "_view_module": "@jupyter-widgets/base",
            "overflow": null,
            "_model_module_version": "1.2.0",
            "_view_count": null,
            "flex_flow": null,
            "width": null,
            "min_width": null,
            "border": null,
            "align_items": null,
            "bottom": null,
            "_model_module": "@jupyter-widgets/base",
            "top": null,
            "grid_column": null,
            "overflow_y": null,
            "overflow_x": null,
            "grid_auto_flow": null,
            "grid_area": null,
            "grid_template_columns": null,
            "flex": null,
            "_model_name": "LayoutModel",
            "justify_items": null,
            "grid_row": null,
            "max_height": null,
            "align_content": null,
            "visibility": null,
            "align_self": null,
            "height": null,
            "min_height": null,
            "padding": null,
            "grid_auto_rows": null,
            "grid_gap": null,
            "max_width": null,
            "order": null,
            "_view_module_version": "1.2.0",
            "grid_template_areas": null,
            "object_position": null,
            "object_fit": null,
            "grid_auto_columns": null,
            "margin": null,
            "display": null,
            "left": null
          }
        },
        "d574e6848dfa47ebbaef83768b3c0470": {
          "model_module": "@jupyter-widgets/controls",
          "model_name": "FloatProgressModel",
          "state": {
            "_view_name": "ProgressView",
            "style": "IPY_MODEL_e619a9df06f9454aa19c10703cad48d6",
            "_dom_classes": [],
            "description": "  0%",
            "_model_name": "FloatProgressModel",
            "bar_style": "danger",
            "max": 1821,
            "_view_module": "@jupyter-widgets/controls",
            "_model_module_version": "1.5.0",
            "value": 0,
            "_view_count": null,
            "_view_module_version": "1.5.0",
            "orientation": "horizontal",
            "min": 0,
            "description_tooltip": null,
            "_model_module": "@jupyter-widgets/controls",
            "layout": "IPY_MODEL_e8d7e427a8b0434b9862da51ca48568d"
          }
        },
        "db6fe12f9f4948e890b54f981e90c9fa": {
          "model_module": "@jupyter-widgets/controls",
          "model_name": "HTMLModel",
          "state": {
            "_view_name": "HTMLView",
            "style": "IPY_MODEL_c564c9336c544224bc7a10cdb06a19bf",
            "_dom_classes": [],
            "description": "",
            "_model_name": "HTMLModel",
            "placeholder": "​",
            "_view_module": "@jupyter-widgets/controls",
            "_model_module_version": "1.5.0",
            "value": " 0/1821 [00:01&lt;?, ? examples/s]",
            "_view_count": null,
            "_view_module_version": "1.5.0",
            "description_tooltip": null,
            "_model_module": "@jupyter-widgets/controls",
            "layout": "IPY_MODEL_fe54e25f542c4c93b3c80e7058fe1a78"
          }
        },
        "e619a9df06f9454aa19c10703cad48d6": {
          "model_module": "@jupyter-widgets/controls",
          "model_name": "ProgressStyleModel",
          "state": {
            "_view_name": "StyleView",
            "_model_name": "ProgressStyleModel",
            "description_width": "initial",
            "_view_module": "@jupyter-widgets/base",
            "_model_module_version": "1.5.0",
            "_view_count": null,
            "_view_module_version": "1.2.0",
            "bar_color": null,
            "_model_module": "@jupyter-widgets/controls"
          }
        },
        "e8d7e427a8b0434b9862da51ca48568d": {
          "model_module": "@jupyter-widgets/base",
          "model_name": "LayoutModel",
          "state": {
            "_view_name": "LayoutView",
            "grid_template_rows": null,
            "right": null,
            "justify_content": null,
            "_view_module": "@jupyter-widgets/base",
            "overflow": null,
            "_model_module_version": "1.2.0",
            "_view_count": null,
            "flex_flow": null,
            "width": null,
            "min_width": null,
            "border": null,
            "align_items": null,
            "bottom": null,
            "_model_module": "@jupyter-widgets/base",
            "top": null,
            "grid_column": null,
            "overflow_y": null,
            "overflow_x": null,
            "grid_auto_flow": null,
            "grid_area": null,
            "grid_template_columns": null,
            "flex": null,
            "_model_name": "LayoutModel",
            "justify_items": null,
            "grid_row": null,
            "max_height": null,
            "align_content": null,
            "visibility": null,
            "align_self": null,
            "height": null,
            "min_height": null,
            "padding": null,
            "grid_auto_rows": null,
            "grid_gap": null,
            "max_width": null,
            "order": null,
            "_view_module_version": "1.2.0",
            "grid_template_areas": null,
            "object_position": null,
            "object_fit": null,
            "grid_auto_columns": null,
            "margin": null,
            "display": null,
            "left": null
          }
        },
        "c564c9336c544224bc7a10cdb06a19bf": {
          "model_module": "@jupyter-widgets/controls",
          "model_name": "DescriptionStyleModel",
          "state": {
            "_view_name": "StyleView",
            "_model_name": "DescriptionStyleModel",
            "description_width": "",
            "_view_module": "@jupyter-widgets/base",
            "_model_module_version": "1.5.0",
            "_view_count": null,
            "_view_module_version": "1.2.0",
            "_model_module": "@jupyter-widgets/controls"
          }
        },
        "fe54e25f542c4c93b3c80e7058fe1a78": {
          "model_module": "@jupyter-widgets/base",
          "model_name": "LayoutModel",
          "state": {
            "_view_name": "LayoutView",
            "grid_template_rows": null,
            "right": null,
            "justify_content": null,
            "_view_module": "@jupyter-widgets/base",
            "overflow": null,
            "_model_module_version": "1.2.0",
            "_view_count": null,
            "flex_flow": null,
            "width": null,
            "min_width": null,
            "border": null,
            "align_items": null,
            "bottom": null,
            "_model_module": "@jupyter-widgets/base",
            "top": null,
            "grid_column": null,
            "overflow_y": null,
            "overflow_x": null,
            "grid_auto_flow": null,
            "grid_area": null,
            "grid_template_columns": null,
            "flex": null,
            "_model_name": "LayoutModel",
            "justify_items": null,
            "grid_row": null,
            "max_height": null,
            "align_content": null,
            "visibility": null,
            "align_self": null,
            "height": null,
            "min_height": null,
            "padding": null,
            "grid_auto_rows": null,
            "grid_gap": null,
            "max_width": null,
            "order": null,
            "_view_module_version": "1.2.0",
            "grid_template_areas": null,
            "object_position": null,
            "object_fit": null,
            "grid_auto_columns": null,
            "margin": null,
            "display": null,
            "left": null
          }
        }
      }
    }
  },
  "cells": [
    {
      "cell_type": "markdown",
      "metadata": {
        "id": "view-in-github",
        "colab_type": "text"
      },
      "source": [
        "<a href=\"https://colab.research.google.com/github/Mubasshir-Ali/Deep_Learning_Practice/blob/master/32_NLP_Multiple_Models_For_Predicting_Sentiment.ipynb\" target=\"_parent\"><img src=\"https://colab.research.google.com/assets/colab-badge.svg\" alt=\"Open In Colab\"/></a>"
      ]
    },
    {
      "cell_type": "markdown",
      "metadata": {
        "id": "WmDQpH9LUVCW",
        "colab_type": "text"
      },
      "source": [
        "# Using LSTMs, CNNs, GRUs with a larger Dataset\n",
        "In this colab, you use different kinds of layers to see how they affect the model.\n",
        "\n",
        "You will use the glue/sst2 dataset, which is available through tensorflow_datasets.\n",
        "\n",
        "The General Language Understanding Evaluation (GLUE) benchmark (https://gluebenchmark.com/) is a collection of resources for training, evaluating, and analyzing natural language understanding systems.\n",
        "\n",
        "These resources include the Stanford Sentiment Treebank (SST) dataset that consists of sentences from movie reviews and human annotations of their sentiment. This colab uses version 2 of the SST dataset.\n",
        "\n",
        "The splits are:\n",
        "\n",
        "* train 67,349\n",
        "* validation 872\n",
        "\n",
        "and the column headings are:\n",
        "\n",
        "* sentence\n",
        "* label"
      ]
    },
    {
      "cell_type": "markdown",
      "metadata": {
        "id": "LLgpZDx1UnLu",
        "colab_type": "text"
      },
      "source": [
        "# Import"
      ]
    },
    {
      "cell_type": "code",
      "metadata": {
        "id": "5x0NWZyMUKV7",
        "colab_type": "code",
        "colab": {}
      },
      "source": [
        "import tensorflow as tf\n",
        "import tensorflow_datasets as tfds\n",
        "\n",
        "import numpy as np"
      ],
      "execution_count": 0,
      "outputs": []
    },
    {
      "cell_type": "markdown",
      "metadata": {
        "id": "Z63j1DwkU2OR",
        "colab_type": "text"
      },
      "source": [
        "# Get The Dataset"
      ]
    },
    {
      "cell_type": "code",
      "metadata": {
        "id": "2FFVo0fbUzOE",
        "colab_type": "code",
        "outputId": "409bad7e-abf4-4ce5-c8b5-d4e02923056d",
        "colab": {
          "base_uri": "https://localhost:8080/",
          "height": 565,
          "referenced_widgets": [
            "326f36df2394405faf078c570eb727a3",
            "a3f74dd1c19840138cd454254b7468cd",
            "bf0ff64f69114b8faf1f2ae7043a21a3",
            "0dbb2fc932484408b6a91c0f42354df3",
            "113a2a86b29640fea93f4edd4516394c",
            "5e200db6656f4ed7b7cd942a820fea33",
            "81f0dfced3e34298b798b4fdbc40e3fb",
            "d03bd6784df0451ebe027f94f507c3da",
            "3fcecce2c6c849019dc45b52d4428ee0",
            "7db6456f0ef94a2f80201b78b8971d0d",
            "49b4e5f6e9454a52b43f37ef19432847",
            "91ab1a788e2a440e8585c0ef50ee9b23",
            "1c58d101cc9b4509a565b8388db5b51f",
            "f99dbaec962b41b089d470b30cfaa9ed",
            "6dce24c3dcb84a62a80fbe8a0503054f",
            "6674211eab24458da61d1e8fdb7be446",
            "67ec8b2977eb473c8c7b2b055ae00e0c",
            "eaa11bccf63047d88d6d0825a0378f86",
            "a8ba6f00a59f4c878557e8f5601e8899",
            "8ff2c6cb8a4045c691e1a53f21e85ed5",
            "fa455ef1d3964c3895d9fcd5c2338cac",
            "f0ddaf92eb9f48dc81f4b9defbe819c8",
            "ff9ea72dbc0447ca9a7dc18bb1a26569",
            "a3460a061f174770bad12d3d5efa52d5",
            "7fead616184540a5b486b80c30f26757",
            "fc2bcb1a568b48ea8e97d7849b33fa7f",
            "d1808dae761b4685855b791de5a49d82",
            "6c1cbcadaf7247678b48f0469ac2556b",
            "013c8b3dff1344a982189a029e51656b",
            "57d1adf32f6a4d5bb90835e0edc53b73",
            "c6a3287bb69346d19f2b505b93280fc5",
            "cb5c3a080edd48f08f084e271d850f09",
            "f4850cb162384123a56942984b74b11a",
            "cde01b7449c440789582bf7672e04359",
            "983a2c03cca94716af2b6fa5466e2946",
            "20b1ce80199644428161476dbb8edf48",
            "c34865bedcab4e14a0c7defac293ea46",
            "786a35d358fc40df962c48129b15adec",
            "10c23bdd66e4408aa162675d72e456a9",
            "6bd07a2c6eec45feb9b219c192d52ec7",
            "e36a9eca61b642dfb2546aea2289b50c",
            "3285fed4e89b41049a12a28e700c81e1",
            "0990d29e17d74065a887de9285a550c0",
            "cd532db5495f46c49f2270531c60d041",
            "737873bd6b7a483895424915e968ca15",
            "b0da985c60a940978fd8a3c567f4fc62",
            "f1366f30610d435da01e42f73e471564",
            "44200d39342d4f4f98a8161588a8d4e4",
            "898866bb6d2e44fbb0233ea6439e6087",
            "862b43b28381455ebb222d14cc432cda",
            "59d3cddfa2d445f7a334a796c817b0fe",
            "fb27af341f6a46e899f94c8c84ff292a",
            "e0751ceb4e7f40ce9fcdf2eee4affa01",
            "83c5234595bf464e931fcf2fa52bd7a2",
            "0552c73a72a243ee8564b2998b8a7890",
            "92ae69bf463e41c985bb94d62300f574",
            "4d98c73c82d24d3b925c51c06ded688d",
            "074492f33c224d6da4eb593a6a7c6f21",
            "15387e4ca3b34c3bbd25ed9f7da8cbca",
            "6628df293f5e481fba43f2ff1c0b7e32",
            "417c726e6d984431b397f34debf5a232",
            "23716c4fa1924aa5b9c2b8c1ca9a2c13",
            "c387f98f6565470587b09bd5285d66bd",
            "7c4f39857ffc466fa33f42ac57db379d",
            "09d616e4a0ab4ea098ac156267e04dd5",
            "8c2449ba09a74564ae66a881f0d053ba",
            "d574e6848dfa47ebbaef83768b3c0470",
            "db6fe12f9f4948e890b54f981e90c9fa",
            "e619a9df06f9454aa19c10703cad48d6",
            "e8d7e427a8b0434b9862da51ca48568d",
            "c564c9336c544224bc7a10cdb06a19bf",
            "fe54e25f542c4c93b3c80e7058fe1a78"
          ]
        }
      },
      "source": [
        "# Get the dataset.\n",
        "# It has 70000 items, so might take a while to download\n",
        "dataset, info = tfds.load('glue/sst2', with_info = True)\n",
        "print(info.features)\n",
        "print(info.features[\"label\"].num_classes)\n",
        "print(info.features[\"label\"].names)"
      ],
      "execution_count": 0,
      "outputs": [
        {
          "output_type": "stream",
          "text": [
            "\u001b[1mDownloading and preparing dataset glue/sst2/1.0.0 (download: 7.09 MiB, generated: Unknown size, total: 7.09 MiB) to /root/tensorflow_datasets/glue/sst2/1.0.0...\u001b[0m\n"
          ],
          "name": "stdout"
        },
        {
          "output_type": "display_data",
          "data": {
            "application/vnd.jupyter.widget-view+json": {
              "model_id": "326f36df2394405faf078c570eb727a3",
              "version_minor": 0,
              "version_major": 2
            },
            "text/plain": [
              "HBox(children=(FloatProgress(value=1.0, bar_style='info', description='Dl Completed...', max=1.0, style=Progre…"
            ]
          },
          "metadata": {
            "tags": []
          }
        },
        {
          "output_type": "display_data",
          "data": {
            "application/vnd.jupyter.widget-view+json": {
              "model_id": "3fcecce2c6c849019dc45b52d4428ee0",
              "version_minor": 0,
              "version_major": 2
            },
            "text/plain": [
              "HBox(children=(FloatProgress(value=1.0, bar_style='info', description='Dl Size...', max=1.0, style=ProgressSty…"
            ]
          },
          "metadata": {
            "tags": []
          }
        },
        {
          "output_type": "display_data",
          "data": {
            "application/vnd.jupyter.widget-view+json": {
              "model_id": "67ec8b2977eb473c8c7b2b055ae00e0c",
              "version_minor": 0,
              "version_major": 2
            },
            "text/plain": [
              "HBox(children=(FloatProgress(value=1.0, bar_style='info', description='Extraction completed...', max=1.0, styl…"
            ]
          },
          "metadata": {
            "tags": []
          }
        },
        {
          "output_type": "stream",
          "text": [
            "/usr/local/lib/python3.6/dist-packages/urllib3/connectionpool.py:847: InsecureRequestWarning: Unverified HTTPS request is being made. Adding certificate verification is strongly advised. See: https://urllib3.readthedocs.io/en/latest/advanced-usage.html#ssl-warnings\n",
            "  InsecureRequestWarning)\n"
          ],
          "name": "stderr"
        },
        {
          "output_type": "stream",
          "text": [
            "\n",
            "\n",
            "\n",
            "\n",
            "\n",
            "\n"
          ],
          "name": "stdout"
        },
        {
          "output_type": "display_data",
          "data": {
            "application/vnd.jupyter.widget-view+json": {
              "model_id": "7fead616184540a5b486b80c30f26757",
              "version_minor": 0,
              "version_major": 2
            },
            "text/plain": [
              "HBox(children=(FloatProgress(value=1.0, bar_style='info', max=1.0), HTML(value='')))"
            ]
          },
          "metadata": {
            "tags": []
          }
        },
        {
          "output_type": "stream",
          "text": [
            "\rShuffling and writing examples to /root/tensorflow_datasets/glue/sst2/1.0.0.incompleteM26SHX/glue-train.tfrecord\n"
          ],
          "name": "stdout"
        },
        {
          "output_type": "display_data",
          "data": {
            "application/vnd.jupyter.widget-view+json": {
              "model_id": "f4850cb162384123a56942984b74b11a",
              "version_minor": 0,
              "version_major": 2
            },
            "text/plain": [
              "HBox(children=(FloatProgress(value=0.0, max=67349.0), HTML(value='')))"
            ]
          },
          "metadata": {
            "tags": []
          }
        },
        {
          "output_type": "display_data",
          "data": {
            "application/vnd.jupyter.widget-view+json": {
              "model_id": "e36a9eca61b642dfb2546aea2289b50c",
              "version_minor": 0,
              "version_major": 2
            },
            "text/plain": [
              "HBox(children=(FloatProgress(value=1.0, bar_style='info', max=1.0), HTML(value='')))"
            ]
          },
          "metadata": {
            "tags": []
          }
        },
        {
          "output_type": "stream",
          "text": [
            "Shuffling and writing examples to /root/tensorflow_datasets/glue/sst2/1.0.0.incompleteM26SHX/glue-validation.tfrecord\n"
          ],
          "name": "stdout"
        },
        {
          "output_type": "display_data",
          "data": {
            "application/vnd.jupyter.widget-view+json": {
              "model_id": "898866bb6d2e44fbb0233ea6439e6087",
              "version_minor": 0,
              "version_major": 2
            },
            "text/plain": [
              "HBox(children=(FloatProgress(value=0.0, max=872.0), HTML(value='')))"
            ]
          },
          "metadata": {
            "tags": []
          }
        },
        {
          "output_type": "display_data",
          "data": {
            "application/vnd.jupyter.widget-view+json": {
              "model_id": "4d98c73c82d24d3b925c51c06ded688d",
              "version_minor": 0,
              "version_major": 2
            },
            "text/plain": [
              "HBox(children=(FloatProgress(value=1.0, bar_style='info', max=1.0), HTML(value='')))"
            ]
          },
          "metadata": {
            "tags": []
          }
        },
        {
          "output_type": "stream",
          "text": [
            "\rShuffling and writing examples to /root/tensorflow_datasets/glue/sst2/1.0.0.incompleteM26SHX/glue-test.tfrecord\n"
          ],
          "name": "stdout"
        },
        {
          "output_type": "display_data",
          "data": {
            "application/vnd.jupyter.widget-view+json": {
              "model_id": "09d616e4a0ab4ea098ac156267e04dd5",
              "version_minor": 0,
              "version_major": 2
            },
            "text/plain": [
              "HBox(children=(FloatProgress(value=0.0, max=1821.0), HTML(value='')))"
            ]
          },
          "metadata": {
            "tags": []
          }
        },
        {
          "output_type": "stream",
          "text": [
            "\u001b[1mDataset glue downloaded and prepared to /root/tensorflow_datasets/glue/sst2/1.0.0. Subsequent calls will reuse this data.\u001b[0m\n",
            "FeaturesDict({\n",
            "    'idx': tf.int32,\n",
            "    'label': ClassLabel(shape=(), dtype=tf.int64, num_classes=2),\n",
            "    'sentence': Text(shape=(), dtype=tf.string),\n",
            "})\n",
            "2\n",
            "['negative', 'positive']\n"
          ],
          "name": "stdout"
        }
      ]
    },
    {
      "cell_type": "code",
      "metadata": {
        "id": "IeSCsn2pVVfx",
        "colab_type": "code",
        "outputId": "14d0d29e-fa63-4ecb-bdab-f9161952f208",
        "colab": {
          "base_uri": "https://localhost:8080/",
          "height": 54
        }
      },
      "source": [
        "# Get the training and validation datasets\n",
        "dataset_train, dataset_validation = dataset['train'], dataset['validation']\n",
        "dataset_train"
      ],
      "execution_count": 0,
      "outputs": [
        {
          "output_type": "execute_result",
          "data": {
            "text/plain": [
              "<DatasetV1Adapter shapes: {idx: (), label: (), sentence: ()}, types: {idx: tf.int32, label: tf.int64, sentence: tf.string}>"
            ]
          },
          "metadata": {
            "tags": []
          },
          "execution_count": 6
        }
      ]
    },
    {
      "cell_type": "code",
      "metadata": {
        "id": "X7TWAOvrVp_O",
        "colab_type": "code",
        "outputId": "291857dc-e067-42e1-97a8-3f8a76a15a52",
        "colab": {
          "base_uri": "https://localhost:8080/",
          "height": 138
        }
      },
      "source": [
        "# Print some of the entries\n",
        "for example in dataset_train.take(2):\n",
        "  review, label = example[\"sentence\"], example[\"label\"]\n",
        "  print(\"Review:\", review)\n",
        "  print(\"Label: %d \\n\" % label.numpy())"
      ],
      "execution_count": 0,
      "outputs": [
        {
          "output_type": "stream",
          "text": [
            "Review: tf.Tensor(b'for the uninitiated plays better on video with the sound ', shape=(), dtype=string)\n",
            "Label: 0 \n",
            "\n",
            "Review: tf.Tensor(b'like a giant commercial for universal studios , where much of the action takes place ', shape=(), dtype=string)\n",
            "Label: 0 \n",
            "\n"
          ],
          "name": "stdout"
        }
      ]
    },
    {
      "cell_type": "code",
      "metadata": {
        "id": "dVpl98pwWC4E",
        "colab_type": "code",
        "outputId": "9c396ca5-b505-455e-b14c-cb9b6fb18e4c",
        "colab": {
          "base_uri": "https://localhost:8080/",
          "height": 238
        }
      },
      "source": [
        "# Get the sentences and the labels\n",
        "# for both the training and the validation sets\n",
        "training_reviews = []\n",
        "training_labels = []\n",
        " \n",
        "validation_reviews = []\n",
        "validation_labels = []\n",
        "\n",
        "# The dataset has 67,000 training entries, but that's a lot to process here!\n",
        "\n",
        "# If you want to take the entire dataset: WARNING: takes longer!!\n",
        "# for item in dataset_train.take(-1):\n",
        "\n",
        "# Take 10,000 reviews\n",
        "for item in dataset_train.take(10000):\n",
        "  review, label = item[\"sentence\"], item[\"label\"]\n",
        "  training_reviews.append(str(review.numpy()))\n",
        "  training_labels.append(label.numpy())\n",
        "\n",
        "print (\"\\nNumber of training reviews is: \", len(training_reviews))\n",
        "\n",
        "# print some of the reviews and labels\n",
        "for i in range(0, 2):\n",
        "  print (training_reviews[i])\n",
        "  print (training_labels[i])\n",
        "\n",
        "# Get the validation data\n",
        "# there's only about 800 items, so take them all\n",
        "for item in dataset_validation.take(-1):  \n",
        "  review, label = item[\"sentence\"], item[\"label\"]\n",
        "  validation_reviews.append(str(review.numpy()))\n",
        "  validation_labels.append(label.numpy())\n",
        "\n",
        "print (\"\\nNumber of validation reviews is: \", len(validation_reviews))\n",
        "\n",
        "# Print some of the validation reviews and labels\n",
        "for i in range(0, 2):\n",
        "  print (validation_reviews[i])\n",
        "  print (validation_labels[i])\n"
      ],
      "execution_count": 0,
      "outputs": [
        {
          "output_type": "stream",
          "text": [
            "\n",
            "Number of training reviews is:  10000\n",
            "b'for the uninitiated plays better on video with the sound '\n",
            "0\n",
            "b'like a giant commercial for universal studios , where much of the action takes place '\n",
            "0\n",
            "\n",
            "Number of validation reviews is:  872\n",
            "b'a valueless kiddie paean to pro basketball underwritten by the nba . '\n",
            "0\n",
            "b\"featuring a dangerously seductive performance from the great daniel auteuil , `` sade '' covers the same period as kaufmann 's `` quills '' with more unsettlingly realistic results . \"\n",
            "1\n"
          ],
          "name": "stdout"
        }
      ]
    },
    {
      "cell_type": "markdown",
      "metadata": {
        "id": "FRCDGdYCZ2Tm",
        "colab_type": "text"
      },
      "source": [
        "# Tokenize The Words And Sequence The Sentences"
      ]
    },
    {
      "cell_type": "code",
      "metadata": {
        "id": "2iBJM_-OZNmW",
        "colab_type": "code",
        "colab": {}
      },
      "source": [
        "# There's a total of 21224 words in the reviews\n",
        "# but many of them are irrelevant like with, it, of, on.\n",
        "# If we take a subset of the training data, then the vocab\n",
        "# will be smaller.\n",
        "\n",
        "# A reasonable review might have about 50 words or so,\n",
        "# so we can set max_length to 50 (but feel free to change it as you like)\n",
        "\n",
        "vocab_size = 4000\n",
        "embedding_dim = 16\n",
        "max_length = 50\n",
        "trunc_type = 'post'\n",
        "pad_type = 'post'\n",
        "oov_tok = \"<oov>\"\n",
        "\n",
        "from tensorflow.keras.preprocessing.text import Tokenizer\n",
        "from tensorflow.keras.preprocessing.sequence import pad_sequences\n",
        "\n",
        "tokenizer = Tokenizer(num_words = vocab_size, oov_token = oov_tok)\n",
        "tokenizer.fit_on_texts(training_reviews)\n",
        "word_index = tokenizer.word_index"
      ],
      "execution_count": 0,
      "outputs": []
    },
    {
      "cell_type": "markdown",
      "metadata": {
        "id": "6G-7hI7rbDp1",
        "colab_type": "text"
      },
      "source": [
        "# Pad The Sequences"
      ]
    },
    {
      "cell_type": "code",
      "metadata": {
        "id": "JGgUgf26bAa6",
        "colab_type": "code",
        "colab": {}
      },
      "source": [
        "# Pad the sequences so that they are all the same length\n",
        "training_sequences = tokenizer.texts_to_sequences(training_reviews)\n",
        "training_padded = pad_sequences(training_sequences, maxlen = max_length, \n",
        "                                truncating = trunc_type, padding = pad_type)\n",
        "\n",
        "validation_sequences = tokenizer.texts_to_sequences(validation_reviews)\n",
        "validation_padded = pad_sequences(validation_sequences, maxlen = max_length)\n",
        "\n",
        "training_labels_final = np.array(training_labels)\n",
        "validation_labels_final = np.array(validation_labels)"
      ],
      "execution_count": 0,
      "outputs": []
    },
    {
      "cell_type": "markdown",
      "metadata": {
        "id": "7Di7LfRdcXzi",
        "colab_type": "text"
      },
      "source": [
        "# Create The Model Using An Embedding"
      ]
    },
    {
      "cell_type": "code",
      "metadata": {
        "id": "d19nR1-5cOXX",
        "colab_type": "code",
        "outputId": "da14cd0c-f834-4d84-8657-8b15604abf91",
        "colab": {
          "base_uri": "https://localhost:8080/",
          "height": 252
        }
      },
      "source": [
        "model = tf.keras.Sequential([\n",
        "    tf.keras.layers.Embedding(vocab_size, embedding_dim, input_length = max_length), \n",
        "    tf.keras.layers.GlobalAveragePooling1D(), \n",
        "    tf.keras.layers.Dense(1, activation = 'sigmoid')\n",
        "])\n",
        "model.compile(loss = 'binary_crossentropy', optimizer = 'adam', metrics = ['accuracy'])\n",
        "model.summary()"
      ],
      "execution_count": 0,
      "outputs": [
        {
          "output_type": "stream",
          "text": [
            "Model: \"sequential\"\n",
            "_________________________________________________________________\n",
            "Layer (type)                 Output Shape              Param #   \n",
            "=================================================================\n",
            "embedding (Embedding)        (None, 50, 16)            64000     \n",
            "_________________________________________________________________\n",
            "global_average_pooling1d (Gl (None, 16)                0         \n",
            "_________________________________________________________________\n",
            "dense (Dense)                (None, 1)                 17        \n",
            "=================================================================\n",
            "Total params: 64,017\n",
            "Trainable params: 64,017\n",
            "Non-trainable params: 0\n",
            "_________________________________________________________________\n"
          ],
          "name": "stdout"
        }
      ]
    },
    {
      "cell_type": "markdown",
      "metadata": {
        "id": "Z4_BpP-reED_",
        "colab_type": "text"
      },
      "source": [
        "# Train The Model"
      ]
    },
    {
      "cell_type": "code",
      "metadata": {
        "id": "5uK4ltz7dvUk",
        "colab_type": "code",
        "outputId": "e496cc24-c9d3-4fdf-eb68-69872bcab160",
        "colab": {
          "base_uri": "https://localhost:8080/",
          "height": 709
        }
      },
      "source": [
        "num_epochs = 20\n",
        "history = model.fit(training_padded, training_labels_final, epochs = num_epochs, \n",
        "                    validation_data = (validation_padded, validation_labels_final))"
      ],
      "execution_count": 0,
      "outputs": [
        {
          "output_type": "stream",
          "text": [
            "Epoch 1/20\n",
            "313/313 [==============================] - 1s 4ms/step - loss: 0.6840 - accuracy: 0.5582 - val_loss: 0.6890 - val_accuracy: 0.5161\n",
            "Epoch 2/20\n",
            "313/313 [==============================] - 1s 4ms/step - loss: 0.6741 - accuracy: 0.5698 - val_loss: 0.6749 - val_accuracy: 0.5963\n",
            "Epoch 3/20\n",
            "313/313 [==============================] - 1s 4ms/step - loss: 0.6554 - accuracy: 0.6172 - val_loss: 0.6505 - val_accuracy: 0.6319\n",
            "Epoch 4/20\n",
            "313/313 [==============================] - 1s 4ms/step - loss: 0.6272 - accuracy: 0.6663 - val_loss: 0.6200 - val_accuracy: 0.6835\n",
            "Epoch 5/20\n",
            "313/313 [==============================] - 1s 3ms/step - loss: 0.5949 - accuracy: 0.7048 - val_loss: 0.5881 - val_accuracy: 0.7190\n",
            "Epoch 6/20\n",
            "313/313 [==============================] - 1s 3ms/step - loss: 0.5612 - accuracy: 0.7369 - val_loss: 0.5604 - val_accuracy: 0.7317\n",
            "Epoch 7/20\n",
            "313/313 [==============================] - 1s 3ms/step - loss: 0.5296 - accuracy: 0.7651 - val_loss: 0.5375 - val_accuracy: 0.7420\n",
            "Epoch 8/20\n",
            "313/313 [==============================] - 1s 4ms/step - loss: 0.5002 - accuracy: 0.7843 - val_loss: 0.5187 - val_accuracy: 0.7557\n",
            "Epoch 9/20\n",
            "313/313 [==============================] - 1s 4ms/step - loss: 0.4740 - accuracy: 0.8034 - val_loss: 0.5052 - val_accuracy: 0.7534\n",
            "Epoch 10/20\n",
            "313/313 [==============================] - 1s 3ms/step - loss: 0.4501 - accuracy: 0.8148 - val_loss: 0.4961 - val_accuracy: 0.7500\n",
            "Epoch 11/20\n",
            "313/313 [==============================] - 1s 4ms/step - loss: 0.4290 - accuracy: 0.8265 - val_loss: 0.4910 - val_accuracy: 0.7603\n",
            "Epoch 12/20\n",
            "313/313 [==============================] - 1s 4ms/step - loss: 0.4104 - accuracy: 0.8351 - val_loss: 0.4865 - val_accuracy: 0.7603\n",
            "Epoch 13/20\n",
            "313/313 [==============================] - 1s 4ms/step - loss: 0.3936 - accuracy: 0.8404 - val_loss: 0.4834 - val_accuracy: 0.7626\n",
            "Epoch 14/20\n",
            "313/313 [==============================] - 1s 4ms/step - loss: 0.3782 - accuracy: 0.8481 - val_loss: 0.4843 - val_accuracy: 0.7672\n",
            "Epoch 15/20\n",
            "313/313 [==============================] - 1s 3ms/step - loss: 0.3648 - accuracy: 0.8490 - val_loss: 0.4874 - val_accuracy: 0.7661\n",
            "Epoch 16/20\n",
            "313/313 [==============================] - 1s 4ms/step - loss: 0.3523 - accuracy: 0.8541 - val_loss: 0.4916 - val_accuracy: 0.7683\n",
            "Epoch 17/20\n",
            "313/313 [==============================] - 1s 4ms/step - loss: 0.3409 - accuracy: 0.8560 - val_loss: 0.4983 - val_accuracy: 0.7638\n",
            "Epoch 18/20\n",
            "313/313 [==============================] - 1s 4ms/step - loss: 0.3302 - accuracy: 0.8626 - val_loss: 0.5022 - val_accuracy: 0.7718\n",
            "Epoch 19/20\n",
            "313/313 [==============================] - 1s 4ms/step - loss: 0.3198 - accuracy: 0.8668 - val_loss: 0.5106 - val_accuracy: 0.7615\n",
            "Epoch 20/20\n",
            "313/313 [==============================] - 1s 3ms/step - loss: 0.3114 - accuracy: 0.8676 - val_loss: 0.5155 - val_accuracy: 0.7741\n"
          ],
          "name": "stdout"
        }
      ]
    },
    {
      "cell_type": "markdown",
      "metadata": {
        "id": "HSWtJo0Ueupi",
        "colab_type": "text"
      },
      "source": [
        "# Plot The Accurracy And Loss"
      ]
    },
    {
      "cell_type": "code",
      "metadata": {
        "id": "9Uws9fFNemH8",
        "colab_type": "code",
        "outputId": "046208be-8884-4937-ed21-af35d69ee36f",
        "colab": {
          "base_uri": "https://localhost:8080/",
          "height": 541
        }
      },
      "source": [
        "import matplotlib.pyplot as plt\n",
        "\n",
        "def plot_graphs(history, string):\n",
        "  plt.plot(history.history[string])\n",
        "  plt.plot(history.history['val_'+string])\n",
        "  plt.xlabel(\"Epochs\")\n",
        "  plt.ylabel(string)\n",
        "  plt.legend([string, 'val_'+string])\n",
        "  plt.show()\n",
        "\n",
        "plot_graphs(history, \"accuracy\")\n",
        "plot_graphs(history, \"loss\")"
      ],
      "execution_count": 0,
      "outputs": [
        {
          "output_type": "display_data",
          "data": {
            "image/png": "[encoded data removed]",
            "text/plain": [
              "<Figure size 432x288 with 1 Axes>"
            ]
          },
          "metadata": {
            "tags": [],
            "needs_background": "light"
          }
        },
        {
          "output_type": "display_data",
          "data": {
            "image/png": "[encoded data removed]",
            "text/plain": [
              "<Figure size 432x288 with 1 Axes>"
            ]
          },
          "metadata": {
            "tags": [],
            "needs_background": "light"
          }
        }
      ]
    },
    {
      "cell_type": "markdown",
      "metadata": {
        "id": "COXG_viRfzdA",
        "colab_type": "text"
      },
      "source": [
        "# Write A Function To Predict The Sentiment Of Reviews"
      ]
    },
    {
      "cell_type": "code",
      "metadata": {
        "id": "JwM_28VafwbR",
        "colab_type": "code",
        "colab": {}
      },
      "source": [
        "# Write some new reviews \n",
        "\n",
        "review1 = \"\"\"I loved this movie\"\"\"\n",
        "\n",
        "review2 = \"\"\"that was the worst movie I've ever seen\"\"\"\n",
        "\n",
        "review3 = \"\"\"too much violence even for a Bond film\"\"\"\n",
        "\n",
        "review4 = \"\"\"a captivating recounting of a cherished myth\"\"\"\n",
        "\n",
        "new_reviews = [review1, review2, review3, review4]"
      ],
      "execution_count": 0,
      "outputs": []
    },
    {
      "cell_type": "code",
      "metadata": {
        "id": "K0h885XAgVlj",
        "colab_type": "code",
        "outputId": "c611e4da-15cb-423c-a284-a9f2f014dde2",
        "colab": {
          "base_uri": "https://localhost:8080/",
          "height": 286
        }
      },
      "source": [
        "# Define a function to prepare the new reviews for use with a model\n",
        "# and then use the model to predict the sentiment of the new reviews           \n",
        "\n",
        "def predict_review(model, reviews):\n",
        "  # Create the sequences\n",
        "  padding_type='post'\n",
        "  sample_sequences = tokenizer.texts_to_sequences(reviews)\n",
        "  reviews_padded = pad_sequences(sample_sequences, padding=padding_type, \n",
        "                                 maxlen=max_length) \n",
        "  classes = model.predict(reviews_padded)\n",
        "  for x in range(len(reviews_padded)):\n",
        "    print(reviews[x])\n",
        "    print(classes[x])\n",
        "    print('\\n')\n",
        "\n",
        "predict_review(model, new_reviews)\n"
      ],
      "execution_count": 0,
      "outputs": [
        {
          "output_type": "stream",
          "text": [
            "I loved this movie\n",
            "[0.36506924]\n",
            "\n",
            "\n",
            "that was the worst movie I've ever seen\n",
            "[0.1101125]\n",
            "\n",
            "\n",
            "too much violence even for a Bond film\n",
            "[0.02994303]\n",
            "\n",
            "\n",
            "a captivating recounting of a cherished myth\n",
            "[0.5774032]\n",
            "\n",
            "\n"
          ],
          "name": "stdout"
        }
      ]
    },
    {
      "cell_type": "markdown",
      "metadata": {
        "id": "aWPVLrl7h5hn",
        "colab_type": "text"
      },
      "source": [
        "# Define A Function To Train And Show The Results Of Models With Different Layers"
      ]
    },
    {
      "cell_type": "code",
      "metadata": {
        "id": "4cxt1rfNh4W8",
        "colab_type": "code",
        "colab": {}
      },
      "source": [
        "def fit_model_and_show_results (model, reviews):\n",
        "  model.summary()\n",
        "  history = model.fit(training_padded, training_labels_final, epochs=num_epochs, \n",
        "                      validation_data=(validation_padded, validation_labels_final))\n",
        "  plot_graphs(history, \"accuracy\")\n",
        "  plot_graphs(history, \"loss\")\n",
        "  predict_review(model, reviews)"
      ],
      "execution_count": 0,
      "outputs": []
    },
    {
      "cell_type": "markdown",
      "metadata": {
        "id": "JWsJVXTIi4zo",
        "colab_type": "text"
      },
      "source": [
        "# Use A CNN"
      ]
    },
    {
      "cell_type": "code",
      "metadata": {
        "id": "LhKUbeE8i3eH",
        "colab_type": "code",
        "outputId": "e91d2a33-db20-4806-de58-91ff012d9685",
        "colab": {
          "base_uri": "https://localhost:8080/",
          "height": 1000
        }
      },
      "source": [
        "num_epochs = 30\n",
        "\n",
        "model_cnn = tf.keras.Sequential([\n",
        "    tf.keras.layers.Embedding(vocab_size, embedding_dim, input_length = max_length), \n",
        "    tf.keras.layers.Conv1D(16, 5, activation = 'relu'), \n",
        "    tf.keras.layers.GlobalMaxPooling1D(), \n",
        "    tf.keras.layers.Dense(1, activation = 'sigmoid')\n",
        "])\n",
        "\n",
        "# Default learning rate for the Adam optimizer is 0.001\n",
        "# Let's slow down the learning rate by 10.\n",
        "learning_rate = 0.0001\n",
        "model_cnn.compile(loss = 'binary_crossentropy', \n",
        "                  optimizer = tf.keras.optimizers.Adam(learning_rate),\n",
        "                  metrics = ['accuracy'])\n",
        "\n",
        "fit_model_and_show_results(model_cnn, new_reviews)"
      ],
      "execution_count": 0,
      "outputs": [
        {
          "output_type": "stream",
          "text": [
            "Model: \"sequential_8\"\n",
            "_________________________________________________________________\n",
            "Layer (type)                 Output Shape              Param #   \n",
            "=================================================================\n",
            "embedding_8 (Embedding)      (None, 50, 16)            64000     \n",
            "_________________________________________________________________\n",
            "conv1d_7 (Conv1D)            (None, 46, 16)            1296      \n",
            "_________________________________________________________________\n",
            "global_max_pooling1d_7 (Glob (None, 16)                0         \n",
            "_________________________________________________________________\n",
            "dense_8 (Dense)              (None, 1)                 17        \n",
            "=================================================================\n",
            "Total params: 65,313\n",
            "Trainable params: 65,313\n",
            "Non-trainable params: 0\n",
            "_________________________________________________________________\n",
            "Epoch 1/30\n",
            "313/313 [==============================] - 1s 4ms/step - loss: 0.6882 - accuracy: 0.5587 - val_loss: 0.6936 - val_accuracy: 0.5092\n",
            "Epoch 2/30\n",
            "313/313 [==============================] - 1s 4ms/step - loss: 0.6831 - accuracy: 0.5590 - val_loss: 0.6932 - val_accuracy: 0.5092\n",
            "Epoch 3/30\n",
            "313/313 [==============================] - 1s 4ms/step - loss: 0.6789 - accuracy: 0.5590 - val_loss: 0.6917 - val_accuracy: 0.5092\n",
            "Epoch 4/30\n",
            "313/313 [==============================] - 1s 4ms/step - loss: 0.6734 - accuracy: 0.5590 - val_loss: 0.6879 - val_accuracy: 0.5092\n",
            "Epoch 5/30\n",
            "313/313 [==============================] - 1s 4ms/step - loss: 0.6656 - accuracy: 0.5606 - val_loss: 0.6814 - val_accuracy: 0.5172\n",
            "Epoch 6/30\n",
            "313/313 [==============================] - 1s 4ms/step - loss: 0.6538 - accuracy: 0.5838 - val_loss: 0.6709 - val_accuracy: 0.6078\n",
            "Epoch 7/30\n",
            "313/313 [==============================] - 1s 4ms/step - loss: 0.6367 - accuracy: 0.6479 - val_loss: 0.6556 - val_accuracy: 0.6766\n",
            "Epoch 8/30\n",
            "313/313 [==============================] - 1s 4ms/step - loss: 0.6132 - accuracy: 0.7033 - val_loss: 0.6350 - val_accuracy: 0.7179\n",
            "Epoch 9/30\n",
            "313/313 [==============================] - 1s 4ms/step - loss: 0.5836 - accuracy: 0.7572 - val_loss: 0.6110 - val_accuracy: 0.7397\n",
            "Epoch 10/30\n",
            "313/313 [==============================] - 1s 4ms/step - loss: 0.5497 - accuracy: 0.7891 - val_loss: 0.5864 - val_accuracy: 0.7580\n",
            "Epoch 11/30\n",
            "313/313 [==============================] - 1s 4ms/step - loss: 0.5143 - accuracy: 0.8144 - val_loss: 0.5625 - val_accuracy: 0.7592\n",
            "Epoch 12/30\n",
            "313/313 [==============================] - 1s 4ms/step - loss: 0.4797 - accuracy: 0.8268 - val_loss: 0.5408 - val_accuracy: 0.7615\n",
            "Epoch 13/30\n",
            "313/313 [==============================] - 1s 4ms/step - loss: 0.4477 - accuracy: 0.8365 - val_loss: 0.5233 - val_accuracy: 0.7580\n",
            "Epoch 14/30\n",
            "313/313 [==============================] - 1s 4ms/step - loss: 0.4186 - accuracy: 0.8469 - val_loss: 0.5080 - val_accuracy: 0.7638\n",
            "Epoch 15/30\n",
            "313/313 [==============================] - 1s 4ms/step - loss: 0.3930 - accuracy: 0.8544 - val_loss: 0.4975 - val_accuracy: 0.7672\n",
            "Epoch 16/30\n",
            "313/313 [==============================] - 1s 4ms/step - loss: 0.3703 - accuracy: 0.8571 - val_loss: 0.4895 - val_accuracy: 0.7592\n",
            "Epoch 17/30\n",
            "313/313 [==============================] - 1s 4ms/step - loss: 0.3503 - accuracy: 0.8631 - val_loss: 0.4846 - val_accuracy: 0.7626\n",
            "Epoch 18/30\n",
            "313/313 [==============================] - 1s 4ms/step - loss: 0.3328 - accuracy: 0.8686 - val_loss: 0.4820 - val_accuracy: 0.7603\n",
            "Epoch 19/30\n",
            "313/313 [==============================] - 1s 4ms/step - loss: 0.3172 - accuracy: 0.8720 - val_loss: 0.4817 - val_accuracy: 0.7603\n",
            "Epoch 20/30\n",
            "313/313 [==============================] - 1s 4ms/step - loss: 0.3033 - accuracy: 0.8787 - val_loss: 0.4822 - val_accuracy: 0.7557\n",
            "Epoch 21/30\n",
            "313/313 [==============================] - 1s 4ms/step - loss: 0.2910 - accuracy: 0.8805 - val_loss: 0.4846 - val_accuracy: 0.7546\n",
            "Epoch 22/30\n",
            "313/313 [==============================] - 1s 4ms/step - loss: 0.2797 - accuracy: 0.8836 - val_loss: 0.4882 - val_accuracy: 0.7626\n",
            "Epoch 23/30\n",
            "313/313 [==============================] - 1s 4ms/step - loss: 0.2695 - accuracy: 0.8873 - val_loss: 0.4934 - val_accuracy: 0.7683\n",
            "Epoch 24/30\n",
            "313/313 [==============================] - 1s 4ms/step - loss: 0.2603 - accuracy: 0.8896 - val_loss: 0.4990 - val_accuracy: 0.7672\n",
            "Epoch 25/30\n",
            "313/313 [==============================] - 1s 4ms/step - loss: 0.2517 - accuracy: 0.8965 - val_loss: 0.5064 - val_accuracy: 0.7638\n",
            "Epoch 26/30\n",
            "313/313 [==============================] - 1s 4ms/step - loss: 0.2439 - accuracy: 0.8963 - val_loss: 0.5130 - val_accuracy: 0.7638\n",
            "Epoch 27/30\n",
            "313/313 [==============================] - 1s 4ms/step - loss: 0.2366 - accuracy: 0.8994 - val_loss: 0.5207 - val_accuracy: 0.7649\n",
            "Epoch 28/30\n",
            "313/313 [==============================] - 1s 4ms/step - loss: 0.2296 - accuracy: 0.9028 - val_loss: 0.5298 - val_accuracy: 0.7626\n",
            "Epoch 29/30\n",
            "313/313 [==============================] - 1s 4ms/step - loss: 0.2233 - accuracy: 0.9032 - val_loss: 0.5387 - val_accuracy: 0.7626\n",
            "Epoch 30/30\n",
            "313/313 [==============================] - 1s 4ms/step - loss: 0.2174 - accuracy: 0.9048 - val_loss: 0.5483 - val_accuracy: 0.7603\n"
          ],
          "name": "stdout"
        },
        {
          "output_type": "display_data",
          "data": {
            "image/png": "[encoded data removed]",
            "text/plain": [
              "<Figure size 432x288 with 1 Axes>"
            ]
          },
          "metadata": {
            "tags": [],
            "needs_background": "light"
          }
        },
        {
          "output_type": "display_data",
          "data": {
            "image/png": "[encoded data removed]",
            "text/plain": [
              "<Figure size 432x288 with 1 Axes>"
            ]
          },
          "metadata": {
            "tags": [],
            "needs_background": "light"
          }
        },
        {
          "output_type": "stream",
          "text": [
            "I loved this movie\n",
            "[0.6845779]\n",
            "\n",
            "\n",
            "that was the worst movie I've ever seen\n",
            "[0.02462687]\n",
            "\n",
            "\n",
            "too much violence even for a Bond film\n",
            "[0.0012788]\n",
            "\n",
            "\n",
            "a captivating recounting of a cherished myth\n",
            "[0.7190546]\n",
            "\n",
            "\n"
          ],
          "name": "stdout"
        }
      ]
    },
    {
      "cell_type": "markdown",
      "metadata": {
        "id": "J3LIvuaImXEt",
        "colab_type": "text"
      },
      "source": [
        "# Use A GRU"
      ]
    },
    {
      "cell_type": "code",
      "metadata": {
        "id": "lBC7VTBvknFW",
        "colab_type": "code",
        "outputId": "0e8d8c62-2866-4ee2-fd3f-170c2bfddd5d",
        "colab": {
          "base_uri": "https://localhost:8080/",
          "height": 1000
        }
      },
      "source": [
        "num_epochs = 30\n",
        "\n",
        "model_gru = tf.keras.Sequential([\n",
        "    tf.keras.layers.Embedding(vocab_size, embedding_dim, input_length = max_length), \n",
        "    tf.keras.layers.Bidirectional(tf.keras.layers.GRU(32)), \n",
        "    tf.keras.layers.Dense(1, activation = 'sigmoid')\n",
        "])\n",
        "\n",
        "learning_rate = 0.00003 # slower than the default learning rate\n",
        "model_gru.compile(loss = 'binary_crossentropy', \n",
        "                  optimizer = tf.keras.optimizers.Adam(learning_rate), \n",
        "                  metrics = ['accuracy'])\n",
        "\n",
        "fit_model_and_show_results(model_gru, new_reviews)"
      ],
      "execution_count": 0,
      "outputs": [
        {
          "output_type": "stream",
          "text": [
            "Model: \"sequential_9\"\n",
            "_________________________________________________________________\n",
            "Layer (type)                 Output Shape              Param #   \n",
            "=================================================================\n",
            "embedding_10 (Embedding)     (None, 50, 16)            64000     \n",
            "_________________________________________________________________\n",
            "bidirectional (Bidirectional (None, 64)                9600      \n",
            "_________________________________________________________________\n",
            "dense_9 (Dense)              (None, 1)                 65        \n",
            "=================================================================\n",
            "Total params: 73,665\n",
            "Trainable params: 73,665\n",
            "Non-trainable params: 0\n",
            "_________________________________________________________________\n",
            "Epoch 1/30\n",
            "313/313 [==============================] - 3s 10ms/step - loss: 0.6902 - accuracy: 0.5573 - val_loss: 0.6932 - val_accuracy: 0.5092\n",
            "Epoch 2/30\n",
            "313/313 [==============================] - 3s 9ms/step - loss: 0.6867 - accuracy: 0.5590 - val_loss: 0.6943 - val_accuracy: 0.5092\n",
            "Epoch 3/30\n",
            "313/313 [==============================] - 3s 8ms/step - loss: 0.6851 - accuracy: 0.5590 - val_loss: 0.6954 - val_accuracy: 0.5092\n",
            "Epoch 4/30\n",
            "313/313 [==============================] - 3s 9ms/step - loss: 0.6838 - accuracy: 0.5590 - val_loss: 0.6963 - val_accuracy: 0.5092\n",
            "Epoch 5/30\n",
            "313/313 [==============================] - 3s 9ms/step - loss: 0.6823 - accuracy: 0.5590 - val_loss: 0.6971 - val_accuracy: 0.5092\n",
            "Epoch 6/30\n",
            "313/313 [==============================] - 3s 8ms/step - loss: 0.6800 - accuracy: 0.5590 - val_loss: 0.6988 - val_accuracy: 0.5092\n",
            "Epoch 7/30\n",
            "313/313 [==============================] - 3s 8ms/step - loss: 0.6766 - accuracy: 0.5590 - val_loss: 0.7006 - val_accuracy: 0.5092\n",
            "Epoch 8/30\n",
            "313/313 [==============================] - 3s 8ms/step - loss: 0.6713 - accuracy: 0.5591 - val_loss: 0.7056 - val_accuracy: 0.5092\n",
            "Epoch 9/30\n",
            "313/313 [==============================] - 3s 9ms/step - loss: 0.6625 - accuracy: 0.5714 - val_loss: 0.7119 - val_accuracy: 0.5092\n",
            "Epoch 10/30\n",
            "313/313 [==============================] - 3s 8ms/step - loss: 0.6485 - accuracy: 0.6115 - val_loss: 0.7167 - val_accuracy: 0.5092\n",
            "Epoch 11/30\n",
            "313/313 [==============================] - 3s 8ms/step - loss: 0.6262 - accuracy: 0.6454 - val_loss: 0.6928 - val_accuracy: 0.5092\n",
            "Epoch 12/30\n",
            "313/313 [==============================] - 3s 8ms/step - loss: 0.5921 - accuracy: 0.6755 - val_loss: 0.6421 - val_accuracy: 0.5310\n",
            "Epoch 13/30\n",
            "313/313 [==============================] - 3s 8ms/step - loss: 0.5667 - accuracy: 0.7069 - val_loss: 0.6445 - val_accuracy: 0.5745\n",
            "Epoch 14/30\n",
            "313/313 [==============================] - 3s 8ms/step - loss: 0.5483 - accuracy: 0.7219 - val_loss: 0.6323 - val_accuracy: 0.6514\n",
            "Epoch 15/30\n",
            "313/313 [==============================] - 3s 8ms/step - loss: 0.5315 - accuracy: 0.7375 - val_loss: 0.6221 - val_accuracy: 0.6938\n",
            "Epoch 16/30\n",
            "313/313 [==============================] - 3s 8ms/step - loss: 0.5149 - accuracy: 0.7539 - val_loss: 0.6339 - val_accuracy: 0.6869\n",
            "Epoch 17/30\n",
            "313/313 [==============================] - 3s 8ms/step - loss: 0.4976 - accuracy: 0.7669 - val_loss: 0.6224 - val_accuracy: 0.7362\n",
            "Epoch 18/30\n",
            "313/313 [==============================] - 3s 8ms/step - loss: 0.4816 - accuracy: 0.7791 - val_loss: 0.6108 - val_accuracy: 0.7454\n",
            "Epoch 19/30\n",
            "313/313 [==============================] - 3s 8ms/step - loss: 0.4673 - accuracy: 0.7915 - val_loss: 0.6034 - val_accuracy: 0.7454\n",
            "Epoch 20/30\n",
            "313/313 [==============================] - 3s 8ms/step - loss: 0.4561 - accuracy: 0.7967 - val_loss: 0.5867 - val_accuracy: 0.7477\n",
            "Epoch 21/30\n",
            "313/313 [==============================] - 3s 8ms/step - loss: 0.4462 - accuracy: 0.8021 - val_loss: 0.5804 - val_accuracy: 0.7523\n",
            "Epoch 22/30\n",
            "313/313 [==============================] - 3s 8ms/step - loss: 0.4352 - accuracy: 0.8097 - val_loss: 0.5843 - val_accuracy: 0.7546\n",
            "Epoch 23/30\n",
            "313/313 [==============================] - 3s 8ms/step - loss: 0.4270 - accuracy: 0.8148 - val_loss: 0.5855 - val_accuracy: 0.7649\n",
            "Epoch 24/30\n",
            "313/313 [==============================] - 3s 8ms/step - loss: 0.4169 - accuracy: 0.8204 - val_loss: 0.5806 - val_accuracy: 0.7683\n",
            "Epoch 25/30\n",
            "313/313 [==============================] - 3s 8ms/step - loss: 0.4090 - accuracy: 0.8236 - val_loss: 0.5834 - val_accuracy: 0.7718\n",
            "Epoch 26/30\n",
            "313/313 [==============================] - 3s 8ms/step - loss: 0.4032 - accuracy: 0.8253 - val_loss: 0.5897 - val_accuracy: 0.7695\n",
            "Epoch 27/30\n",
            "313/313 [==============================] - 3s 9ms/step - loss: 0.3945 - accuracy: 0.8332 - val_loss: 0.5671 - val_accuracy: 0.7729\n",
            "Epoch 28/30\n",
            "313/313 [==============================] - 3s 8ms/step - loss: 0.3890 - accuracy: 0.8355 - val_loss: 0.5868 - val_accuracy: 0.7683\n",
            "Epoch 29/30\n",
            "313/313 [==============================] - 3s 8ms/step - loss: 0.3812 - accuracy: 0.8384 - val_loss: 0.5823 - val_accuracy: 0.7683\n",
            "Epoch 30/30\n",
            "313/313 [==============================] - 3s 8ms/step - loss: 0.3762 - accuracy: 0.8435 - val_loss: 0.6136 - val_accuracy: 0.7649\n"
          ],
          "name": "stdout"
        },
        {
          "output_type": "display_data",
          "data": {
            "image/png": "[encoded data removed]",
            "text/plain": [
              "<Figure size 432x288 with 1 Axes>"
            ]
          },
          "metadata": {
            "tags": [],
            "needs_background": "light"
          }
        },
        {
          "output_type": "display_data",
          "data": {
            "image/png": "[encoded data removed]",
            "text/plain": [
              "<Figure size 432x288 with 1 Axes>"
            ]
          },
          "metadata": {
            "tags": [],
            "needs_background": "light"
          }
        },
        {
          "output_type": "stream",
          "text": [
            "I loved this movie\n",
            "[0.4670689]\n",
            "\n",
            "\n",
            "that was the worst movie I've ever seen\n",
            "[0.17148882]\n",
            "\n",
            "\n",
            "too much violence even for a Bond film\n",
            "[0.16574785]\n",
            "\n",
            "\n",
            "a captivating recounting of a cherished myth\n",
            "[0.5429772]\n",
            "\n",
            "\n"
          ],
          "name": "stdout"
        }
      ]
    },
    {
      "cell_type": "markdown",
      "metadata": {
        "id": "8ENhzI7CqahE",
        "colab_type": "text"
      },
      "source": [
        "# Add A Bidirectional LSTM"
      ]
    },
    {
      "cell_type": "code",
      "metadata": {
        "id": "3FMvlX8XqHhS",
        "colab_type": "code",
        "outputId": "2ddf5928-5356-42c5-9ce0-0b9df79e6190",
        "colab": {
          "base_uri": "https://localhost:8080/",
          "height": 1000
        }
      },
      "source": [
        "num_epochs = 30\n",
        "\n",
        "model_bidi_lstm = tf.keras.Sequential([\n",
        "    tf.keras.layers.Embedding(vocab_size, embedding_dim, input_length = max_length), \n",
        "    tf.keras.layers.Bidirectional(tf.keras.layers.LSTM(embedding_dim)), \n",
        "    tf.keras.layers.Dense(1, activation = 'sigmoid')\n",
        "])\n",
        "\n",
        "learning_rate = 0.00003\n",
        "model_bidi_lstm.compile(loss = 'binary_crossentropy', \n",
        "                        optimizer = tf.keras.optimizers.Adam(learning_rate), \n",
        "                        metrics = ['accuracy'])\n",
        "fit_model_and_show_results(model_bidi_lstm, new_reviews)"
      ],
      "execution_count": 0,
      "outputs": [
        {
          "output_type": "stream",
          "text": [
            "Model: \"sequential_11\"\n",
            "_________________________________________________________________\n",
            "Layer (type)                 Output Shape              Param #   \n",
            "=================================================================\n",
            "embedding_12 (Embedding)     (None, 50, 16)            64000     \n",
            "_________________________________________________________________\n",
            "bidirectional_2 (Bidirection (None, 32)                4224      \n",
            "_________________________________________________________________\n",
            "dense_11 (Dense)             (None, 1)                 33        \n",
            "=================================================================\n",
            "Total params: 68,257\n",
            "Trainable params: 68,257\n",
            "Non-trainable params: 0\n",
            "_________________________________________________________________\n",
            "Epoch 1/30\n",
            "313/313 [==============================] - 3s 11ms/step - loss: 0.6908 - accuracy: 0.5579 - val_loss: 0.6933 - val_accuracy: 0.5092\n",
            "Epoch 2/30\n",
            "313/313 [==============================] - 3s 8ms/step - loss: 0.6871 - accuracy: 0.5590 - val_loss: 0.6946 - val_accuracy: 0.5092\n",
            "Epoch 3/30\n",
            "313/313 [==============================] - 3s 8ms/step - loss: 0.6850 - accuracy: 0.5590 - val_loss: 0.6962 - val_accuracy: 0.5092\n",
            "Epoch 4/30\n",
            "313/313 [==============================] - 3s 8ms/step - loss: 0.6838 - accuracy: 0.5590 - val_loss: 0.6977 - val_accuracy: 0.5092\n",
            "Epoch 5/30\n",
            "313/313 [==============================] - 3s 8ms/step - loss: 0.6826 - accuracy: 0.5590 - val_loss: 0.6990 - val_accuracy: 0.5092\n",
            "Epoch 6/30\n",
            "313/313 [==============================] - 3s 8ms/step - loss: 0.6812 - accuracy: 0.5590 - val_loss: 0.6997 - val_accuracy: 0.5092\n",
            "Epoch 7/30\n",
            "313/313 [==============================] - 3s 8ms/step - loss: 0.6794 - accuracy: 0.5590 - val_loss: 0.7008 - val_accuracy: 0.5092\n",
            "Epoch 8/30\n",
            "313/313 [==============================] - 3s 8ms/step - loss: 0.6772 - accuracy: 0.5590 - val_loss: 0.7017 - val_accuracy: 0.5092\n",
            "Epoch 9/30\n",
            "313/313 [==============================] - 3s 8ms/step - loss: 0.6744 - accuracy: 0.5592 - val_loss: 0.7029 - val_accuracy: 0.5092\n",
            "Epoch 10/30\n",
            "313/313 [==============================] - 3s 9ms/step - loss: 0.6710 - accuracy: 0.5636 - val_loss: 0.7051 - val_accuracy: 0.5092\n",
            "Epoch 11/30\n",
            "313/313 [==============================] - 3s 9ms/step - loss: 0.6669 - accuracy: 0.5735 - val_loss: 0.7056 - val_accuracy: 0.5092\n",
            "Epoch 12/30\n",
            "313/313 [==============================] - 3s 9ms/step - loss: 0.6620 - accuracy: 0.5912 - val_loss: 0.7061 - val_accuracy: 0.5080\n",
            "Epoch 13/30\n",
            "313/313 [==============================] - 3s 9ms/step - loss: 0.6560 - accuracy: 0.6064 - val_loss: 0.7026 - val_accuracy: 0.5092\n",
            "Epoch 14/30\n",
            "313/313 [==============================] - 3s 9ms/step - loss: 0.6489 - accuracy: 0.6251 - val_loss: 0.6991 - val_accuracy: 0.5080\n",
            "Epoch 15/30\n",
            "313/313 [==============================] - 3s 8ms/step - loss: 0.6403 - accuracy: 0.6351 - val_loss: 0.6898 - val_accuracy: 0.5161\n",
            "Epoch 16/30\n",
            "313/313 [==============================] - 3s 8ms/step - loss: 0.6299 - accuracy: 0.6485 - val_loss: 0.6779 - val_accuracy: 0.5229\n",
            "Epoch 17/30\n",
            "313/313 [==============================] - 3s 8ms/step - loss: 0.6166 - accuracy: 0.6630 - val_loss: 0.6535 - val_accuracy: 0.5390\n",
            "Epoch 18/30\n",
            "313/313 [==============================] - 3s 8ms/step - loss: 0.6000 - accuracy: 0.6793 - val_loss: 0.6138 - val_accuracy: 0.6227\n",
            "Epoch 19/30\n",
            "313/313 [==============================] - 3s 8ms/step - loss: 0.5815 - accuracy: 0.6974 - val_loss: 0.5760 - val_accuracy: 0.7087\n",
            "Epoch 20/30\n",
            "313/313 [==============================] - 3s 8ms/step - loss: 0.5620 - accuracy: 0.7178 - val_loss: 0.5510 - val_accuracy: 0.7236\n",
            "Epoch 21/30\n",
            "313/313 [==============================] - 3s 8ms/step - loss: 0.5454 - accuracy: 0.7349 - val_loss: 0.5369 - val_accuracy: 0.7397\n",
            "Epoch 22/30\n",
            "313/313 [==============================] - 3s 8ms/step - loss: 0.5338 - accuracy: 0.7501 - val_loss: 0.5267 - val_accuracy: 0.7443\n",
            "Epoch 23/30\n",
            "313/313 [==============================] - 3s 8ms/step - loss: 0.5211 - accuracy: 0.7568 - val_loss: 0.5220 - val_accuracy: 0.7431\n",
            "Epoch 24/30\n",
            "313/313 [==============================] - 3s 8ms/step - loss: 0.5116 - accuracy: 0.7654 - val_loss: 0.5187 - val_accuracy: 0.7534\n",
            "Epoch 25/30\n",
            "313/313 [==============================] - 3s 8ms/step - loss: 0.5011 - accuracy: 0.7743 - val_loss: 0.5182 - val_accuracy: 0.7557\n",
            "Epoch 26/30\n",
            "313/313 [==============================] - 3s 8ms/step - loss: 0.4928 - accuracy: 0.7811 - val_loss: 0.5188 - val_accuracy: 0.7569\n",
            "Epoch 27/30\n",
            "313/313 [==============================] - 3s 8ms/step - loss: 0.4835 - accuracy: 0.7893 - val_loss: 0.5210 - val_accuracy: 0.7649\n",
            "Epoch 28/30\n",
            "313/313 [==============================] - 3s 8ms/step - loss: 0.4746 - accuracy: 0.7951 - val_loss: 0.5216 - val_accuracy: 0.7638\n",
            "Epoch 29/30\n",
            "313/313 [==============================] - 3s 8ms/step - loss: 0.4665 - accuracy: 0.8014 - val_loss: 0.5277 - val_accuracy: 0.7649\n",
            "Epoch 30/30\n",
            "313/313 [==============================] - 3s 8ms/step - loss: 0.4599 - accuracy: 0.8060 - val_loss: 0.5275 - val_accuracy: 0.7683\n"
          ],
          "name": "stdout"
        },
        {
          "output_type": "display_data",
          "data": {
            "image/png": "[encoded data removed]",
            "text/plain": [
              "<Figure size 432x288 with 1 Axes>"
            ]
          },
          "metadata": {
            "tags": [],
            "needs_background": "light"
          }
        },
        {
          "output_type": "display_data",
          "data": {
            "image/png": "[encoded data removed]",
            "text/plain": [
              "<Figure size 432x288 with 1 Axes>"
            ]
          },
          "metadata": {
            "tags": [],
            "needs_background": "light"
          }
        },
        {
          "output_type": "stream",
          "text": [
            "I loved this movie\n",
            "[0.48966357]\n",
            "\n",
            "\n",
            "that was the worst movie I've ever seen\n",
            "[0.3029662]\n",
            "\n",
            "\n",
            "too much violence even for a Bond film\n",
            "[0.37349677]\n",
            "\n",
            "\n",
            "a captivating recounting of a cherished myth\n",
            "[0.50168824]\n",
            "\n",
            "\n"
          ],
          "name": "stdout"
        }
      ]
    },
    {
      "cell_type": "markdown",
      "metadata": {
        "id": "-tg_jnoSr4Qz",
        "colab_type": "text"
      },
      "source": [
        "# Use Multiple Bidirectional LSTMs"
      ]
    },
    {
      "cell_type": "code",
      "metadata": {
        "id": "qOgPB9a6rzBE",
        "colab_type": "code",
        "outputId": "853b1e9e-a478-4db0-8079-41bf0c730639",
        "colab": {
          "base_uri": "https://localhost:8080/",
          "height": 1000
        }
      },
      "source": [
        "num_epochs = 30\n",
        "\n",
        "model_multiple_bidi_lstm = tf.keras.Sequential([\n",
        "    tf.keras.layers.Embedding(vocab_size, embedding_dim, input_length=max_length),\n",
        "    tf.keras.layers.Bidirectional(tf.keras.layers.LSTM(embedding_dim, \n",
        "                                                       return_sequences=True)),\n",
        "    tf.keras.layers.Bidirectional(tf.keras.layers.LSTM(embedding_dim)),\n",
        "    tf.keras.layers.Dense(1, activation='sigmoid')\n",
        "])\n",
        "\n",
        "learning_rate = 0.0003\n",
        "model_multiple_bidi_lstm.compile(loss='binary_crossentropy',\n",
        "                                 optimizer=tf.keras.optimizers.Adam(learning_rate),\n",
        "                                 metrics=['accuracy'])\n",
        "fit_model_and_show_results(model_multiple_bidi_lstm, new_reviews)"
      ],
      "execution_count": 0,
      "outputs": [
        {
          "output_type": "stream",
          "text": [
            "Model: \"sequential_12\"\n",
            "_________________________________________________________________\n",
            "Layer (type)                 Output Shape              Param #   \n",
            "=================================================================\n",
            "embedding_13 (Embedding)     (None, 50, 16)            64000     \n",
            "_________________________________________________________________\n",
            "bidirectional_3 (Bidirection (None, 50, 32)            4224      \n",
            "_________________________________________________________________\n",
            "bidirectional_4 (Bidirection (None, 32)                6272      \n",
            "_________________________________________________________________\n",
            "dense_12 (Dense)             (None, 1)                 33        \n",
            "=================================================================\n",
            "Total params: 74,529\n",
            "Trainable params: 74,529\n",
            "Non-trainable params: 0\n",
            "_________________________________________________________________\n",
            "Epoch 1/30\n",
            "313/313 [==============================] - 5s 17ms/step - loss: 0.6775 - accuracy: 0.5688 - val_loss: 0.7027 - val_accuracy: 0.5103\n",
            "Epoch 2/30\n",
            "313/313 [==============================] - 4s 14ms/step - loss: 0.4669 - accuracy: 0.7747 - val_loss: 0.7954 - val_accuracy: 0.5011\n",
            "Epoch 3/30\n",
            "313/313 [==============================] - 4s 13ms/step - loss: 0.3441 - accuracy: 0.8439 - val_loss: 0.7441 - val_accuracy: 0.5149\n",
            "Epoch 4/30\n",
            "313/313 [==============================] - 4s 14ms/step - loss: 0.2944 - accuracy: 0.8662 - val_loss: 0.7847 - val_accuracy: 0.5115\n",
            "Epoch 5/30\n",
            "313/313 [==============================] - 4s 14ms/step - loss: 0.2637 - accuracy: 0.8772 - val_loss: 0.8157 - val_accuracy: 0.5080\n",
            "Epoch 6/30\n",
            "313/313 [==============================] - 4s 14ms/step - loss: 0.2441 - accuracy: 0.8894 - val_loss: 0.6867 - val_accuracy: 0.5688\n",
            "Epoch 7/30\n",
            "313/313 [==============================] - 4s 13ms/step - loss: 0.2267 - accuracy: 0.8944 - val_loss: 0.9036 - val_accuracy: 0.5011\n",
            "Epoch 8/30\n",
            "313/313 [==============================] - 4s 14ms/step - loss: 0.2162 - accuracy: 0.9015 - val_loss: 0.7341 - val_accuracy: 0.4278\n",
            "Epoch 9/30\n",
            "313/313 [==============================] - 4s 14ms/step - loss: 0.2048 - accuracy: 0.9030 - val_loss: 0.8848 - val_accuracy: 0.4920\n",
            "Epoch 10/30\n",
            "313/313 [==============================] - 4s 14ms/step - loss: 0.1978 - accuracy: 0.9063 - val_loss: 0.9176 - val_accuracy: 0.3429\n",
            "Epoch 11/30\n",
            "313/313 [==============================] - 4s 14ms/step - loss: 0.1939 - accuracy: 0.9100 - val_loss: 0.9601 - val_accuracy: 0.3486\n",
            "Epoch 12/30\n",
            "313/313 [==============================] - 4s 13ms/step - loss: 0.1833 - accuracy: 0.9148 - val_loss: 1.0455 - val_accuracy: 0.4014\n",
            "Epoch 13/30\n",
            "313/313 [==============================] - 4s 13ms/step - loss: 0.1843 - accuracy: 0.9164 - val_loss: 1.0834 - val_accuracy: 0.3888\n",
            "Epoch 14/30\n",
            "313/313 [==============================] - 4s 14ms/step - loss: 0.1779 - accuracy: 0.9178 - val_loss: 1.0545 - val_accuracy: 0.4094\n",
            "Epoch 15/30\n",
            "313/313 [==============================] - 4s 13ms/step - loss: 0.1727 - accuracy: 0.9203 - val_loss: 1.1166 - val_accuracy: 0.4312\n",
            "Epoch 16/30\n",
            "313/313 [==============================] - 4s 14ms/step - loss: 0.1687 - accuracy: 0.9205 - val_loss: 1.1587 - val_accuracy: 0.4381\n",
            "Epoch 17/30\n",
            "313/313 [==============================] - 4s 14ms/step - loss: 0.1659 - accuracy: 0.9207 - val_loss: 1.1332 - val_accuracy: 0.4805\n",
            "Epoch 18/30\n",
            "313/313 [==============================] - 4s 13ms/step - loss: 0.1601 - accuracy: 0.9236 - val_loss: 1.2367 - val_accuracy: 0.4083\n",
            "Epoch 19/30\n",
            "313/313 [==============================] - 4s 13ms/step - loss: 0.1588 - accuracy: 0.9236 - val_loss: 1.1254 - val_accuracy: 0.4472\n",
            "Epoch 20/30\n",
            "313/313 [==============================] - 4s 14ms/step - loss: 0.1528 - accuracy: 0.9295 - val_loss: 1.3057 - val_accuracy: 0.4725\n",
            "Epoch 21/30\n",
            "313/313 [==============================] - 4s 13ms/step - loss: 0.1503 - accuracy: 0.9278 - val_loss: 1.2857 - val_accuracy: 0.4128\n",
            "Epoch 22/30\n",
            "313/313 [==============================] - 4s 13ms/step - loss: 0.1518 - accuracy: 0.9278 - val_loss: 1.3443 - val_accuracy: 0.4484\n",
            "Epoch 23/30\n",
            "313/313 [==============================] - 4s 13ms/step - loss: 0.1490 - accuracy: 0.9296 - val_loss: 1.4290 - val_accuracy: 0.4266\n",
            "Epoch 24/30\n",
            "313/313 [==============================] - 4s 13ms/step - loss: 0.1451 - accuracy: 0.9297 - val_loss: 1.5030 - val_accuracy: 0.4335\n",
            "Epoch 25/30\n",
            "313/313 [==============================] - 4s 13ms/step - loss: 0.1437 - accuracy: 0.9300 - val_loss: 1.6495 - val_accuracy: 0.4083\n",
            "Epoch 26/30\n",
            "313/313 [==============================] - 4s 13ms/step - loss: 0.1399 - accuracy: 0.9319 - val_loss: 1.3079 - val_accuracy: 0.5229\n",
            "Epoch 27/30\n",
            "313/313 [==============================] - 4s 14ms/step - loss: 0.1394 - accuracy: 0.9297 - val_loss: 1.6553 - val_accuracy: 0.4346\n",
            "Epoch 28/30\n",
            "313/313 [==============================] - 4s 14ms/step - loss: 0.1398 - accuracy: 0.9309 - val_loss: 1.6930 - val_accuracy: 0.4495\n",
            "Epoch 29/30\n",
            "313/313 [==============================] - 4s 13ms/step - loss: 0.1365 - accuracy: 0.9325 - val_loss: 1.6984 - val_accuracy: 0.4461\n",
            "Epoch 30/30\n",
            "313/313 [==============================] - 4s 14ms/step - loss: 0.1327 - accuracy: 0.9327 - val_loss: 1.6768 - val_accuracy: 0.4667\n"
          ],
          "name": "stdout"
        },
        {
          "output_type": "display_data",
          "data": {
            "image/png": "[encoded data removed]",
            "text/plain": [
              "<Figure size 432x288 with 1 Axes>"
            ]
          },
          "metadata": {
            "tags": [],
            "needs_background": "light"
          }
        },
        {
          "output_type": "display_data",
          "data": {
            "image/png": "[encoded data removed]",
            "text/plain": [
              "<Figure size 432x288 with 1 Axes>"
            ]
          },
          "metadata": {
            "tags": [],
            "needs_background": "light"
          }
        },
        {
          "output_type": "stream",
          "text": [
            "I loved this movie\n",
            "[0.7919378]\n",
            "\n",
            "\n",
            "that was the worst movie I've ever seen\n",
            "[0.0333861]\n",
            "\n",
            "\n",
            "too much violence even for a Bond film\n",
            "[0.00940024]\n",
            "\n",
            "\n",
            "a captivating recounting of a cherished myth\n",
            "[0.99482876]\n",
            "\n",
            "\n"
          ],
          "name": "stdout"
        }
      ]
    },
    {
      "cell_type": "markdown",
      "metadata": {
        "id": "MFgBK32LsB9p",
        "colab_type": "text"
      },
      "source": [
        "# Try Some More Reviews"
      ]
    },
    {
      "cell_type": "code",
      "metadata": {
        "id": "P2GPYtU7sIuJ",
        "colab_type": "code",
        "colab": {}
      },
      "source": [
        "# Write some new reviews \n",
        "\n",
        "review1 = \"\"\"I loved this movie\"\"\"\n",
        "\n",
        "review2 = \"\"\"that was the worst movie I've ever seen\"\"\"\n",
        "\n",
        "review3 = \"\"\"too much violence even for a Bond film\"\"\"\n",
        "\n",
        "review4 = \"\"\"a captivating recounting of a cherished myth\"\"\"\n",
        "\n",
        "review5 = \"\"\"I saw this movie yesterday and I was feeling low to start with,\n",
        " but it was such a wonderful movie that it lifted my spirits and brightened \n",
        " my day, you can\\'t go wrong with a movie with Whoopi Goldberg in it.\"\"\"\n",
        "\n",
        "review6 = \"\"\"I don\\'t understand why it received an oscar recommendation\n",
        " for best movie, it was long and boring\"\"\"\n",
        "\n",
        "review7 = \"\"\"the scenery was magnificent, the CGI of the dogs was so realistic I\n",
        " thought they were played by real dogs even though they talked!\"\"\"\n",
        "\n",
        "review8 = \"\"\"The ending was so sad and yet so uplifting at the same time. \n",
        " I'm looking for an excuse to see it again\"\"\"\n",
        "\n",
        "review9 = \"\"\"I had expected so much more from a movie made by the director \n",
        " who made my most favorite movie ever, I was very disappointed in the tedious \n",
        " story\"\"\"\n",
        "\n",
        "review10 = \"I wish I could watch this movie every day for the rest of my life\"\n",
        "\n",
        "more_reviews = [review1, review2, review3, review4, review5, review6, review7, \n",
        "               review8, review9, review10]\n"
      ],
      "execution_count": 0,
      "outputs": []
    },
    {
      "cell_type": "code",
      "metadata": {
        "id": "SvGXvZoysL-o",
        "colab_type": "code",
        "outputId": "230dfacf-d92d-40de-d499-690976b11e13",
        "colab": {
          "base_uri": "https://localhost:8080/",
          "height": 857
        }
      },
      "source": [
        "print(\"============================\\n\",\"Embeddings only:\\n\", \"============================\")\n",
        "predict_review(model, more_reviews)"
      ],
      "execution_count": 0,
      "outputs": [
        {
          "output_type": "stream",
          "text": [
            "============================\n",
            " Embeddings only:\n",
            " ============================\n",
            "I loved this movie\n",
            "[0.36506924]\n",
            "\n",
            "\n",
            "that was the worst movie I've ever seen\n",
            "[0.1101125]\n",
            "\n",
            "\n",
            "too much violence even for a Bond film\n",
            "[0.02994303]\n",
            "\n",
            "\n",
            "a captivating recounting of a cherished myth\n",
            "[0.5774032]\n",
            "\n",
            "\n",
            "I saw this movie yesterday and I was feeling low to start with,\n",
            " but it was such a wonderful movie that it lifted my spirits and brightened \n",
            " my day, you can't go wrong with a movie with Whoopi Goldberg in it.\n",
            "[0.26035744]\n",
            "\n",
            "\n",
            "I don't understand why it received an oscar recommendation\n",
            " for best movie, it was long and boring\n",
            "[0.46359512]\n",
            "\n",
            "\n",
            "the scenery was magnificent, the CGI of the dogs was so realistic I\n",
            " thought they were played by real dogs even though they talked!\n",
            "[0.24282148]\n",
            "\n",
            "\n",
            "The ending was so sad and yet so uplifting at the same time. \n",
            " I'm looking for an excuse to see it again\n",
            "[0.4793418]\n",
            "\n",
            "\n",
            "I had expected so much more from a movie made by the director \n",
            " who made my most favorite movie ever, I was very disappointed in the tedious \n",
            " story\n",
            "[0.01055667]\n",
            "\n",
            "\n",
            "I wish I could watch this movie every day for the rest of my life\n",
            "[0.28673086]\n",
            "\n",
            "\n"
          ],
          "name": "stdout"
        }
      ]
    },
    {
      "cell_type": "code",
      "metadata": {
        "id": "aVTsxQYosTP5",
        "colab_type": "code",
        "outputId": "8bba7ff9-13d0-45b6-c1bf-1145301aa64c",
        "colab": {
          "base_uri": "https://localhost:8080/",
          "height": 857
        }
      },
      "source": [
        "print(\"============================\\n\",\"With CNN\\n\", \"============================\")\n",
        "predict_review(model_cnn, more_reviews)"
      ],
      "execution_count": 0,
      "outputs": [
        {
          "output_type": "stream",
          "text": [
            "============================\n",
            " With CNN\n",
            " ============================\n",
            "I loved this movie\n",
            "[0.6845779]\n",
            "\n",
            "\n",
            "that was the worst movie I've ever seen\n",
            "[0.02462687]\n",
            "\n",
            "\n",
            "too much violence even for a Bond film\n",
            "[0.0012788]\n",
            "\n",
            "\n",
            "a captivating recounting of a cherished myth\n",
            "[0.7190546]\n",
            "\n",
            "\n",
            "I saw this movie yesterday and I was feeling low to start with,\n",
            " but it was such a wonderful movie that it lifted my spirits and brightened \n",
            " my day, you can't go wrong with a movie with Whoopi Goldberg in it.\n",
            "[0.72257805]\n",
            "\n",
            "\n",
            "I don't understand why it received an oscar recommendation\n",
            " for best movie, it was long and boring\n",
            "[0.92478323]\n",
            "\n",
            "\n",
            "the scenery was magnificent, the CGI of the dogs was so realistic I\n",
            " thought they were played by real dogs even though they talked!\n",
            "[0.4415211]\n",
            "\n",
            "\n",
            "The ending was so sad and yet so uplifting at the same time. \n",
            " I'm looking for an excuse to see it again\n",
            "[0.71130836]\n",
            "\n",
            "\n",
            "I had expected so much more from a movie made by the director \n",
            " who made my most favorite movie ever, I was very disappointed in the tedious \n",
            " story\n",
            "[0.03442556]\n",
            "\n",
            "\n",
            "I wish I could watch this movie every day for the rest of my life\n",
            "[0.3342461]\n",
            "\n",
            "\n"
          ],
          "name": "stdout"
        }
      ]
    },
    {
      "cell_type": "code",
      "metadata": {
        "id": "aTX36HOmsTWY",
        "colab_type": "code",
        "outputId": "e70dd301-45cb-4bf4-8360-70328679507e",
        "colab": {
          "base_uri": "https://localhost:8080/",
          "height": 857
        }
      },
      "source": [
        "print(\"===========================\\n\",\"With bidirectional GRU\\n\", \"============================\")\n",
        "predict_review(model_gru, more_reviews)"
      ],
      "execution_count": 0,
      "outputs": [
        {
          "output_type": "stream",
          "text": [
            "===========================\n",
            " With bidirectional GRU\n",
            " ============================\n",
            "I loved this movie\n",
            "[0.4670689]\n",
            "\n",
            "\n",
            "that was the worst movie I've ever seen\n",
            "[0.17148882]\n",
            "\n",
            "\n",
            "too much violence even for a Bond film\n",
            "[0.16574785]\n",
            "\n",
            "\n",
            "a captivating recounting of a cherished myth\n",
            "[0.5429772]\n",
            "\n",
            "\n",
            "I saw this movie yesterday and I was feeling low to start with,\n",
            " but it was such a wonderful movie that it lifted my spirits and brightened \n",
            " my day, you can't go wrong with a movie with Whoopi Goldberg in it.\n",
            "[0.09520596]\n",
            "\n",
            "\n",
            "I don't understand why it received an oscar recommendation\n",
            " for best movie, it was long and boring\n",
            "[0.17555058]\n",
            "\n",
            "\n",
            "the scenery was magnificent, the CGI of the dogs was so realistic I\n",
            " thought they were played by real dogs even though they talked!\n",
            "[0.12029923]\n",
            "\n",
            "\n",
            "The ending was so sad and yet so uplifting at the same time. \n",
            " I'm looking for an excuse to see it again\n",
            "[0.25486508]\n",
            "\n",
            "\n",
            "I had expected so much more from a movie made by the director \n",
            " who made my most favorite movie ever, I was very disappointed in the tedious \n",
            " story\n",
            "[0.09021451]\n",
            "\n",
            "\n",
            "I wish I could watch this movie every day for the rest of my life\n",
            "[0.7982481]\n",
            "\n",
            "\n"
          ],
          "name": "stdout"
        }
      ]
    },
    {
      "cell_type": "code",
      "metadata": {
        "id": "VMdiGOMQsTcV",
        "colab_type": "code",
        "outputId": "082f73d6-ac04-4f3d-8c02-81239be1f257",
        "colab": {
          "base_uri": "https://localhost:8080/",
          "height": 857
        }
      },
      "source": [
        "print(\"===========================\\n\", \"With a single bidirectional LSTM:\\n\", \"===========================\")\n",
        "predict_review(model_bidi_lstm, more_reviews)"
      ],
      "execution_count": 0,
      "outputs": [
        {
          "output_type": "stream",
          "text": [
            "===========================\n",
            " With a single bidirectional LSTM:\n",
            " ===========================\n",
            "I loved this movie\n",
            "[0.48966357]\n",
            "\n",
            "\n",
            "that was the worst movie I've ever seen\n",
            "[0.3029662]\n",
            "\n",
            "\n",
            "too much violence even for a Bond film\n",
            "[0.37349677]\n",
            "\n",
            "\n",
            "a captivating recounting of a cherished myth\n",
            "[0.50168824]\n",
            "\n",
            "\n",
            "I saw this movie yesterday and I was feeling low to start with,\n",
            " but it was such a wonderful movie that it lifted my spirits and brightened \n",
            " my day, you can't go wrong with a movie with Whoopi Goldberg in it.\n",
            "[0.15307385]\n",
            "\n",
            "\n",
            "I don't understand why it received an oscar recommendation\n",
            " for best movie, it was long and boring\n",
            "[0.25848356]\n",
            "\n",
            "\n",
            "the scenery was magnificent, the CGI of the dogs was so realistic I\n",
            " thought they were played by real dogs even though they talked!\n",
            "[0.1674032]\n",
            "\n",
            "\n",
            "The ending was so sad and yet so uplifting at the same time. \n",
            " I'm looking for an excuse to see it again\n",
            "[0.364522]\n",
            "\n",
            "\n",
            "I had expected so much more from a movie made by the director \n",
            " who made my most favorite movie ever, I was very disappointed in the tedious \n",
            " story\n",
            "[0.13580525]\n",
            "\n",
            "\n",
            "I wish I could watch this movie every day for the rest of my life\n",
            "[0.3659319]\n",
            "\n",
            "\n"
          ],
          "name": "stdout"
        }
      ]
    },
    {
      "cell_type": "code",
      "metadata": {
        "id": "w3N1Ee5bsTjQ",
        "colab_type": "code",
        "outputId": "af09e5bf-f082-42f0-8417-160ba33aa4b7",
        "colab": {
          "base_uri": "https://localhost:8080/",
          "height": 857
        }
      },
      "source": [
        "print(\"===========================\\n\", \"With multiple bidirectional LSTM:\\n\", \"==========================\")\n",
        "predict_review(model_multiple_bidi_lstm, more_reviews)"
      ],
      "execution_count": 0,
      "outputs": [
        {
          "output_type": "stream",
          "text": [
            "===========================\n",
            " With multiple bidirectional LSTM:\n",
            " ==========================\n",
            "I loved this movie\n",
            "[0.7919378]\n",
            "\n",
            "\n",
            "that was the worst movie I've ever seen\n",
            "[0.0333861]\n",
            "\n",
            "\n",
            "too much violence even for a Bond film\n",
            "[0.00940025]\n",
            "\n",
            "\n",
            "a captivating recounting of a cherished myth\n",
            "[0.99482876]\n",
            "\n",
            "\n",
            "I saw this movie yesterday and I was feeling low to start with,\n",
            " but it was such a wonderful movie that it lifted my spirits and brightened \n",
            " my day, you can't go wrong with a movie with Whoopi Goldberg in it.\n",
            "[0.9982146]\n",
            "\n",
            "\n",
            "I don't understand why it received an oscar recommendation\n",
            " for best movie, it was long and boring\n",
            "[0.99802893]\n",
            "\n",
            "\n",
            "the scenery was magnificent, the CGI of the dogs was so realistic I\n",
            " thought they were played by real dogs even though they talked!\n",
            "[0.9707808]\n",
            "\n",
            "\n",
            "The ending was so sad and yet so uplifting at the same time. \n",
            " I'm looking for an excuse to see it again\n",
            "[0.9973941]\n",
            "\n",
            "\n",
            "I had expected so much more from a movie made by the director \n",
            " who made my most favorite movie ever, I was very disappointed in the tedious \n",
            " story\n",
            "[0.00294731]\n",
            "\n",
            "\n",
            "I wish I could watch this movie every day for the rest of my life\n",
            "[0.00869314]\n",
            "\n",
            "\n"
          ],
          "name": "stdout"
        }
      ]
    }
  ]
}